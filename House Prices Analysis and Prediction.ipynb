{
 "cells": [
  {
   "cell_type": "code",
   "execution_count": 1,
   "id": "2551dda7",
   "metadata": {},
   "outputs": [],
   "source": [
    "import numpy as np\n",
    "import pandas as pd\n",
    "import matplotlib.pyplot as plt\n",
    "import seaborn as sns\n",
    "from statsmodels.api import OLS\n",
    "\n",
    "from sklearn.preprocessing import StandardScaler\n",
    "from sklearn.model_selection import train_test_split\n",
    "from sklearn.linear_model import LinearRegression\n",
    "from sklearn.ensemble import RandomForestRegressor\n",
    "from sklearn.tree import DecisionTreeRegressor\n",
    "from sklearn.metrics import mean_squared_error\n",
    "\n",
    "import torch\n",
    "import torch.nn as nn\n",
    "import torch.nn.functional as F\n",
    "import torch.optim as optim\n",
    "from torch.utils.data import DataLoader, Dataset\n",
    "from torchvision import transforms\n",
    "\n",
    "%matplotlib inline"
   ]
  },
  {
   "cell_type": "code",
   "execution_count": 2,
   "id": "4a1e23ae",
   "metadata": {},
   "outputs": [],
   "source": [
    "import warnings\n",
    "warnings.filterwarnings(\"ignore\")"
   ]
  },
  {
   "cell_type": "code",
   "execution_count": 3,
   "id": "968f50da",
   "metadata": {},
   "outputs": [],
   "source": [
    "BASE_COLOR = sns.color_palette()[0]\n",
    "TEST_SIZE = 0.2\n",
    "RANDOM_STATE = 42\n",
    "BATCH_SIZE = 32\n",
    "LR = 0.01"
   ]
  },
  {
   "cell_type": "markdown",
   "id": "f526da31",
   "metadata": {},
   "source": [
    "# Load train and test Datasets"
   ]
  },
  {
   "cell_type": "code",
   "execution_count": 4,
   "id": "e8b4db0e",
   "metadata": {},
   "outputs": [],
   "source": [
    "train_df = pd.read_csv(\"./data/train.csv\")\n",
    "test_df = pd.read_csv(\"./data/test.csv\")"
   ]
  },
  {
   "cell_type": "code",
   "execution_count": 5,
   "id": "ebca874c",
   "metadata": {},
   "outputs": [
    {
     "data": {
      "text/html": [
       "<div>\n",
       "<style scoped>\n",
       "    .dataframe tbody tr th:only-of-type {\n",
       "        vertical-align: middle;\n",
       "    }\n",
       "\n",
       "    .dataframe tbody tr th {\n",
       "        vertical-align: top;\n",
       "    }\n",
       "\n",
       "    .dataframe thead th {\n",
       "        text-align: right;\n",
       "    }\n",
       "</style>\n",
       "<table border=\"1\" class=\"dataframe\">\n",
       "  <thead>\n",
       "    <tr style=\"text-align: right;\">\n",
       "      <th></th>\n",
       "      <th>Id</th>\n",
       "      <th>MSSubClass</th>\n",
       "      <th>MSZoning</th>\n",
       "      <th>LotFrontage</th>\n",
       "      <th>LotArea</th>\n",
       "      <th>Street</th>\n",
       "      <th>Alley</th>\n",
       "      <th>LotShape</th>\n",
       "      <th>LandContour</th>\n",
       "      <th>Utilities</th>\n",
       "      <th>...</th>\n",
       "      <th>PoolArea</th>\n",
       "      <th>PoolQC</th>\n",
       "      <th>Fence</th>\n",
       "      <th>MiscFeature</th>\n",
       "      <th>MiscVal</th>\n",
       "      <th>MoSold</th>\n",
       "      <th>YrSold</th>\n",
       "      <th>SaleType</th>\n",
       "      <th>SaleCondition</th>\n",
       "      <th>SalePrice</th>\n",
       "    </tr>\n",
       "  </thead>\n",
       "  <tbody>\n",
       "    <tr>\n",
       "      <th>0</th>\n",
       "      <td>1</td>\n",
       "      <td>60</td>\n",
       "      <td>RL</td>\n",
       "      <td>65.0</td>\n",
       "      <td>8450</td>\n",
       "      <td>Pave</td>\n",
       "      <td>NaN</td>\n",
       "      <td>Reg</td>\n",
       "      <td>Lvl</td>\n",
       "      <td>AllPub</td>\n",
       "      <td>...</td>\n",
       "      <td>0</td>\n",
       "      <td>NaN</td>\n",
       "      <td>NaN</td>\n",
       "      <td>NaN</td>\n",
       "      <td>0</td>\n",
       "      <td>2</td>\n",
       "      <td>2008</td>\n",
       "      <td>WD</td>\n",
       "      <td>Normal</td>\n",
       "      <td>208500</td>\n",
       "    </tr>\n",
       "    <tr>\n",
       "      <th>1</th>\n",
       "      <td>2</td>\n",
       "      <td>20</td>\n",
       "      <td>RL</td>\n",
       "      <td>80.0</td>\n",
       "      <td>9600</td>\n",
       "      <td>Pave</td>\n",
       "      <td>NaN</td>\n",
       "      <td>Reg</td>\n",
       "      <td>Lvl</td>\n",
       "      <td>AllPub</td>\n",
       "      <td>...</td>\n",
       "      <td>0</td>\n",
       "      <td>NaN</td>\n",
       "      <td>NaN</td>\n",
       "      <td>NaN</td>\n",
       "      <td>0</td>\n",
       "      <td>5</td>\n",
       "      <td>2007</td>\n",
       "      <td>WD</td>\n",
       "      <td>Normal</td>\n",
       "      <td>181500</td>\n",
       "    </tr>\n",
       "    <tr>\n",
       "      <th>2</th>\n",
       "      <td>3</td>\n",
       "      <td>60</td>\n",
       "      <td>RL</td>\n",
       "      <td>68.0</td>\n",
       "      <td>11250</td>\n",
       "      <td>Pave</td>\n",
       "      <td>NaN</td>\n",
       "      <td>IR1</td>\n",
       "      <td>Lvl</td>\n",
       "      <td>AllPub</td>\n",
       "      <td>...</td>\n",
       "      <td>0</td>\n",
       "      <td>NaN</td>\n",
       "      <td>NaN</td>\n",
       "      <td>NaN</td>\n",
       "      <td>0</td>\n",
       "      <td>9</td>\n",
       "      <td>2008</td>\n",
       "      <td>WD</td>\n",
       "      <td>Normal</td>\n",
       "      <td>223500</td>\n",
       "    </tr>\n",
       "    <tr>\n",
       "      <th>3</th>\n",
       "      <td>4</td>\n",
       "      <td>70</td>\n",
       "      <td>RL</td>\n",
       "      <td>60.0</td>\n",
       "      <td>9550</td>\n",
       "      <td>Pave</td>\n",
       "      <td>NaN</td>\n",
       "      <td>IR1</td>\n",
       "      <td>Lvl</td>\n",
       "      <td>AllPub</td>\n",
       "      <td>...</td>\n",
       "      <td>0</td>\n",
       "      <td>NaN</td>\n",
       "      <td>NaN</td>\n",
       "      <td>NaN</td>\n",
       "      <td>0</td>\n",
       "      <td>2</td>\n",
       "      <td>2006</td>\n",
       "      <td>WD</td>\n",
       "      <td>Abnorml</td>\n",
       "      <td>140000</td>\n",
       "    </tr>\n",
       "    <tr>\n",
       "      <th>4</th>\n",
       "      <td>5</td>\n",
       "      <td>60</td>\n",
       "      <td>RL</td>\n",
       "      <td>84.0</td>\n",
       "      <td>14260</td>\n",
       "      <td>Pave</td>\n",
       "      <td>NaN</td>\n",
       "      <td>IR1</td>\n",
       "      <td>Lvl</td>\n",
       "      <td>AllPub</td>\n",
       "      <td>...</td>\n",
       "      <td>0</td>\n",
       "      <td>NaN</td>\n",
       "      <td>NaN</td>\n",
       "      <td>NaN</td>\n",
       "      <td>0</td>\n",
       "      <td>12</td>\n",
       "      <td>2008</td>\n",
       "      <td>WD</td>\n",
       "      <td>Normal</td>\n",
       "      <td>250000</td>\n",
       "    </tr>\n",
       "  </tbody>\n",
       "</table>\n",
       "<p>5 rows × 81 columns</p>\n",
       "</div>"
      ],
      "text/plain": [
       "   Id  MSSubClass MSZoning  LotFrontage  LotArea Street Alley LotShape  \\\n",
       "0   1          60       RL         65.0     8450   Pave   NaN      Reg   \n",
       "1   2          20       RL         80.0     9600   Pave   NaN      Reg   \n",
       "2   3          60       RL         68.0    11250   Pave   NaN      IR1   \n",
       "3   4          70       RL         60.0     9550   Pave   NaN      IR1   \n",
       "4   5          60       RL         84.0    14260   Pave   NaN      IR1   \n",
       "\n",
       "  LandContour Utilities  ... PoolArea PoolQC Fence MiscFeature MiscVal MoSold  \\\n",
       "0         Lvl    AllPub  ...        0    NaN   NaN         NaN       0      2   \n",
       "1         Lvl    AllPub  ...        0    NaN   NaN         NaN       0      5   \n",
       "2         Lvl    AllPub  ...        0    NaN   NaN         NaN       0      9   \n",
       "3         Lvl    AllPub  ...        0    NaN   NaN         NaN       0      2   \n",
       "4         Lvl    AllPub  ...        0    NaN   NaN         NaN       0     12   \n",
       "\n",
       "  YrSold  SaleType  SaleCondition  SalePrice  \n",
       "0   2008        WD         Normal     208500  \n",
       "1   2007        WD         Normal     181500  \n",
       "2   2008        WD         Normal     223500  \n",
       "3   2006        WD        Abnorml     140000  \n",
       "4   2008        WD         Normal     250000  \n",
       "\n",
       "[5 rows x 81 columns]"
      ]
     },
     "execution_count": 5,
     "metadata": {},
     "output_type": "execute_result"
    }
   ],
   "source": [
    "train_df.head()"
   ]
  },
  {
   "cell_type": "markdown",
   "id": "0498d595",
   "metadata": {},
   "source": [
    "# Wrangle train Dataset"
   ]
  },
  {
   "cell_type": "markdown",
   "id": "0f74f088",
   "metadata": {},
   "source": [
    "## Dropping NaN values"
   ]
  },
  {
   "cell_type": "markdown",
   "id": "e16ff4df",
   "metadata": {},
   "source": [
    "droping NaN value with as follows:\n",
    " - if column has NaN values more than 200 entry will drop that column\n",
    " - if column has NaN values less than 200:\n",
    " - if column is numeric will fillna with the `mean`\n",
    " - if column is categorical will dropit"
   ]
  },
  {
   "cell_type": "code",
   "execution_count": 6,
   "id": "b314b753",
   "metadata": {},
   "outputs": [
    {
     "data": {
      "text/plain": [
       "LotFrontage      259\n",
       "Alley           1369\n",
       "MasVnrType         8\n",
       "MasVnrArea         8\n",
       "BsmtQual          37\n",
       "BsmtCond          37\n",
       "BsmtExposure      38\n",
       "BsmtFinType1      37\n",
       "BsmtFinType2      38\n",
       "Electrical         1\n",
       "FireplaceQu      690\n",
       "GarageType        81\n",
       "GarageYrBlt       81\n",
       "GarageFinish      81\n",
       "GarageQual        81\n",
       "GarageCond        81\n",
       "PoolQC          1453\n",
       "Fence           1179\n",
       "MiscFeature     1406\n",
       "dtype: int64"
      ]
     },
     "execution_count": 6,
     "metadata": {},
     "output_type": "execute_result"
    }
   ],
   "source": [
    "nan_cols = train_df.isna().sum()\n",
    "nan_cols = nan_cols[nan_cols > 0]\n",
    "nan_cols"
   ]
  },
  {
   "cell_type": "code",
   "execution_count": 7,
   "id": "96869b26",
   "metadata": {},
   "outputs": [
    {
     "data": {
      "text/html": [
       "<div>\n",
       "<style scoped>\n",
       "    .dataframe tbody tr th:only-of-type {\n",
       "        vertical-align: middle;\n",
       "    }\n",
       "\n",
       "    .dataframe tbody tr th {\n",
       "        vertical-align: top;\n",
       "    }\n",
       "\n",
       "    .dataframe thead th {\n",
       "        text-align: right;\n",
       "    }\n",
       "</style>\n",
       "<table border=\"1\" class=\"dataframe\">\n",
       "  <thead>\n",
       "    <tr style=\"text-align: right;\">\n",
       "      <th></th>\n",
       "      <th>Id</th>\n",
       "      <th>MSSubClass</th>\n",
       "      <th>MSZoning</th>\n",
       "      <th>LotArea</th>\n",
       "      <th>Street</th>\n",
       "      <th>LotShape</th>\n",
       "      <th>LandContour</th>\n",
       "      <th>Utilities</th>\n",
       "      <th>LotConfig</th>\n",
       "      <th>LandSlope</th>\n",
       "      <th>...</th>\n",
       "      <th>EnclosedPorch</th>\n",
       "      <th>3SsnPorch</th>\n",
       "      <th>ScreenPorch</th>\n",
       "      <th>PoolArea</th>\n",
       "      <th>MiscVal</th>\n",
       "      <th>MoSold</th>\n",
       "      <th>YrSold</th>\n",
       "      <th>SaleType</th>\n",
       "      <th>SaleCondition</th>\n",
       "      <th>SalePrice</th>\n",
       "    </tr>\n",
       "  </thead>\n",
       "  <tbody>\n",
       "    <tr>\n",
       "      <th>0</th>\n",
       "      <td>1</td>\n",
       "      <td>60</td>\n",
       "      <td>RL</td>\n",
       "      <td>8450</td>\n",
       "      <td>Pave</td>\n",
       "      <td>Reg</td>\n",
       "      <td>Lvl</td>\n",
       "      <td>AllPub</td>\n",
       "      <td>Inside</td>\n",
       "      <td>Gtl</td>\n",
       "      <td>...</td>\n",
       "      <td>0</td>\n",
       "      <td>0</td>\n",
       "      <td>0</td>\n",
       "      <td>0</td>\n",
       "      <td>0</td>\n",
       "      <td>2</td>\n",
       "      <td>2008</td>\n",
       "      <td>WD</td>\n",
       "      <td>Normal</td>\n",
       "      <td>208500</td>\n",
       "    </tr>\n",
       "    <tr>\n",
       "      <th>1</th>\n",
       "      <td>2</td>\n",
       "      <td>20</td>\n",
       "      <td>RL</td>\n",
       "      <td>9600</td>\n",
       "      <td>Pave</td>\n",
       "      <td>Reg</td>\n",
       "      <td>Lvl</td>\n",
       "      <td>AllPub</td>\n",
       "      <td>FR2</td>\n",
       "      <td>Gtl</td>\n",
       "      <td>...</td>\n",
       "      <td>0</td>\n",
       "      <td>0</td>\n",
       "      <td>0</td>\n",
       "      <td>0</td>\n",
       "      <td>0</td>\n",
       "      <td>5</td>\n",
       "      <td>2007</td>\n",
       "      <td>WD</td>\n",
       "      <td>Normal</td>\n",
       "      <td>181500</td>\n",
       "    </tr>\n",
       "    <tr>\n",
       "      <th>2</th>\n",
       "      <td>3</td>\n",
       "      <td>60</td>\n",
       "      <td>RL</td>\n",
       "      <td>11250</td>\n",
       "      <td>Pave</td>\n",
       "      <td>IR1</td>\n",
       "      <td>Lvl</td>\n",
       "      <td>AllPub</td>\n",
       "      <td>Inside</td>\n",
       "      <td>Gtl</td>\n",
       "      <td>...</td>\n",
       "      <td>0</td>\n",
       "      <td>0</td>\n",
       "      <td>0</td>\n",
       "      <td>0</td>\n",
       "      <td>0</td>\n",
       "      <td>9</td>\n",
       "      <td>2008</td>\n",
       "      <td>WD</td>\n",
       "      <td>Normal</td>\n",
       "      <td>223500</td>\n",
       "    </tr>\n",
       "    <tr>\n",
       "      <th>3</th>\n",
       "      <td>4</td>\n",
       "      <td>70</td>\n",
       "      <td>RL</td>\n",
       "      <td>9550</td>\n",
       "      <td>Pave</td>\n",
       "      <td>IR1</td>\n",
       "      <td>Lvl</td>\n",
       "      <td>AllPub</td>\n",
       "      <td>Corner</td>\n",
       "      <td>Gtl</td>\n",
       "      <td>...</td>\n",
       "      <td>272</td>\n",
       "      <td>0</td>\n",
       "      <td>0</td>\n",
       "      <td>0</td>\n",
       "      <td>0</td>\n",
       "      <td>2</td>\n",
       "      <td>2006</td>\n",
       "      <td>WD</td>\n",
       "      <td>Abnorml</td>\n",
       "      <td>140000</td>\n",
       "    </tr>\n",
       "    <tr>\n",
       "      <th>4</th>\n",
       "      <td>5</td>\n",
       "      <td>60</td>\n",
       "      <td>RL</td>\n",
       "      <td>14260</td>\n",
       "      <td>Pave</td>\n",
       "      <td>IR1</td>\n",
       "      <td>Lvl</td>\n",
       "      <td>AllPub</td>\n",
       "      <td>FR2</td>\n",
       "      <td>Gtl</td>\n",
       "      <td>...</td>\n",
       "      <td>0</td>\n",
       "      <td>0</td>\n",
       "      <td>0</td>\n",
       "      <td>0</td>\n",
       "      <td>0</td>\n",
       "      <td>12</td>\n",
       "      <td>2008</td>\n",
       "      <td>WD</td>\n",
       "      <td>Normal</td>\n",
       "      <td>250000</td>\n",
       "    </tr>\n",
       "  </tbody>\n",
       "</table>\n",
       "<p>5 rows × 75 columns</p>\n",
       "</div>"
      ],
      "text/plain": [
       "   Id  MSSubClass MSZoning  LotArea Street LotShape LandContour Utilities  \\\n",
       "0   1          60       RL     8450   Pave      Reg         Lvl    AllPub   \n",
       "1   2          20       RL     9600   Pave      Reg         Lvl    AllPub   \n",
       "2   3          60       RL    11250   Pave      IR1         Lvl    AllPub   \n",
       "3   4          70       RL     9550   Pave      IR1         Lvl    AllPub   \n",
       "4   5          60       RL    14260   Pave      IR1         Lvl    AllPub   \n",
       "\n",
       "  LotConfig LandSlope  ... EnclosedPorch 3SsnPorch ScreenPorch PoolArea  \\\n",
       "0    Inside       Gtl  ...             0         0           0        0   \n",
       "1       FR2       Gtl  ...             0         0           0        0   \n",
       "2    Inside       Gtl  ...             0         0           0        0   \n",
       "3    Corner       Gtl  ...           272         0           0        0   \n",
       "4       FR2       Gtl  ...             0         0           0        0   \n",
       "\n",
       "  MiscVal  MoSold  YrSold  SaleType  SaleCondition SalePrice  \n",
       "0       0       2    2008        WD         Normal    208500  \n",
       "1       0       5    2007        WD         Normal    181500  \n",
       "2       0       9    2008        WD         Normal    223500  \n",
       "3       0       2    2006        WD        Abnorml    140000  \n",
       "4       0      12    2008        WD         Normal    250000  \n",
       "\n",
       "[5 rows x 75 columns]"
      ]
     },
     "execution_count": 7,
     "metadata": {},
     "output_type": "execute_result"
    }
   ],
   "source": [
    "nan_cols_to_drop = nan_cols[nan_cols > 200]\n",
    "train_df = train_df.drop(nan_cols_to_drop.index.values, axis='columns')\n",
    "train_df.head()"
   ]
  },
  {
   "cell_type": "code",
   "execution_count": 8,
   "id": "f164dbc3",
   "metadata": {},
   "outputs": [
    {
     "data": {
      "text/plain": [
       "Index(['MasVnrType', 'BsmtQual', 'BsmtCond', 'BsmtExposure', 'BsmtFinType1',\n",
       "       'BsmtFinType2', 'Electrical', 'GarageType', 'GarageFinish',\n",
       "       'GarageQual', 'GarageCond'],\n",
       "      dtype='object')"
      ]
     },
     "execution_count": 8,
     "metadata": {},
     "output_type": "execute_result"
    }
   ],
   "source": [
    "nan_cols = train_df.isna().sum()\n",
    "nan_cols = nan_cols[nan_cols > 0]\n",
    "# nan_cols\n",
    "non_numeric_nan_cols = train_df[nan_cols.index.values].select_dtypes('object').columns\n",
    "non_numeric_nan_cols"
   ]
  },
  {
   "cell_type": "code",
   "execution_count": 9,
   "id": "1fcc22f4",
   "metadata": {
    "scrolled": true
   },
   "outputs": [
    {
     "data": {
      "text/html": [
       "<div>\n",
       "<style scoped>\n",
       "    .dataframe tbody tr th:only-of-type {\n",
       "        vertical-align: middle;\n",
       "    }\n",
       "\n",
       "    .dataframe tbody tr th {\n",
       "        vertical-align: top;\n",
       "    }\n",
       "\n",
       "    .dataframe thead th {\n",
       "        text-align: right;\n",
       "    }\n",
       "</style>\n",
       "<table border=\"1\" class=\"dataframe\">\n",
       "  <thead>\n",
       "    <tr style=\"text-align: right;\">\n",
       "      <th></th>\n",
       "      <th>Id</th>\n",
       "      <th>MSSubClass</th>\n",
       "      <th>MSZoning</th>\n",
       "      <th>LotArea</th>\n",
       "      <th>Street</th>\n",
       "      <th>LotShape</th>\n",
       "      <th>LandContour</th>\n",
       "      <th>Utilities</th>\n",
       "      <th>LotConfig</th>\n",
       "      <th>LandSlope</th>\n",
       "      <th>...</th>\n",
       "      <th>EnclosedPorch</th>\n",
       "      <th>3SsnPorch</th>\n",
       "      <th>ScreenPorch</th>\n",
       "      <th>PoolArea</th>\n",
       "      <th>MiscVal</th>\n",
       "      <th>MoSold</th>\n",
       "      <th>YrSold</th>\n",
       "      <th>SaleType</th>\n",
       "      <th>SaleCondition</th>\n",
       "      <th>SalePrice</th>\n",
       "    </tr>\n",
       "  </thead>\n",
       "  <tbody>\n",
       "    <tr>\n",
       "      <th>0</th>\n",
       "      <td>1</td>\n",
       "      <td>60</td>\n",
       "      <td>RL</td>\n",
       "      <td>8450</td>\n",
       "      <td>Pave</td>\n",
       "      <td>Reg</td>\n",
       "      <td>Lvl</td>\n",
       "      <td>AllPub</td>\n",
       "      <td>Inside</td>\n",
       "      <td>Gtl</td>\n",
       "      <td>...</td>\n",
       "      <td>0</td>\n",
       "      <td>0</td>\n",
       "      <td>0</td>\n",
       "      <td>0</td>\n",
       "      <td>0</td>\n",
       "      <td>2</td>\n",
       "      <td>2008</td>\n",
       "      <td>WD</td>\n",
       "      <td>Normal</td>\n",
       "      <td>208500</td>\n",
       "    </tr>\n",
       "    <tr>\n",
       "      <th>1</th>\n",
       "      <td>2</td>\n",
       "      <td>20</td>\n",
       "      <td>RL</td>\n",
       "      <td>9600</td>\n",
       "      <td>Pave</td>\n",
       "      <td>Reg</td>\n",
       "      <td>Lvl</td>\n",
       "      <td>AllPub</td>\n",
       "      <td>FR2</td>\n",
       "      <td>Gtl</td>\n",
       "      <td>...</td>\n",
       "      <td>0</td>\n",
       "      <td>0</td>\n",
       "      <td>0</td>\n",
       "      <td>0</td>\n",
       "      <td>0</td>\n",
       "      <td>5</td>\n",
       "      <td>2007</td>\n",
       "      <td>WD</td>\n",
       "      <td>Normal</td>\n",
       "      <td>181500</td>\n",
       "    </tr>\n",
       "    <tr>\n",
       "      <th>2</th>\n",
       "      <td>3</td>\n",
       "      <td>60</td>\n",
       "      <td>RL</td>\n",
       "      <td>11250</td>\n",
       "      <td>Pave</td>\n",
       "      <td>IR1</td>\n",
       "      <td>Lvl</td>\n",
       "      <td>AllPub</td>\n",
       "      <td>Inside</td>\n",
       "      <td>Gtl</td>\n",
       "      <td>...</td>\n",
       "      <td>0</td>\n",
       "      <td>0</td>\n",
       "      <td>0</td>\n",
       "      <td>0</td>\n",
       "      <td>0</td>\n",
       "      <td>9</td>\n",
       "      <td>2008</td>\n",
       "      <td>WD</td>\n",
       "      <td>Normal</td>\n",
       "      <td>223500</td>\n",
       "    </tr>\n",
       "    <tr>\n",
       "      <th>3</th>\n",
       "      <td>4</td>\n",
       "      <td>70</td>\n",
       "      <td>RL</td>\n",
       "      <td>9550</td>\n",
       "      <td>Pave</td>\n",
       "      <td>IR1</td>\n",
       "      <td>Lvl</td>\n",
       "      <td>AllPub</td>\n",
       "      <td>Corner</td>\n",
       "      <td>Gtl</td>\n",
       "      <td>...</td>\n",
       "      <td>272</td>\n",
       "      <td>0</td>\n",
       "      <td>0</td>\n",
       "      <td>0</td>\n",
       "      <td>0</td>\n",
       "      <td>2</td>\n",
       "      <td>2006</td>\n",
       "      <td>WD</td>\n",
       "      <td>Abnorml</td>\n",
       "      <td>140000</td>\n",
       "    </tr>\n",
       "    <tr>\n",
       "      <th>4</th>\n",
       "      <td>5</td>\n",
       "      <td>60</td>\n",
       "      <td>RL</td>\n",
       "      <td>14260</td>\n",
       "      <td>Pave</td>\n",
       "      <td>IR1</td>\n",
       "      <td>Lvl</td>\n",
       "      <td>AllPub</td>\n",
       "      <td>FR2</td>\n",
       "      <td>Gtl</td>\n",
       "      <td>...</td>\n",
       "      <td>0</td>\n",
       "      <td>0</td>\n",
       "      <td>0</td>\n",
       "      <td>0</td>\n",
       "      <td>0</td>\n",
       "      <td>12</td>\n",
       "      <td>2008</td>\n",
       "      <td>WD</td>\n",
       "      <td>Normal</td>\n",
       "      <td>250000</td>\n",
       "    </tr>\n",
       "  </tbody>\n",
       "</table>\n",
       "<p>5 rows × 64 columns</p>\n",
       "</div>"
      ],
      "text/plain": [
       "   Id  MSSubClass MSZoning  LotArea Street LotShape LandContour Utilities  \\\n",
       "0   1          60       RL     8450   Pave      Reg         Lvl    AllPub   \n",
       "1   2          20       RL     9600   Pave      Reg         Lvl    AllPub   \n",
       "2   3          60       RL    11250   Pave      IR1         Lvl    AllPub   \n",
       "3   4          70       RL     9550   Pave      IR1         Lvl    AllPub   \n",
       "4   5          60       RL    14260   Pave      IR1         Lvl    AllPub   \n",
       "\n",
       "  LotConfig LandSlope  ... EnclosedPorch 3SsnPorch ScreenPorch PoolArea  \\\n",
       "0    Inside       Gtl  ...             0         0           0        0   \n",
       "1       FR2       Gtl  ...             0         0           0        0   \n",
       "2    Inside       Gtl  ...             0         0           0        0   \n",
       "3    Corner       Gtl  ...           272         0           0        0   \n",
       "4       FR2       Gtl  ...             0         0           0        0   \n",
       "\n",
       "  MiscVal  MoSold  YrSold  SaleType  SaleCondition SalePrice  \n",
       "0       0       2    2008        WD         Normal    208500  \n",
       "1       0       5    2007        WD         Normal    181500  \n",
       "2       0       9    2008        WD         Normal    223500  \n",
       "3       0       2    2006        WD        Abnorml    140000  \n",
       "4       0      12    2008        WD         Normal    250000  \n",
       "\n",
       "[5 rows x 64 columns]"
      ]
     },
     "execution_count": 9,
     "metadata": {},
     "output_type": "execute_result"
    }
   ],
   "source": [
    "train_df = train_df.drop(non_numeric_nan_cols, axis=\"columns\")\n",
    "train_df.head()"
   ]
  },
  {
   "cell_type": "markdown",
   "id": "70dcfa24",
   "metadata": {},
   "source": [
    "## Checking any duplicates"
   ]
  },
  {
   "cell_type": "code",
   "execution_count": 10,
   "id": "253b42e5",
   "metadata": {},
   "outputs": [
    {
     "data": {
      "text/html": [
       "<div>\n",
       "<style scoped>\n",
       "    .dataframe tbody tr th:only-of-type {\n",
       "        vertical-align: middle;\n",
       "    }\n",
       "\n",
       "    .dataframe tbody tr th {\n",
       "        vertical-align: top;\n",
       "    }\n",
       "\n",
       "    .dataframe thead th {\n",
       "        text-align: right;\n",
       "    }\n",
       "</style>\n",
       "<table border=\"1\" class=\"dataframe\">\n",
       "  <thead>\n",
       "    <tr style=\"text-align: right;\">\n",
       "      <th></th>\n",
       "      <th>Id</th>\n",
       "      <th>MSSubClass</th>\n",
       "      <th>MSZoning</th>\n",
       "      <th>LotArea</th>\n",
       "      <th>Street</th>\n",
       "      <th>LotShape</th>\n",
       "      <th>LandContour</th>\n",
       "      <th>Utilities</th>\n",
       "      <th>LotConfig</th>\n",
       "      <th>LandSlope</th>\n",
       "      <th>...</th>\n",
       "      <th>EnclosedPorch</th>\n",
       "      <th>3SsnPorch</th>\n",
       "      <th>ScreenPorch</th>\n",
       "      <th>PoolArea</th>\n",
       "      <th>MiscVal</th>\n",
       "      <th>MoSold</th>\n",
       "      <th>YrSold</th>\n",
       "      <th>SaleType</th>\n",
       "      <th>SaleCondition</th>\n",
       "      <th>SalePrice</th>\n",
       "    </tr>\n",
       "  </thead>\n",
       "  <tbody>\n",
       "  </tbody>\n",
       "</table>\n",
       "<p>0 rows × 64 columns</p>\n",
       "</div>"
      ],
      "text/plain": [
       "Empty DataFrame\n",
       "Columns: [Id, MSSubClass, MSZoning, LotArea, Street, LotShape, LandContour, Utilities, LotConfig, LandSlope, Neighborhood, Condition1, Condition2, BldgType, HouseStyle, OverallQual, OverallCond, YearBuilt, YearRemodAdd, RoofStyle, RoofMatl, Exterior1st, Exterior2nd, MasVnrArea, ExterQual, ExterCond, Foundation, BsmtFinSF1, BsmtFinSF2, BsmtUnfSF, TotalBsmtSF, Heating, HeatingQC, CentralAir, 1stFlrSF, 2ndFlrSF, LowQualFinSF, GrLivArea, BsmtFullBath, BsmtHalfBath, FullBath, HalfBath, BedroomAbvGr, KitchenAbvGr, KitchenQual, TotRmsAbvGrd, Functional, Fireplaces, GarageYrBlt, GarageCars, GarageArea, PavedDrive, WoodDeckSF, OpenPorchSF, EnclosedPorch, 3SsnPorch, ScreenPorch, PoolArea, MiscVal, MoSold, YrSold, SaleType, SaleCondition, SalePrice]\n",
       "Index: []\n",
       "\n",
       "[0 rows x 64 columns]"
      ]
     },
     "execution_count": 10,
     "metadata": {},
     "output_type": "execute_result"
    }
   ],
   "source": [
    "train_df[train_df.duplicated()]"
   ]
  },
  {
   "cell_type": "markdown",
   "id": "e55f8359",
   "metadata": {},
   "source": [
    "**No Duplicated** row in the dataset"
   ]
  },
  {
   "cell_type": "code",
   "execution_count": 11,
   "id": "bd91fafc",
   "metadata": {},
   "outputs": [
    {
     "data": {
      "text/plain": [
       "MasVnrArea      8\n",
       "GarageYrBlt    81\n",
       "dtype: int64"
      ]
     },
     "execution_count": 11,
     "metadata": {},
     "output_type": "execute_result"
    }
   ],
   "source": [
    "nan_cols = train_df.isna().sum()\n",
    "nan_cols = nan_cols[nan_cols > 0]\n",
    "nan_cols"
   ]
  },
  {
   "cell_type": "code",
   "execution_count": 12,
   "id": "e1f7dce3",
   "metadata": {},
   "outputs": [],
   "source": [
    "train_df['MasVnrArea'].fillna(train_df['MasVnrArea'].mean(), inplace=True)\n",
    "train_df['GarageYrBlt'].fillna(train_df['GarageYrBlt'].mean(), inplace=True)\n",
    "\n",
    "nan_cols = train_df.isna().sum()\n",
    "nan_cols = nan_cols[nan_cols > 0]\n",
    "\n",
    "assert len(nan_cols) == 0"
   ]
  },
  {
   "cell_type": "markdown",
   "id": "424befa7",
   "metadata": {},
   "source": [
    "## Inspecting Categorical Columns"
   ]
  },
  {
   "cell_type": "code",
   "execution_count": 13,
   "id": "f55e2544",
   "metadata": {},
   "outputs": [],
   "source": [
    "numeric_cols = train_df.select_dtypes('number').columns\n",
    "categorical_cols = train_df.select_dtypes('object').columns"
   ]
  },
  {
   "cell_type": "code",
   "execution_count": 14,
   "id": "58ed2a38",
   "metadata": {},
   "outputs": [
    {
     "data": {
      "text/plain": [
       "Index(['Id', 'MSSubClass', 'LotArea', 'OverallQual', 'OverallCond',\n",
       "       'YearBuilt', 'YearRemodAdd', 'MasVnrArea', 'BsmtFinSF1', 'BsmtFinSF2',\n",
       "       'BsmtUnfSF', 'TotalBsmtSF', '1stFlrSF', '2ndFlrSF', 'LowQualFinSF',\n",
       "       'GrLivArea', 'BsmtFullBath', 'BsmtHalfBath', 'FullBath', 'HalfBath',\n",
       "       'BedroomAbvGr', 'KitchenAbvGr', 'TotRmsAbvGrd', 'Fireplaces',\n",
       "       'GarageYrBlt', 'GarageCars', 'GarageArea', 'WoodDeckSF', 'OpenPorchSF',\n",
       "       'EnclosedPorch', '3SsnPorch', 'ScreenPorch', 'PoolArea', 'MiscVal',\n",
       "       'MoSold', 'YrSold', 'SalePrice'],\n",
       "      dtype='object')"
      ]
     },
     "execution_count": 14,
     "metadata": {},
     "output_type": "execute_result"
    }
   ],
   "source": [
    "numeric_cols"
   ]
  },
  {
   "cell_type": "code",
   "execution_count": 15,
   "id": "e1a0dcf4",
   "metadata": {},
   "outputs": [
    {
     "data": {
      "text/plain": [
       "Index(['MSZoning', 'Street', 'LotShape', 'LandContour', 'Utilities',\n",
       "       'LotConfig', 'LandSlope', 'Neighborhood', 'Condition1', 'Condition2',\n",
       "       'BldgType', 'HouseStyle', 'RoofStyle', 'RoofMatl', 'Exterior1st',\n",
       "       'Exterior2nd', 'ExterQual', 'ExterCond', 'Foundation', 'Heating',\n",
       "       'HeatingQC', 'CentralAir', 'KitchenQual', 'Functional', 'PavedDrive',\n",
       "       'SaleType', 'SaleCondition'],\n",
       "      dtype='object')"
      ]
     },
     "execution_count": 15,
     "metadata": {},
     "output_type": "execute_result"
    }
   ],
   "source": [
    "categorical_cols"
   ]
  },
  {
   "cell_type": "markdown",
   "id": "6afa8b1b",
   "metadata": {},
   "source": [
    "### MSZoning Analysis"
   ]
  },
  {
   "cell_type": "code",
   "execution_count": 16,
   "id": "ef16c597",
   "metadata": {},
   "outputs": [
    {
     "data": {
      "text/plain": [
       "RL         0.788356\n",
       "RM         0.149315\n",
       "FV         0.044521\n",
       "RH         0.010959\n",
       "C (all)    0.006849\n",
       "Name: MSZoning, dtype: float64"
      ]
     },
     "execution_count": 16,
     "metadata": {},
     "output_type": "execute_result"
    }
   ],
   "source": [
    "train_df['MSZoning'].value_counts(normalize=True).sort_values(ascending=False)"
   ]
  },
  {
   "cell_type": "markdown",
   "id": "faef7d58",
   "metadata": {},
   "source": [
    "**MSZoning** has a hig bias twards the **Residential Low Density** and **Residential Medium Density** zoning types."
   ]
  },
  {
   "cell_type": "markdown",
   "id": "f6fec3a3",
   "metadata": {},
   "source": [
    "### HouseStyle Analysis"
   ]
  },
  {
   "cell_type": "code",
   "execution_count": 17,
   "id": "33e017a1",
   "metadata": {},
   "outputs": [
    {
     "data": {
      "text/plain": [
       "1Story    0.497260\n",
       "2Story    0.304795\n",
       "1.5Fin    0.105479\n",
       "SLvl      0.044521\n",
       "SFoyer    0.025342\n",
       "1.5Unf    0.009589\n",
       "2.5Unf    0.007534\n",
       "2.5Fin    0.005479\n",
       "Name: HouseStyle, dtype: float64"
      ]
     },
     "execution_count": 17,
     "metadata": {},
     "output_type": "execute_result"
    }
   ],
   "source": [
    "train_df['HouseStyle'].value_counts(normalize=True).sort_values(ascending=False)"
   ]
  },
  {
   "cell_type": "markdown",
   "id": "2eb522d6",
   "metadata": {},
   "source": [
    "**HouseStyle** has major proportions twards **One Story**, **Two Story** and **One and one-half story: 2nd level unfinished**"
   ]
  },
  {
   "cell_type": "markdown",
   "id": "b4e0e0b9",
   "metadata": {},
   "source": [
    "### Functional Analysis"
   ]
  },
  {
   "cell_type": "code",
   "execution_count": 18,
   "id": "6e7cb2b4",
   "metadata": {},
   "outputs": [
    {
     "data": {
      "text/plain": [
       "Typ     0.931507\n",
       "Min2    0.023288\n",
       "Min1    0.021233\n",
       "Mod     0.010274\n",
       "Maj1    0.009589\n",
       "Maj2    0.003425\n",
       "Sev     0.000685\n",
       "Name: Functional, dtype: float64"
      ]
     },
     "execution_count": 18,
     "metadata": {},
     "output_type": "execute_result"
    }
   ],
   "source": [
    "train_df['Functional'].value_counts(normalize=True).sort_values(ascending=False)"
   ]
  },
  {
   "cell_type": "markdown",
   "id": "268610c2",
   "metadata": {},
   "source": [
    "**Functional** column has large proportion twards **Typical Functionality**"
   ]
  },
  {
   "cell_type": "markdown",
   "id": "bf97b19a",
   "metadata": {},
   "source": [
    "### SaleCondition Analysis"
   ]
  },
  {
   "cell_type": "code",
   "execution_count": 19,
   "id": "c3feb2a1",
   "metadata": {},
   "outputs": [
    {
     "data": {
      "text/plain": [
       "Normal     0.820548\n",
       "Partial    0.085616\n",
       "Abnorml    0.069178\n",
       "Family     0.013699\n",
       "Alloca     0.008219\n",
       "AdjLand    0.002740\n",
       "Name: SaleCondition, dtype: float64"
      ]
     },
     "execution_count": 19,
     "metadata": {},
     "output_type": "execute_result"
    }
   ],
   "source": [
    "train_df['SaleCondition'].value_counts(normalize=True).sort_values(ascending=False)"
   ]
  },
  {
   "cell_type": "markdown",
   "id": "06143f0c",
   "metadata": {},
   "source": [
    "**SaleCondition** has large proportion in being **Normal**"
   ]
  },
  {
   "cell_type": "markdown",
   "id": "79af3a1d",
   "metadata": {},
   "source": [
    "### Heating Analysis"
   ]
  },
  {
   "cell_type": "code",
   "execution_count": 20,
   "id": "bc1fc368",
   "metadata": {},
   "outputs": [
    {
     "data": {
      "text/plain": [
       "GasA     0.978082\n",
       "GasW     0.012329\n",
       "Grav     0.004795\n",
       "Wall     0.002740\n",
       "OthW     0.001370\n",
       "Floor    0.000685\n",
       "Name: Heating, dtype: float64"
      ]
     },
     "execution_count": 20,
     "metadata": {},
     "output_type": "execute_result"
    }
   ],
   "source": [
    "train_df['Heating'].value_counts(normalize=True).sort_values(ascending=False)"
   ]
  },
  {
   "cell_type": "markdown",
   "id": "497066e3",
   "metadata": {},
   "source": [
    "**Heating** columns has large proportion twards **Gas forced warm air furnace**"
   ]
  },
  {
   "cell_type": "markdown",
   "id": "d6aa9e9e",
   "metadata": {},
   "source": [
    "## Cleaning Categorical Columns"
   ]
  },
  {
   "cell_type": "code",
   "execution_count": 21,
   "id": "15feaa88",
   "metadata": {},
   "outputs": [
    {
     "data": {
      "text/html": [
       "<div>\n",
       "<style scoped>\n",
       "    .dataframe tbody tr th:only-of-type {\n",
       "        vertical-align: middle;\n",
       "    }\n",
       "\n",
       "    .dataframe tbody tr th {\n",
       "        vertical-align: top;\n",
       "    }\n",
       "\n",
       "    .dataframe thead th {\n",
       "        text-align: right;\n",
       "    }\n",
       "</style>\n",
       "<table border=\"1\" class=\"dataframe\">\n",
       "  <thead>\n",
       "    <tr style=\"text-align: right;\">\n",
       "      <th></th>\n",
       "      <th>zone_low_density</th>\n",
       "      <th>one_story_style</th>\n",
       "      <th>two_story_style</th>\n",
       "      <th>typical_functionality</th>\n",
       "      <th>one_half_story_style</th>\n",
       "      <th>gas_heating</th>\n",
       "      <th>sale_normal_condition</th>\n",
       "    </tr>\n",
       "  </thead>\n",
       "  <tbody>\n",
       "    <tr>\n",
       "      <th>0</th>\n",
       "      <td>1</td>\n",
       "      <td>0</td>\n",
       "      <td>1</td>\n",
       "      <td>1</td>\n",
       "      <td>0</td>\n",
       "      <td>1</td>\n",
       "      <td>1</td>\n",
       "    </tr>\n",
       "    <tr>\n",
       "      <th>1</th>\n",
       "      <td>1</td>\n",
       "      <td>1</td>\n",
       "      <td>0</td>\n",
       "      <td>1</td>\n",
       "      <td>0</td>\n",
       "      <td>1</td>\n",
       "      <td>1</td>\n",
       "    </tr>\n",
       "    <tr>\n",
       "      <th>2</th>\n",
       "      <td>1</td>\n",
       "      <td>0</td>\n",
       "      <td>1</td>\n",
       "      <td>1</td>\n",
       "      <td>0</td>\n",
       "      <td>1</td>\n",
       "      <td>1</td>\n",
       "    </tr>\n",
       "    <tr>\n",
       "      <th>3</th>\n",
       "      <td>1</td>\n",
       "      <td>0</td>\n",
       "      <td>1</td>\n",
       "      <td>1</td>\n",
       "      <td>0</td>\n",
       "      <td>1</td>\n",
       "      <td>0</td>\n",
       "    </tr>\n",
       "    <tr>\n",
       "      <th>4</th>\n",
       "      <td>1</td>\n",
       "      <td>0</td>\n",
       "      <td>1</td>\n",
       "      <td>1</td>\n",
       "      <td>0</td>\n",
       "      <td>1</td>\n",
       "      <td>1</td>\n",
       "    </tr>\n",
       "  </tbody>\n",
       "</table>\n",
       "</div>"
      ],
      "text/plain": [
       "   zone_low_density  one_story_style  two_story_style  typical_functionality  \\\n",
       "0                 1                0                1                      1   \n",
       "1                 1                1                0                      1   \n",
       "2                 1                0                1                      1   \n",
       "3                 1                0                1                      1   \n",
       "4                 1                0                1                      1   \n",
       "\n",
       "   one_half_story_style  gas_heating  sale_normal_condition  \n",
       "0                     0            1                      1  \n",
       "1                     0            1                      1  \n",
       "2                     0            1                      1  \n",
       "3                     0            1                      0  \n",
       "4                     0            1                      1  "
      ]
     },
     "execution_count": 21,
     "metadata": {},
     "output_type": "execute_result"
    }
   ],
   "source": [
    "## MSZoning Column\n",
    "train_df['zone_low_density'] = train_df['MSZoning'] == \"RL\"\n",
    "\n",
    "## HouseStyle Column\n",
    "train_df['one_story_style'] = train_df['HouseStyle'] == '1Story'\n",
    "train_df['two_story_style'] = train_df['HouseStyle'] == '2Story'\n",
    "train_df['one_half_story_style'] = train_df['HouseStyle'] == '1.5Fin'\n",
    "\n",
    "## Functional Column\n",
    "train_df['typical_functionality'] = train_df['Functional'] == 'Typ'\n",
    "\n",
    "## Sale Condition\n",
    "train_df['sale_normal_condition'] = train_df['SaleCondition'] == 'Normal'\n",
    "\n",
    "## Heating Column\n",
    "train_df['gas_heating'] = train_df['Heating'] == 'GasA'\n",
    "\n",
    "## conver to numeric values\n",
    "cols = ['zone_low_density', 'one_story_style', 'two_story_style', 'typical_functionality',\n",
    "        'one_half_story_style', 'gas_heating', 'sale_normal_condition']\n",
    "\n",
    "train_df[cols] = train_df[cols].astype('int')\n",
    "\n",
    "train_df[\n",
    "    ['zone_low_density', 'one_story_style', 'two_story_style', 'typical_functionality',\n",
    "     'one_half_story_style', 'gas_heating', 'sale_normal_condition']\n",
    "].head()"
   ]
  },
  {
   "cell_type": "markdown",
   "id": "cd2caffe",
   "metadata": {},
   "source": [
    "## Inspecting Numerical Columns"
   ]
  },
  {
   "cell_type": "code",
   "execution_count": 22,
   "id": "0de8eb6d",
   "metadata": {},
   "outputs": [
    {
     "data": {
      "text/plain": [
       "Index(['Id', 'MSSubClass', 'LotArea', 'OverallQual', 'OverallCond',\n",
       "       'YearBuilt', 'YearRemodAdd', 'MasVnrArea', 'BsmtFinSF1', 'BsmtFinSF2',\n",
       "       'BsmtUnfSF', 'TotalBsmtSF', '1stFlrSF', '2ndFlrSF', 'LowQualFinSF',\n",
       "       'GrLivArea', 'BsmtFullBath', 'BsmtHalfBath', 'FullBath', 'HalfBath',\n",
       "       'BedroomAbvGr', 'KitchenAbvGr', 'TotRmsAbvGrd', 'Fireplaces',\n",
       "       'GarageYrBlt', 'GarageCars', 'GarageArea', 'WoodDeckSF', 'OpenPorchSF',\n",
       "       'EnclosedPorch', '3SsnPorch', 'ScreenPorch', 'PoolArea', 'MiscVal',\n",
       "       'MoSold', 'YrSold', 'SalePrice'],\n",
       "      dtype='object')"
      ]
     },
     "execution_count": 22,
     "metadata": {},
     "output_type": "execute_result"
    }
   ],
   "source": [
    "numeric_cols"
   ]
  },
  {
   "cell_type": "markdown",
   "id": "e68cb606",
   "metadata": {},
   "source": [
    "### MSSubClass Analysis\n",
    " - **20\t1-STORY 1946 & NEWER ALL STYLES**\n",
    " - 30\t1-STORY 1945 & OLDER\n",
    " - 40\t1-STORY W/FINISHED ATTIC ALL AGES\n",
    " - 45\t1-1/2 STORY - UNFINISHED ALL AGES\n",
    " - 50\t1-1/2 STORY FINISHED ALL AGES\n",
    " - **60\t2-STORY 1946 & NEWER**\n",
    " - 70\t2-STORY 1945 & OLDER\n",
    " - 75\t2-1/2 STORY ALL AGES\n",
    " - 80\tSPLIT OR MULTI-LEVEL\n",
    " - 85\tSPLIT FOYER\n",
    " - 90\tDUPLEX - ALL STYLES AND AGES\n",
    " - 120\t1-STORY PUD (Planned Unit Development) - 1946 & NEWER\n",
    " - 150\t1-1/2 STORY PUD - ALL AGES\n",
    " - 160\t2-STORY PUD - 1946 & NEWER\n",
    " - 180\tPUD - MULTILEVEL - INCL SPLIT LEV/FOYER\n",
    " - 190\t2 FAMILY CONVERSION - ALL STYLES AND AGES\n",
    " \n",
    " this column must be conveted to be **categorical column**"
   ]
  },
  {
   "cell_type": "code",
   "execution_count": 23,
   "id": "99ab3c19",
   "metadata": {},
   "outputs": [
    {
     "data": {
      "image/png": "[encoded data removed]",
      "text/plain": [
       "<Figure size 432x288 with 1 Axes>"
      ]
     },
     "metadata": {
      "needs_background": "light"
     },
     "output_type": "display_data"
    }
   ],
   "source": [
    "train_df['MSSubClass'] = train_df['MSSubClass'].astype('object')\n",
    "\n",
    "train_df['MSSubClass'].value_counts(normalize=True).plot(kind='bar')\n",
    "plt.title(\"Count of each House Class\")\n",
    "plt.xlabel('Class')\n",
    "plt.ylabel('Count');"
   ]
  },
  {
   "cell_type": "markdown",
   "id": "1c90d798",
   "metadata": {},
   "source": [
    "### YearBuilt Analysis"
   ]
  },
  {
   "cell_type": "code",
   "execution_count": 24,
   "id": "20259366",
   "metadata": {},
   "outputs": [
    {
     "data": {
      "text/plain": [
       "<AxesSubplot:>"
      ]
     },
     "execution_count": 24,
     "metadata": {},
     "output_type": "execute_result"
    },
    {
     "data": {
      "image/png": "[encoded data removed]",
      "text/plain": [
       "<Figure size 432x288 with 1 Axes>"
      ]
     },
     "metadata": {
      "needs_background": "light"
     },
     "output_type": "display_data"
    }
   ],
   "source": [
    "(train_df['YearBuilt'].value_counts()\n",
    " [train_df['YearBuilt'].value_counts() > 20]\n",
    ").plot(kind='bar')"
   ]
  },
  {
   "cell_type": "markdown",
   "id": "a01e570a",
   "metadata": {},
   "source": [
    "### YearRemodAdd Analysis"
   ]
  },
  {
   "cell_type": "code",
   "execution_count": 25,
   "id": "dc70a50a",
   "metadata": {},
   "outputs": [
    {
     "data": {
      "text/plain": [
       "count    1460.000000\n",
       "mean       13.597945\n",
       "std        24.476465\n",
       "min         0.000000\n",
       "25%         0.000000\n",
       "50%         0.000000\n",
       "75%        20.000000\n",
       "max       123.000000\n",
       "Name: time_taken_to_remodel, dtype: float64"
      ]
     },
     "execution_count": 25,
     "metadata": {},
     "output_type": "execute_result"
    }
   ],
   "source": [
    "train_df['time_taken_to_remodel'] = train_df['YearRemodAdd'] - train_df['YearBuilt']\n",
    "train_df['time_taken_to_remodel'].describe()"
   ]
  },
  {
   "cell_type": "code",
   "execution_count": 26,
   "id": "3a8a2c9e",
   "metadata": {},
   "outputs": [
    {
     "data": {
      "text/plain": [
       "count    1460.000000\n",
       "mean       36.547945\n",
       "std        30.250152\n",
       "min         0.000000\n",
       "25%         8.000000\n",
       "50%        35.000000\n",
       "75%        54.000000\n",
       "max       136.000000\n",
       "Name: time_taken_to_sell, dtype: float64"
      ]
     },
     "execution_count": 26,
     "metadata": {},
     "output_type": "execute_result"
    }
   ],
   "source": [
    "train_df['time_taken_to_sell'] = train_df['YrSold'] - train_df['YearBuilt']\n",
    "train_df['time_taken_to_sell'].describe()"
   ]
  },
  {
   "cell_type": "code",
   "execution_count": 27,
   "id": "dc61cf52",
   "metadata": {},
   "outputs": [
    {
     "data": {
      "text/plain": [
       "count    1460.000000\n",
       "mean       22.950000\n",
       "std        20.640653\n",
       "min        -1.000000\n",
       "25%         4.000000\n",
       "50%        14.000000\n",
       "75%        41.000000\n",
       "max        60.000000\n",
       "Name: time_taken_to_sell_after_remodel, dtype: float64"
      ]
     },
     "execution_count": 27,
     "metadata": {},
     "output_type": "execute_result"
    }
   ],
   "source": [
    "train_df['time_taken_to_sell_after_remodel'] = train_df['YrSold'] - train_df['YearRemodAdd']\n",
    "train_df['time_taken_to_sell_after_remodel'].describe()"
   ]
  },
  {
   "cell_type": "markdown",
   "id": "a27c3dab",
   "metadata": {},
   "source": [
    "on average it took **36 Years** to sell a house and **22 Year** to sell a house that has been **ReModeled**"
   ]
  },
  {
   "cell_type": "markdown",
   "id": "c0169567",
   "metadata": {},
   "source": [
    "### LotArea Analysis"
   ]
  },
  {
   "cell_type": "code",
   "execution_count": 28,
   "id": "08dbaa42",
   "metadata": {},
   "outputs": [
    {
     "name": "stdout",
     "output_type": "stream",
     "text": [
      "count      1460.000000\n",
      "mean      10516.828082\n",
      "std        9981.264932\n",
      "min        1300.000000\n",
      "25%        7553.500000\n",
      "50%        9478.500000\n",
      "75%       11601.500000\n",
      "max      215245.000000\n",
      "Name: LotArea, dtype: float64\n"
     ]
    },
    {
     "data": {
      "image/png": "[encoded data removed]",
      "text/plain": [
       "<Figure size 432x288 with 1 Axes>"
      ]
     },
     "metadata": {
      "needs_background": "light"
     },
     "output_type": "display_data"
    }
   ],
   "source": [
    "train_df['LotArea'].plot(kind='hist', bins=50)\n",
    "plt.title(\"Dist. of Lot Area\")\n",
    "plt.xlabel(\"Lot Area\")\n",
    "plt.ylabel('Count')\n",
    "plt.xlim([0, 50_000]);\n",
    "\n",
    "print(train_df['LotArea'].describe())\n"
   ]
  },
  {
   "cell_type": "markdown",
   "id": "a80cbadd",
   "metadata": {},
   "source": [
    "most of the houses has a Lot Area around **5,000** to **15,000** square feet"
   ]
  },
  {
   "cell_type": "markdown",
   "id": "0af231d1",
   "metadata": {},
   "source": [
    "### TotalBsmtSF"
   ]
  },
  {
   "cell_type": "code",
   "execution_count": 29,
   "id": "bd94ca0b",
   "metadata": {},
   "outputs": [
    {
     "name": "stdout",
     "output_type": "stream",
     "text": [
      "count    1460.000000\n",
      "mean     1057.429452\n",
      "std       438.705324\n",
      "min         0.000000\n",
      "25%       795.750000\n",
      "50%       991.500000\n",
      "75%      1298.250000\n",
      "max      6110.000000\n",
      "Name: TotalBsmtSF, dtype: float64\n"
     ]
    },
    {
     "data": {
      "image/png": "[encoded data removed]",
      "text/plain": [
       "<Figure size 432x288 with 1 Axes>"
      ]
     },
     "metadata": {
      "needs_background": "light"
     },
     "output_type": "display_data"
    }
   ],
   "source": [
    "print(train_df['TotalBsmtSF'].describe())\n",
    "\n",
    "train_df['TotalBsmtSF'].plot(kind='hist', bins=50)\n",
    "plt.title(\"Dist. of Total Basment Area\")\n",
    "plt.xlabel(\"Basment Area\")\n",
    "plt.ylabel('Count');\n",
    "\n",
    "plt.xlim([0, 3000]);"
   ]
  },
  {
   "cell_type": "markdown",
   "id": "08321f52",
   "metadata": {},
   "source": [
    "most of the houses has a Basment Area from **500** to **1500**"
   ]
  },
  {
   "cell_type": "markdown",
   "id": "88c3fb76",
   "metadata": {},
   "source": [
    "### Bedroom and Bathroom Analysis"
   ]
  },
  {
   "cell_type": "code",
   "execution_count": 30,
   "id": "6194204a",
   "metadata": {},
   "outputs": [
    {
     "data": {
      "text/plain": [
       "3    804\n",
       "2    358\n",
       "4    213\n",
       "1     50\n",
       "5     21\n",
       "6      7\n",
       "0      6\n",
       "8      1\n",
       "Name: BedroomAbvGr, dtype: int64"
      ]
     },
     "execution_count": 30,
     "metadata": {},
     "output_type": "execute_result"
    }
   ],
   "source": [
    "train_df['BedroomAbvGr'].value_counts()"
   ]
  },
  {
   "cell_type": "code",
   "execution_count": 31,
   "id": "f425e67c",
   "metadata": {
    "scrolled": true
   },
   "outputs": [
    {
     "data": {
      "text/plain": [
       "2    768\n",
       "1    650\n",
       "3     33\n",
       "0      9\n",
       "Name: FullBath, dtype: int64"
      ]
     },
     "execution_count": 31,
     "metadata": {},
     "output_type": "execute_result"
    }
   ],
   "source": [
    "train_df['FullBath'].value_counts()"
   ]
  },
  {
   "cell_type": "markdown",
   "id": "ce6277d0",
   "metadata": {},
   "source": [
    "most of the house have a **3, 2 or 4** bedrooms above the grade\n",
    "and **2 or 1** bathroom above the grade"
   ]
  },
  {
   "cell_type": "markdown",
   "id": "77355643",
   "metadata": {},
   "source": [
    "### OverallQual and OverallCond Analysis"
   ]
  },
  {
   "cell_type": "code",
   "execution_count": 32,
   "id": "516aa7d8",
   "metadata": {},
   "outputs": [
    {
     "data": {
      "image/png": "[encoded data removed]",
      "text/plain": [
       "<Figure size 432x288 with 1 Axes>"
      ]
     },
     "metadata": {
      "needs_background": "light"
     },
     "output_type": "display_data"
    }
   ],
   "source": [
    "train_df['OverallQual'].value_counts().plot(kind='bar');\n",
    "plt.title(\"Quality of the House\")\n",
    "plt.xlabel(\"Quality Rating\")\n",
    "plt.ylabel(\"Count\");"
   ]
  },
  {
   "cell_type": "code",
   "execution_count": 33,
   "id": "52a6c47a",
   "metadata": {},
   "outputs": [
    {
     "data": {
      "image/png": "[encoded data removed]",
      "text/plain": [
       "<Figure size 432x288 with 1 Axes>"
      ]
     },
     "metadata": {
      "needs_background": "light"
     },
     "output_type": "display_data"
    }
   ],
   "source": [
    "train_df['OverallCond'].value_counts().plot(kind='bar')\n",
    "plt.title(\"Condition of the House\")\n",
    "plt.xlabel(\"Condition Rating\")\n",
    "plt.ylabel(\"Count\");"
   ]
  },
  {
   "cell_type": "markdown",
   "id": "8c58d721",
   "metadata": {},
   "source": [
    "most of the houses have a rating condition and quality around **5 or 6**"
   ]
  },
  {
   "cell_type": "markdown",
   "id": "daff8ee5",
   "metadata": {},
   "source": [
    "### SalePrice Analysis"
   ]
  },
  {
   "cell_type": "code",
   "execution_count": 34,
   "id": "1fa5446b",
   "metadata": {},
   "outputs": [
    {
     "name": "stdout",
     "output_type": "stream",
     "text": [
      "count      1460.000000\n",
      "mean     180921.195890\n",
      "std       79442.502883\n",
      "min       34900.000000\n",
      "25%      129975.000000\n",
      "50%      163000.000000\n",
      "75%      214000.000000\n",
      "max      755000.000000\n",
      "Name: SalePrice, dtype: float64\n"
     ]
    },
    {
     "data": {
      "image/png": "[encoded data removed]",
      "text/plain": [
       "<Figure size 432x288 with 1 Axes>"
      ]
     },
     "metadata": {
      "needs_background": "light"
     },
     "output_type": "display_data"
    }
   ],
   "source": [
    "print(train_df['SalePrice'].describe())\n",
    "\n",
    "train_df['SalePrice'].plot(kind='hist', bins=30)\n",
    "plt.title(\"Price of House\")\n",
    "plt.xlabel(\"Price\")\n",
    "plt.ylabel(\"Count\");"
   ]
  },
  {
   "cell_type": "markdown",
   "id": "fcfd896a",
   "metadata": {},
   "source": [
    "most houses has price ranging between **1,000,000** to **2,500,000** us dollars"
   ]
  },
  {
   "cell_type": "code",
   "execution_count": 35,
   "id": "3c64d1b7",
   "metadata": {},
   "outputs": [
    {
     "data": {
      "image/png": "[encoded data removed]",
      "text/plain": [
       "<Figure size 576x360 with 1 Axes>"
      ]
     },
     "metadata": {
      "needs_background": "light"
     },
     "output_type": "display_data"
    }
   ],
   "source": [
    "plt.figure(figsize=(8, 5))\n",
    "sns.boxplot(data=train_df, x='SalePrice')\n",
    "plt.title(\"House Price Dist\");"
   ]
  },
  {
   "cell_type": "markdown",
   "id": "47060dfa",
   "metadata": {},
   "source": [
    "### Corrletation Matrix in the Dataset"
   ]
  },
  {
   "cell_type": "code",
   "execution_count": 36,
   "id": "da7f8ef0",
   "metadata": {},
   "outputs": [
    {
     "data": {
      "image/png": "[encoded data removed]",
      "text/plain": [
       "<Figure size 1080x1008 with 2 Axes>"
      ]
     },
     "metadata": {
      "needs_background": "light"
     },
     "output_type": "display_data"
    }
   ],
   "source": [
    "corr = train_df.corr()\n",
    "\n",
    "fig, ax = plt.subplots(nrows=1, figsize=(15, 14))\n",
    "sns.heatmap(corr, ax=ax)\n",
    "ax.set_title(\"Correlation Matrix\");"
   ]
  },
  {
   "cell_type": "markdown",
   "id": "1f1532c7",
   "metadata": {},
   "source": [
    "### SalePrice vs OverallCond"
   ]
  },
  {
   "cell_type": "code",
   "execution_count": 37,
   "id": "1888696b",
   "metadata": {},
   "outputs": [
    {
     "data": {
      "image/png": "[encoded data removed]",
      "text/plain": [
       "<Figure size 576x360 with 1 Axes>"
      ]
     },
     "metadata": {
      "needs_background": "light"
     },
     "output_type": "display_data"
    }
   ],
   "source": [
    "plt.figure(figsize=(8, 5))\n",
    "sns.boxplot(data=train_df, x='OverallCond', y='SalePrice', color=BASE_COLOR);\n",
    "plt.title(\"Sale Price by House Overall Condition\");"
   ]
  },
  {
   "cell_type": "markdown",
   "id": "1e14195c",
   "metadata": {},
   "source": [
    "### SalePrice vs TotalBsmtSF"
   ]
  },
  {
   "cell_type": "code",
   "execution_count": 38,
   "id": "ab9f8bd1",
   "metadata": {},
   "outputs": [
    {
     "data": {
      "image/png": "[encoded data removed]",
      "text/plain": [
       "<Figure size 576x360 with 1 Axes>"
      ]
     },
     "metadata": {
      "needs_background": "light"
     },
     "output_type": "display_data"
    }
   ],
   "source": [
    "plt.figure(figsize=(8, 5))\n",
    "sns.regplot(data=train_df, x='TotalBsmtSF', y='SalePrice', color=BASE_COLOR);\n",
    "plt.title(\"Sale Price by House Basment Area\");"
   ]
  },
  {
   "cell_type": "markdown",
   "id": "d56d8a93",
   "metadata": {},
   "source": [
    "the relation shows existance of outlier point at **6000** so, it would be better it we remove it"
   ]
  },
  {
   "cell_type": "code",
   "execution_count": 39,
   "id": "6a39a9d0",
   "metadata": {},
   "outputs": [
    {
     "data": {
      "text/html": [
       "<div>\n",
       "<style scoped>\n",
       "    .dataframe tbody tr th:only-of-type {\n",
       "        vertical-align: middle;\n",
       "    }\n",
       "\n",
       "    .dataframe tbody tr th {\n",
       "        vertical-align: top;\n",
       "    }\n",
       "\n",
       "    .dataframe thead th {\n",
       "        text-align: right;\n",
       "    }\n",
       "</style>\n",
       "<table border=\"1\" class=\"dataframe\">\n",
       "  <thead>\n",
       "    <tr style=\"text-align: right;\">\n",
       "      <th></th>\n",
       "      <th>Id</th>\n",
       "      <th>MSSubClass</th>\n",
       "      <th>MSZoning</th>\n",
       "      <th>LotArea</th>\n",
       "      <th>Street</th>\n",
       "      <th>LotShape</th>\n",
       "      <th>LandContour</th>\n",
       "      <th>Utilities</th>\n",
       "      <th>LotConfig</th>\n",
       "      <th>LandSlope</th>\n",
       "      <th>...</th>\n",
       "      <th>zone_low_density</th>\n",
       "      <th>one_story_style</th>\n",
       "      <th>two_story_style</th>\n",
       "      <th>one_half_story_style</th>\n",
       "      <th>typical_functionality</th>\n",
       "      <th>sale_normal_condition</th>\n",
       "      <th>gas_heating</th>\n",
       "      <th>time_taken_to_remodel</th>\n",
       "      <th>time_taken_to_sell</th>\n",
       "      <th>time_taken_to_sell_after_remodel</th>\n",
       "    </tr>\n",
       "  </thead>\n",
       "  <tbody>\n",
       "  </tbody>\n",
       "</table>\n",
       "<p>0 rows × 74 columns</p>\n",
       "</div>"
      ],
      "text/plain": [
       "Empty DataFrame\n",
       "Columns: [Id, MSSubClass, MSZoning, LotArea, Street, LotShape, LandContour, Utilities, LotConfig, LandSlope, Neighborhood, Condition1, Condition2, BldgType, HouseStyle, OverallQual, OverallCond, YearBuilt, YearRemodAdd, RoofStyle, RoofMatl, Exterior1st, Exterior2nd, MasVnrArea, ExterQual, ExterCond, Foundation, BsmtFinSF1, BsmtFinSF2, BsmtUnfSF, TotalBsmtSF, Heating, HeatingQC, CentralAir, 1stFlrSF, 2ndFlrSF, LowQualFinSF, GrLivArea, BsmtFullBath, BsmtHalfBath, FullBath, HalfBath, BedroomAbvGr, KitchenAbvGr, KitchenQual, TotRmsAbvGrd, Functional, Fireplaces, GarageYrBlt, GarageCars, GarageArea, PavedDrive, WoodDeckSF, OpenPorchSF, EnclosedPorch, 3SsnPorch, ScreenPorch, PoolArea, MiscVal, MoSold, YrSold, SaleType, SaleCondition, SalePrice, zone_low_density, one_story_style, two_story_style, one_half_story_style, typical_functionality, sale_normal_condition, gas_heating, time_taken_to_remodel, time_taken_to_sell, time_taken_to_sell_after_remodel]\n",
       "Index: []\n",
       "\n",
       "[0 rows x 74 columns]"
      ]
     },
     "execution_count": 39,
     "metadata": {},
     "output_type": "execute_result"
    }
   ],
   "source": [
    "train_df.drop(train_df[train_df['TotalBsmtSF'] > 5000].index, inplace=True)\n",
    "train_df[train_df['TotalBsmtSF'] > 5000]"
   ]
  },
  {
   "cell_type": "code",
   "execution_count": 40,
   "id": "b2d7cba7",
   "metadata": {},
   "outputs": [
    {
     "data": {
      "image/png": "[encoded data removed]",
      "text/plain": [
       "<Figure size 576x360 with 1 Axes>"
      ]
     },
     "metadata": {
      "needs_background": "light"
     },
     "output_type": "display_data"
    }
   ],
   "source": [
    "plt.figure(figsize=(8, 5))\n",
    "sns.regplot(data=train_df, x='TotalBsmtSF', y='SalePrice', line_kws=dict(color='r'));\n",
    "plt.title(\"Sale Price by House Basment Area\");"
   ]
  },
  {
   "cell_type": "markdown",
   "id": "587d5376",
   "metadata": {},
   "source": [
    "### SalePrice vs GrLivArea"
   ]
  },
  {
   "cell_type": "code",
   "execution_count": 41,
   "id": "bc0e6498",
   "metadata": {},
   "outputs": [
    {
     "data": {
      "image/png": "[encoded data removed]",
      "text/plain": [
       "<Figure size 576x360 with 1 Axes>"
      ]
     },
     "metadata": {
      "needs_background": "light"
     },
     "output_type": "display_data"
    }
   ],
   "source": [
    "plt.figure(figsize=(8, 5))\n",
    "sns.regplot(data=train_df,  x='GrLivArea', y='SalePrice', line_kws=dict(color='r'));\n",
    "plt.title(\"Sale Price by House Basment Area\");"
   ]
  },
  {
   "cell_type": "markdown",
   "id": "cde1c6f0",
   "metadata": {},
   "source": [
    "there is outliers in the GrLivArea greater than **4000** so removing it"
   ]
  },
  {
   "cell_type": "code",
   "execution_count": 42,
   "id": "0f4f4623",
   "metadata": {},
   "outputs": [
    {
     "data": {
      "text/html": [
       "<div>\n",
       "<style scoped>\n",
       "    .dataframe tbody tr th:only-of-type {\n",
       "        vertical-align: middle;\n",
       "    }\n",
       "\n",
       "    .dataframe tbody tr th {\n",
       "        vertical-align: top;\n",
       "    }\n",
       "\n",
       "    .dataframe thead th {\n",
       "        text-align: right;\n",
       "    }\n",
       "</style>\n",
       "<table border=\"1\" class=\"dataframe\">\n",
       "  <thead>\n",
       "    <tr style=\"text-align: right;\">\n",
       "      <th></th>\n",
       "      <th>Id</th>\n",
       "      <th>MSSubClass</th>\n",
       "      <th>MSZoning</th>\n",
       "      <th>LotArea</th>\n",
       "      <th>Street</th>\n",
       "      <th>LotShape</th>\n",
       "      <th>LandContour</th>\n",
       "      <th>Utilities</th>\n",
       "      <th>LotConfig</th>\n",
       "      <th>LandSlope</th>\n",
       "      <th>...</th>\n",
       "      <th>zone_low_density</th>\n",
       "      <th>one_story_style</th>\n",
       "      <th>two_story_style</th>\n",
       "      <th>one_half_story_style</th>\n",
       "      <th>typical_functionality</th>\n",
       "      <th>sale_normal_condition</th>\n",
       "      <th>gas_heating</th>\n",
       "      <th>time_taken_to_remodel</th>\n",
       "      <th>time_taken_to_sell</th>\n",
       "      <th>time_taken_to_sell_after_remodel</th>\n",
       "    </tr>\n",
       "  </thead>\n",
       "  <tbody>\n",
       "  </tbody>\n",
       "</table>\n",
       "<p>0 rows × 74 columns</p>\n",
       "</div>"
      ],
      "text/plain": [
       "Empty DataFrame\n",
       "Columns: [Id, MSSubClass, MSZoning, LotArea, Street, LotShape, LandContour, Utilities, LotConfig, LandSlope, Neighborhood, Condition1, Condition2, BldgType, HouseStyle, OverallQual, OverallCond, YearBuilt, YearRemodAdd, RoofStyle, RoofMatl, Exterior1st, Exterior2nd, MasVnrArea, ExterQual, ExterCond, Foundation, BsmtFinSF1, BsmtFinSF2, BsmtUnfSF, TotalBsmtSF, Heating, HeatingQC, CentralAir, 1stFlrSF, 2ndFlrSF, LowQualFinSF, GrLivArea, BsmtFullBath, BsmtHalfBath, FullBath, HalfBath, BedroomAbvGr, KitchenAbvGr, KitchenQual, TotRmsAbvGrd, Functional, Fireplaces, GarageYrBlt, GarageCars, GarageArea, PavedDrive, WoodDeckSF, OpenPorchSF, EnclosedPorch, 3SsnPorch, ScreenPorch, PoolArea, MiscVal, MoSold, YrSold, SaleType, SaleCondition, SalePrice, zone_low_density, one_story_style, two_story_style, one_half_story_style, typical_functionality, sale_normal_condition, gas_heating, time_taken_to_remodel, time_taken_to_sell, time_taken_to_sell_after_remodel]\n",
       "Index: []\n",
       "\n",
       "[0 rows x 74 columns]"
      ]
     },
     "execution_count": 42,
     "metadata": {},
     "output_type": "execute_result"
    }
   ],
   "source": [
    "train_df.drop(train_df[train_df['GrLivArea'] > 4000].index, inplace=True)\n",
    "train_df[train_df['GrLivArea'] > 4000]"
   ]
  },
  {
   "cell_type": "code",
   "execution_count": 43,
   "id": "626eea5d",
   "metadata": {},
   "outputs": [
    {
     "data": {
      "image/png": "[encoded data removed]",
      "text/plain": [
       "<Figure size 576x360 with 1 Axes>"
      ]
     },
     "metadata": {
      "needs_background": "light"
     },
     "output_type": "display_data"
    }
   ],
   "source": [
    "plt.figure(figsize=(8, 5))\n",
    "sns.regplot(data=train_df, x='GrLivArea', y='SalePrice', line_kws=dict(color='r'));\n",
    "plt.title(\"Sale Price by House Ground Area\");"
   ]
  },
  {
   "cell_type": "markdown",
   "id": "77c6e0b8",
   "metadata": {},
   "source": [
    "### GarageArea vs SalePrice"
   ]
  },
  {
   "cell_type": "code",
   "execution_count": 44,
   "id": "75c82ce2",
   "metadata": {},
   "outputs": [
    {
     "data": {
      "image/png": "[encoded data removed]",
      "text/plain": [
       "<Figure size 576x360 with 1 Axes>"
      ]
     },
     "metadata": {
      "needs_background": "light"
     },
     "output_type": "display_data"
    }
   ],
   "source": [
    "plt.figure(figsize=(8, 5))\n",
    "sns.regplot(data=train_df, x='GarageArea', y='SalePrice', line_kws=dict(color='r'));\n",
    "plt.title(\"Sale Price by Garage Area\");"
   ]
  },
  {
   "cell_type": "markdown",
   "id": "57cbbc66",
   "metadata": {},
   "source": [
    "positive correlation indicating an increase in price as the garage area increases."
   ]
  },
  {
   "cell_type": "markdown",
   "id": "20e4bf00",
   "metadata": {},
   "source": [
    "### GarageCars vs SalePrice"
   ]
  },
  {
   "cell_type": "code",
   "execution_count": 45,
   "id": "a0f8c6f5",
   "metadata": {},
   "outputs": [
    {
     "data": {
      "image/png": "[encoded data removed]",
      "text/plain": [
       "<Figure size 576x360 with 1 Axes>"
      ]
     },
     "metadata": {
      "needs_background": "light"
     },
     "output_type": "display_data"
    }
   ],
   "source": [
    "plt.figure(figsize=(8, 5))\n",
    "sns.boxplot(data=train_df, x='GarageCars', y='SalePrice', color=BASE_COLOR);\n",
    "plt.title(\"Sale Price by Number of Cars in Garage\");"
   ]
  },
  {
   "cell_type": "markdown",
   "id": "3f7029ed",
   "metadata": {},
   "source": [
    "positive correlation indicating an increase in price as number of cars garage can fit increases"
   ]
  },
  {
   "cell_type": "code",
   "execution_count": 46,
   "id": "7522c8e4",
   "metadata": {},
   "outputs": [
    {
     "data": {
      "image/png": "[encoded data removed]",
      "text/plain": [
       "<Figure size 576x360 with 1 Axes>"
      ]
     },
     "metadata": {
      "needs_background": "light"
     },
     "output_type": "display_data"
    }
   ],
   "source": [
    "## GarageCars vs GarageArea\n",
    "## False correlation or colinearity in the dataset\n",
    "## Does make sense\n",
    "\n",
    "plt.figure(figsize=(8, 5))\n",
    "sns.boxplot(data=train_df, x='GarageCars', y='GarageArea', color=BASE_COLOR);"
   ]
  },
  {
   "cell_type": "markdown",
   "id": "f51142db",
   "metadata": {},
   "source": [
    "### SalePrice vs FullBath"
   ]
  },
  {
   "cell_type": "code",
   "execution_count": 47,
   "id": "a74d959f",
   "metadata": {},
   "outputs": [
    {
     "data": {
      "image/png": "[encoded data removed]",
      "text/plain": [
       "<Figure size 576x360 with 1 Axes>"
      ]
     },
     "metadata": {
      "needs_background": "light"
     },
     "output_type": "display_data"
    }
   ],
   "source": [
    "plt.figure(figsize=(8, 5))\n",
    "sns.boxplot(data=train_df, x='FullBath', y='SalePrice', color=BASE_COLOR);\n",
    "plt.title(\"Sale Price by Number of Bathrooms\");"
   ]
  },
  {
   "cell_type": "code",
   "execution_count": null,
   "id": "90a097bf",
   "metadata": {},
   "outputs": [],
   "source": []
  },
  {
   "cell_type": "markdown",
   "id": "def74ea2",
   "metadata": {},
   "source": [
    "# Statmodels OLS Model Analysis"
   ]
  },
  {
   "cell_type": "code",
   "execution_count": 48,
   "id": "00cb4e76",
   "metadata": {},
   "outputs": [
    {
     "data": {
      "text/html": [
       "<div>\n",
       "<style scoped>\n",
       "    .dataframe tbody tr th:only-of-type {\n",
       "        vertical-align: middle;\n",
       "    }\n",
       "\n",
       "    .dataframe tbody tr th {\n",
       "        vertical-align: top;\n",
       "    }\n",
       "\n",
       "    .dataframe thead th {\n",
       "        text-align: right;\n",
       "    }\n",
       "</style>\n",
       "<table border=\"1\" class=\"dataframe\">\n",
       "  <thead>\n",
       "    <tr style=\"text-align: right;\">\n",
       "      <th></th>\n",
       "      <th>Id</th>\n",
       "      <th>LotArea</th>\n",
       "      <th>OverallQual</th>\n",
       "      <th>OverallCond</th>\n",
       "      <th>YearBuilt</th>\n",
       "      <th>YearRemodAdd</th>\n",
       "      <th>MasVnrArea</th>\n",
       "      <th>BsmtFinSF1</th>\n",
       "      <th>BsmtFinSF2</th>\n",
       "      <th>BsmtUnfSF</th>\n",
       "      <th>...</th>\n",
       "      <th>zone_low_density</th>\n",
       "      <th>one_story_style</th>\n",
       "      <th>two_story_style</th>\n",
       "      <th>one_half_story_style</th>\n",
       "      <th>typical_functionality</th>\n",
       "      <th>sale_normal_condition</th>\n",
       "      <th>gas_heating</th>\n",
       "      <th>time_taken_to_remodel</th>\n",
       "      <th>time_taken_to_sell</th>\n",
       "      <th>time_taken_to_sell_after_remodel</th>\n",
       "    </tr>\n",
       "  </thead>\n",
       "  <tbody>\n",
       "    <tr>\n",
       "      <th>0</th>\n",
       "      <td>1</td>\n",
       "      <td>8450</td>\n",
       "      <td>7</td>\n",
       "      <td>5</td>\n",
       "      <td>2003</td>\n",
       "      <td>2003</td>\n",
       "      <td>196.0</td>\n",
       "      <td>706</td>\n",
       "      <td>0</td>\n",
       "      <td>150</td>\n",
       "      <td>...</td>\n",
       "      <td>1</td>\n",
       "      <td>0</td>\n",
       "      <td>1</td>\n",
       "      <td>0</td>\n",
       "      <td>1</td>\n",
       "      <td>1</td>\n",
       "      <td>1</td>\n",
       "      <td>0</td>\n",
       "      <td>5</td>\n",
       "      <td>5</td>\n",
       "    </tr>\n",
       "    <tr>\n",
       "      <th>1</th>\n",
       "      <td>2</td>\n",
       "      <td>9600</td>\n",
       "      <td>6</td>\n",
       "      <td>8</td>\n",
       "      <td>1976</td>\n",
       "      <td>1976</td>\n",
       "      <td>0.0</td>\n",
       "      <td>978</td>\n",
       "      <td>0</td>\n",
       "      <td>284</td>\n",
       "      <td>...</td>\n",
       "      <td>1</td>\n",
       "      <td>1</td>\n",
       "      <td>0</td>\n",
       "      <td>0</td>\n",
       "      <td>1</td>\n",
       "      <td>1</td>\n",
       "      <td>1</td>\n",
       "      <td>0</td>\n",
       "      <td>31</td>\n",
       "      <td>31</td>\n",
       "    </tr>\n",
       "    <tr>\n",
       "      <th>2</th>\n",
       "      <td>3</td>\n",
       "      <td>11250</td>\n",
       "      <td>7</td>\n",
       "      <td>5</td>\n",
       "      <td>2001</td>\n",
       "      <td>2002</td>\n",
       "      <td>162.0</td>\n",
       "      <td>486</td>\n",
       "      <td>0</td>\n",
       "      <td>434</td>\n",
       "      <td>...</td>\n",
       "      <td>1</td>\n",
       "      <td>0</td>\n",
       "      <td>1</td>\n",
       "      <td>0</td>\n",
       "      <td>1</td>\n",
       "      <td>1</td>\n",
       "      <td>1</td>\n",
       "      <td>1</td>\n",
       "      <td>7</td>\n",
       "      <td>6</td>\n",
       "    </tr>\n",
       "    <tr>\n",
       "      <th>3</th>\n",
       "      <td>4</td>\n",
       "      <td>9550</td>\n",
       "      <td>7</td>\n",
       "      <td>5</td>\n",
       "      <td>1915</td>\n",
       "      <td>1970</td>\n",
       "      <td>0.0</td>\n",
       "      <td>216</td>\n",
       "      <td>0</td>\n",
       "      <td>540</td>\n",
       "      <td>...</td>\n",
       "      <td>1</td>\n",
       "      <td>0</td>\n",
       "      <td>1</td>\n",
       "      <td>0</td>\n",
       "      <td>1</td>\n",
       "      <td>0</td>\n",
       "      <td>1</td>\n",
       "      <td>55</td>\n",
       "      <td>91</td>\n",
       "      <td>36</td>\n",
       "    </tr>\n",
       "    <tr>\n",
       "      <th>4</th>\n",
       "      <td>5</td>\n",
       "      <td>14260</td>\n",
       "      <td>8</td>\n",
       "      <td>5</td>\n",
       "      <td>2000</td>\n",
       "      <td>2000</td>\n",
       "      <td>350.0</td>\n",
       "      <td>655</td>\n",
       "      <td>0</td>\n",
       "      <td>490</td>\n",
       "      <td>...</td>\n",
       "      <td>1</td>\n",
       "      <td>0</td>\n",
       "      <td>1</td>\n",
       "      <td>0</td>\n",
       "      <td>1</td>\n",
       "      <td>1</td>\n",
       "      <td>1</td>\n",
       "      <td>0</td>\n",
       "      <td>8</td>\n",
       "      <td>8</td>\n",
       "    </tr>\n",
       "  </tbody>\n",
       "</table>\n",
       "<p>5 rows × 46 columns</p>\n",
       "</div>"
      ],
      "text/plain": [
       "   Id  LotArea  OverallQual  OverallCond  YearBuilt  YearRemodAdd  MasVnrArea  \\\n",
       "0   1     8450            7            5       2003          2003       196.0   \n",
       "1   2     9600            6            8       1976          1976         0.0   \n",
       "2   3    11250            7            5       2001          2002       162.0   \n",
       "3   4     9550            7            5       1915          1970         0.0   \n",
       "4   5    14260            8            5       2000          2000       350.0   \n",
       "\n",
       "   BsmtFinSF1  BsmtFinSF2  BsmtUnfSF  ...  zone_low_density  one_story_style  \\\n",
       "0         706           0        150  ...                 1                0   \n",
       "1         978           0        284  ...                 1                1   \n",
       "2         486           0        434  ...                 1                0   \n",
       "3         216           0        540  ...                 1                0   \n",
       "4         655           0        490  ...                 1                0   \n",
       "\n",
       "   two_story_style  one_half_story_style  typical_functionality  \\\n",
       "0                1                     0                      1   \n",
       "1                0                     0                      1   \n",
       "2                1                     0                      1   \n",
       "3                1                     0                      1   \n",
       "4                1                     0                      1   \n",
       "\n",
       "   sale_normal_condition  gas_heating  time_taken_to_remodel  \\\n",
       "0                      1            1                      0   \n",
       "1                      1            1                      0   \n",
       "2                      1            1                      1   \n",
       "3                      0            1                     55   \n",
       "4                      1            1                      0   \n",
       "\n",
       "   time_taken_to_sell  time_taken_to_sell_after_remodel  \n",
       "0                   5                                 5  \n",
       "1                  31                                31  \n",
       "2                   7                                 6  \n",
       "3                  91                                36  \n",
       "4                   8                                 8  \n",
       "\n",
       "[5 rows x 46 columns]"
      ]
     },
     "execution_count": 48,
     "metadata": {},
     "output_type": "execute_result"
    }
   ],
   "source": [
    "ols_df = train_df.select_dtypes('number')\n",
    "ols_df.head()"
   ]
  },
  {
   "cell_type": "code",
   "execution_count": 49,
   "id": "b34405ca",
   "metadata": {},
   "outputs": [
    {
     "data": {
      "text/html": [
       "<div>\n",
       "<style scoped>\n",
       "    .dataframe tbody tr th:only-of-type {\n",
       "        vertical-align: middle;\n",
       "    }\n",
       "\n",
       "    .dataframe tbody tr th {\n",
       "        vertical-align: top;\n",
       "    }\n",
       "\n",
       "    .dataframe thead th {\n",
       "        text-align: right;\n",
       "    }\n",
       "</style>\n",
       "<table border=\"1\" class=\"dataframe\">\n",
       "  <thead>\n",
       "    <tr style=\"text-align: right;\">\n",
       "      <th></th>\n",
       "      <th>LotArea</th>\n",
       "      <th>OverallQual</th>\n",
       "      <th>OverallCond</th>\n",
       "      <th>MasVnrArea</th>\n",
       "      <th>BsmtFinSF1</th>\n",
       "      <th>BsmtFinSF2</th>\n",
       "      <th>BsmtUnfSF</th>\n",
       "      <th>TotalBsmtSF</th>\n",
       "      <th>1stFlrSF</th>\n",
       "      <th>2ndFlrSF</th>\n",
       "      <th>...</th>\n",
       "      <th>zone_low_density</th>\n",
       "      <th>one_story_style</th>\n",
       "      <th>two_story_style</th>\n",
       "      <th>one_half_story_style</th>\n",
       "      <th>typical_functionality</th>\n",
       "      <th>sale_normal_condition</th>\n",
       "      <th>gas_heating</th>\n",
       "      <th>time_taken_to_remodel</th>\n",
       "      <th>time_taken_to_sell</th>\n",
       "      <th>time_taken_to_sell_after_remodel</th>\n",
       "    </tr>\n",
       "  </thead>\n",
       "  <tbody>\n",
       "    <tr>\n",
       "      <th>0</th>\n",
       "      <td>8450</td>\n",
       "      <td>7</td>\n",
       "      <td>5</td>\n",
       "      <td>196.0</td>\n",
       "      <td>706</td>\n",
       "      <td>0</td>\n",
       "      <td>150</td>\n",
       "      <td>856</td>\n",
       "      <td>856</td>\n",
       "      <td>854</td>\n",
       "      <td>...</td>\n",
       "      <td>1</td>\n",
       "      <td>0</td>\n",
       "      <td>1</td>\n",
       "      <td>0</td>\n",
       "      <td>1</td>\n",
       "      <td>1</td>\n",
       "      <td>1</td>\n",
       "      <td>0</td>\n",
       "      <td>5</td>\n",
       "      <td>5</td>\n",
       "    </tr>\n",
       "    <tr>\n",
       "      <th>1</th>\n",
       "      <td>9600</td>\n",
       "      <td>6</td>\n",
       "      <td>8</td>\n",
       "      <td>0.0</td>\n",
       "      <td>978</td>\n",
       "      <td>0</td>\n",
       "      <td>284</td>\n",
       "      <td>1262</td>\n",
       "      <td>1262</td>\n",
       "      <td>0</td>\n",
       "      <td>...</td>\n",
       "      <td>1</td>\n",
       "      <td>1</td>\n",
       "      <td>0</td>\n",
       "      <td>0</td>\n",
       "      <td>1</td>\n",
       "      <td>1</td>\n",
       "      <td>1</td>\n",
       "      <td>0</td>\n",
       "      <td>31</td>\n",
       "      <td>31</td>\n",
       "    </tr>\n",
       "    <tr>\n",
       "      <th>2</th>\n",
       "      <td>11250</td>\n",
       "      <td>7</td>\n",
       "      <td>5</td>\n",
       "      <td>162.0</td>\n",
       "      <td>486</td>\n",
       "      <td>0</td>\n",
       "      <td>434</td>\n",
       "      <td>920</td>\n",
       "      <td>920</td>\n",
       "      <td>866</td>\n",
       "      <td>...</td>\n",
       "      <td>1</td>\n",
       "      <td>0</td>\n",
       "      <td>1</td>\n",
       "      <td>0</td>\n",
       "      <td>1</td>\n",
       "      <td>1</td>\n",
       "      <td>1</td>\n",
       "      <td>1</td>\n",
       "      <td>7</td>\n",
       "      <td>6</td>\n",
       "    </tr>\n",
       "    <tr>\n",
       "      <th>3</th>\n",
       "      <td>9550</td>\n",
       "      <td>7</td>\n",
       "      <td>5</td>\n",
       "      <td>0.0</td>\n",
       "      <td>216</td>\n",
       "      <td>0</td>\n",
       "      <td>540</td>\n",
       "      <td>756</td>\n",
       "      <td>961</td>\n",
       "      <td>756</td>\n",
       "      <td>...</td>\n",
       "      <td>1</td>\n",
       "      <td>0</td>\n",
       "      <td>1</td>\n",
       "      <td>0</td>\n",
       "      <td>1</td>\n",
       "      <td>0</td>\n",
       "      <td>1</td>\n",
       "      <td>55</td>\n",
       "      <td>91</td>\n",
       "      <td>36</td>\n",
       "    </tr>\n",
       "    <tr>\n",
       "      <th>4</th>\n",
       "      <td>14260</td>\n",
       "      <td>8</td>\n",
       "      <td>5</td>\n",
       "      <td>350.0</td>\n",
       "      <td>655</td>\n",
       "      <td>0</td>\n",
       "      <td>490</td>\n",
       "      <td>1145</td>\n",
       "      <td>1145</td>\n",
       "      <td>1053</td>\n",
       "      <td>...</td>\n",
       "      <td>1</td>\n",
       "      <td>0</td>\n",
       "      <td>1</td>\n",
       "      <td>0</td>\n",
       "      <td>1</td>\n",
       "      <td>1</td>\n",
       "      <td>1</td>\n",
       "      <td>0</td>\n",
       "      <td>8</td>\n",
       "      <td>8</td>\n",
       "    </tr>\n",
       "    <tr>\n",
       "      <th>...</th>\n",
       "      <td>...</td>\n",
       "      <td>...</td>\n",
       "      <td>...</td>\n",
       "      <td>...</td>\n",
       "      <td>...</td>\n",
       "      <td>...</td>\n",
       "      <td>...</td>\n",
       "      <td>...</td>\n",
       "      <td>...</td>\n",
       "      <td>...</td>\n",
       "      <td>...</td>\n",
       "      <td>...</td>\n",
       "      <td>...</td>\n",
       "      <td>...</td>\n",
       "      <td>...</td>\n",
       "      <td>...</td>\n",
       "      <td>...</td>\n",
       "      <td>...</td>\n",
       "      <td>...</td>\n",
       "      <td>...</td>\n",
       "      <td>...</td>\n",
       "    </tr>\n",
       "    <tr>\n",
       "      <th>1455</th>\n",
       "      <td>7917</td>\n",
       "      <td>6</td>\n",
       "      <td>5</td>\n",
       "      <td>0.0</td>\n",
       "      <td>0</td>\n",
       "      <td>0</td>\n",
       "      <td>953</td>\n",
       "      <td>953</td>\n",
       "      <td>953</td>\n",
       "      <td>694</td>\n",
       "      <td>...</td>\n",
       "      <td>1</td>\n",
       "      <td>0</td>\n",
       "      <td>1</td>\n",
       "      <td>0</td>\n",
       "      <td>1</td>\n",
       "      <td>1</td>\n",
       "      <td>1</td>\n",
       "      <td>1</td>\n",
       "      <td>8</td>\n",
       "      <td>7</td>\n",
       "    </tr>\n",
       "    <tr>\n",
       "      <th>1456</th>\n",
       "      <td>13175</td>\n",
       "      <td>6</td>\n",
       "      <td>6</td>\n",
       "      <td>119.0</td>\n",
       "      <td>790</td>\n",
       "      <td>163</td>\n",
       "      <td>589</td>\n",
       "      <td>1542</td>\n",
       "      <td>2073</td>\n",
       "      <td>0</td>\n",
       "      <td>...</td>\n",
       "      <td>1</td>\n",
       "      <td>1</td>\n",
       "      <td>0</td>\n",
       "      <td>0</td>\n",
       "      <td>0</td>\n",
       "      <td>1</td>\n",
       "      <td>1</td>\n",
       "      <td>10</td>\n",
       "      <td>32</td>\n",
       "      <td>22</td>\n",
       "    </tr>\n",
       "    <tr>\n",
       "      <th>1457</th>\n",
       "      <td>9042</td>\n",
       "      <td>7</td>\n",
       "      <td>9</td>\n",
       "      <td>0.0</td>\n",
       "      <td>275</td>\n",
       "      <td>0</td>\n",
       "      <td>877</td>\n",
       "      <td>1152</td>\n",
       "      <td>1188</td>\n",
       "      <td>1152</td>\n",
       "      <td>...</td>\n",
       "      <td>1</td>\n",
       "      <td>0</td>\n",
       "      <td>1</td>\n",
       "      <td>0</td>\n",
       "      <td>1</td>\n",
       "      <td>1</td>\n",
       "      <td>1</td>\n",
       "      <td>65</td>\n",
       "      <td>69</td>\n",
       "      <td>4</td>\n",
       "    </tr>\n",
       "    <tr>\n",
       "      <th>1458</th>\n",
       "      <td>9717</td>\n",
       "      <td>5</td>\n",
       "      <td>6</td>\n",
       "      <td>0.0</td>\n",
       "      <td>49</td>\n",
       "      <td>1029</td>\n",
       "      <td>0</td>\n",
       "      <td>1078</td>\n",
       "      <td>1078</td>\n",
       "      <td>0</td>\n",
       "      <td>...</td>\n",
       "      <td>1</td>\n",
       "      <td>1</td>\n",
       "      <td>0</td>\n",
       "      <td>0</td>\n",
       "      <td>1</td>\n",
       "      <td>1</td>\n",
       "      <td>1</td>\n",
       "      <td>46</td>\n",
       "      <td>60</td>\n",
       "      <td>14</td>\n",
       "    </tr>\n",
       "    <tr>\n",
       "      <th>1459</th>\n",
       "      <td>9937</td>\n",
       "      <td>5</td>\n",
       "      <td>6</td>\n",
       "      <td>0.0</td>\n",
       "      <td>830</td>\n",
       "      <td>290</td>\n",
       "      <td>136</td>\n",
       "      <td>1256</td>\n",
       "      <td>1256</td>\n",
       "      <td>0</td>\n",
       "      <td>...</td>\n",
       "      <td>1</td>\n",
       "      <td>1</td>\n",
       "      <td>0</td>\n",
       "      <td>0</td>\n",
       "      <td>1</td>\n",
       "      <td>1</td>\n",
       "      <td>1</td>\n",
       "      <td>0</td>\n",
       "      <td>43</td>\n",
       "      <td>43</td>\n",
       "    </tr>\n",
       "  </tbody>\n",
       "</table>\n",
       "<p>1456 rows × 42 columns</p>\n",
       "</div>"
      ],
      "text/plain": [
       "      LotArea  OverallQual  OverallCond  MasVnrArea  BsmtFinSF1  BsmtFinSF2  \\\n",
       "0        8450            7            5       196.0         706           0   \n",
       "1        9600            6            8         0.0         978           0   \n",
       "2       11250            7            5       162.0         486           0   \n",
       "3        9550            7            5         0.0         216           0   \n",
       "4       14260            8            5       350.0         655           0   \n",
       "...       ...          ...          ...         ...         ...         ...   \n",
       "1455     7917            6            5         0.0           0           0   \n",
       "1456    13175            6            6       119.0         790         163   \n",
       "1457     9042            7            9         0.0         275           0   \n",
       "1458     9717            5            6         0.0          49        1029   \n",
       "1459     9937            5            6         0.0         830         290   \n",
       "\n",
       "      BsmtUnfSF  TotalBsmtSF  1stFlrSF  2ndFlrSF  ...  zone_low_density  \\\n",
       "0           150          856       856       854  ...                 1   \n",
       "1           284         1262      1262         0  ...                 1   \n",
       "2           434          920       920       866  ...                 1   \n",
       "3           540          756       961       756  ...                 1   \n",
       "4           490         1145      1145      1053  ...                 1   \n",
       "...         ...          ...       ...       ...  ...               ...   \n",
       "1455        953          953       953       694  ...                 1   \n",
       "1456        589         1542      2073         0  ...                 1   \n",
       "1457        877         1152      1188      1152  ...                 1   \n",
       "1458          0         1078      1078         0  ...                 1   \n",
       "1459        136         1256      1256         0  ...                 1   \n",
       "\n",
       "      one_story_style  two_story_style  one_half_story_style  \\\n",
       "0                   0                1                     0   \n",
       "1                   1                0                     0   \n",
       "2                   0                1                     0   \n",
       "3                   0                1                     0   \n",
       "4                   0                1                     0   \n",
       "...               ...              ...                   ...   \n",
       "1455                0                1                     0   \n",
       "1456                1                0                     0   \n",
       "1457                0                1                     0   \n",
       "1458                1                0                     0   \n",
       "1459                1                0                     0   \n",
       "\n",
       "      typical_functionality  sale_normal_condition  gas_heating  \\\n",
       "0                         1                      1            1   \n",
       "1                         1                      1            1   \n",
       "2                         1                      1            1   \n",
       "3                         1                      0            1   \n",
       "4                         1                      1            1   \n",
       "...                     ...                    ...          ...   \n",
       "1455                      1                      1            1   \n",
       "1456                      0                      1            1   \n",
       "1457                      1                      1            1   \n",
       "1458                      1                      1            1   \n",
       "1459                      1                      1            1   \n",
       "\n",
       "      time_taken_to_remodel  time_taken_to_sell  \\\n",
       "0                         0                   5   \n",
       "1                         0                  31   \n",
       "2                         1                   7   \n",
       "3                        55                  91   \n",
       "4                         0                   8   \n",
       "...                     ...                 ...   \n",
       "1455                      1                   8   \n",
       "1456                     10                  32   \n",
       "1457                     65                  69   \n",
       "1458                     46                  60   \n",
       "1459                      0                  43   \n",
       "\n",
       "      time_taken_to_sell_after_remodel  \n",
       "0                                    5  \n",
       "1                                   31  \n",
       "2                                    6  \n",
       "3                                   36  \n",
       "4                                    8  \n",
       "...                                ...  \n",
       "1455                                 7  \n",
       "1456                                22  \n",
       "1457                                 4  \n",
       "1458                                14  \n",
       "1459                                43  \n",
       "\n",
       "[1456 rows x 42 columns]"
      ]
     },
     "execution_count": 49,
     "metadata": {},
     "output_type": "execute_result"
    }
   ],
   "source": [
    "ols_df = ols_df.drop(['YrSold', 'YearBuilt', 'YearRemodAdd', 'Id'], axis='columns')\n",
    "ols_df"
   ]
  },
  {
   "cell_type": "code",
   "execution_count": 50,
   "id": "b0322d26",
   "metadata": {},
   "outputs": [],
   "source": [
    "ols_df['intercept'] = 1"
   ]
  },
  {
   "cell_type": "code",
   "execution_count": 51,
   "id": "e122ac04",
   "metadata": {},
   "outputs": [
    {
     "data": {
      "text/html": [
       "<table class=\"simpletable\">\n",
       "<caption>OLS Regression Results</caption>\n",
       "<tr>\n",
       "  <th>Dep. Variable:</th>        <td>SalePrice</td>    <th>  R-squared:         </th> <td>   0.870</td> \n",
       "</tr>\n",
       "<tr>\n",
       "  <th>Model:</th>                   <td>OLS</td>       <th>  Adj. R-squared:    </th> <td>   0.866</td> \n",
       "</tr>\n",
       "<tr>\n",
       "  <th>Method:</th>             <td>Least Squares</td>  <th>  F-statistic:       </th> <td>   248.8</td> \n",
       "</tr>\n",
       "<tr>\n",
       "  <th>Date:</th>             <td>Sun, 01 May 2022</td> <th>  Prob (F-statistic):</th>  <td>  0.00</td>  \n",
       "</tr>\n",
       "<tr>\n",
       "  <th>Time:</th>                 <td>01:35:18</td>     <th>  Log-Likelihood:    </th> <td> -16959.</td> \n",
       "</tr>\n",
       "<tr>\n",
       "  <th>No. Observations:</th>      <td>  1456</td>      <th>  AIC:               </th> <td>3.400e+04</td>\n",
       "</tr>\n",
       "<tr>\n",
       "  <th>Df Residuals:</th>          <td>  1417</td>      <th>  BIC:               </th> <td>3.420e+04</td>\n",
       "</tr>\n",
       "<tr>\n",
       "  <th>Df Model:</th>              <td>    38</td>      <th>                     </th>     <td> </td>    \n",
       "</tr>\n",
       "<tr>\n",
       "  <th>Covariance Type:</th>      <td>nonrobust</td>    <th>                     </th>     <td> </td>    \n",
       "</tr>\n",
       "</table>\n",
       "<table class=\"simpletable\">\n",
       "<tr>\n",
       "                  <td></td>                    <th>coef</th>     <th>std err</th>      <th>t</th>      <th>P>|t|</th>  <th>[0.025</th>    <th>0.975]</th>  \n",
       "</tr>\n",
       "<tr>\n",
       "  <th>LotArea</th>                          <td>    0.5892</td> <td>    0.082</td> <td>    7.168</td> <td> 0.000</td> <td>    0.428</td> <td>    0.750</td>\n",
       "</tr>\n",
       "<tr>\n",
       "  <th>OverallQual</th>                      <td>   1.4e+04</td> <td>  980.392</td> <td>   14.279</td> <td> 0.000</td> <td> 1.21e+04</td> <td> 1.59e+04</td>\n",
       "</tr>\n",
       "<tr>\n",
       "  <th>OverallCond</th>                      <td> 4810.6610</td> <td>  864.986</td> <td>    5.562</td> <td> 0.000</td> <td> 3113.871</td> <td> 6507.451</td>\n",
       "</tr>\n",
       "<tr>\n",
       "  <th>MasVnrArea</th>                       <td>   28.7187</td> <td>    4.871</td> <td>    5.896</td> <td> 0.000</td> <td>   19.163</td> <td>   38.274</td>\n",
       "</tr>\n",
       "<tr>\n",
       "  <th>BsmtFinSF1</th>                       <td>   20.2892</td> <td>    2.144</td> <td>    9.464</td> <td> 0.000</td> <td>   16.084</td> <td>   24.495</td>\n",
       "</tr>\n",
       "<tr>\n",
       "  <th>BsmtFinSF2</th>                       <td>    0.3289</td> <td>    3.650</td> <td>    0.090</td> <td> 0.928</td> <td>   -6.830</td> <td>    7.488</td>\n",
       "</tr>\n",
       "<tr>\n",
       "  <th>BsmtUnfSF</th>                        <td>   -0.2817</td> <td>    1.969</td> <td>   -0.143</td> <td> 0.886</td> <td>   -4.145</td> <td>    3.582</td>\n",
       "</tr>\n",
       "<tr>\n",
       "  <th>TotalBsmtSF</th>                      <td>   20.3364</td> <td>    2.826</td> <td>    7.196</td> <td> 0.000</td> <td>   14.793</td> <td>   25.880</td>\n",
       "</tr>\n",
       "<tr>\n",
       "  <th>1stFlrSF</th>                         <td>   23.5409</td> <td>    5.308</td> <td>    4.435</td> <td> 0.000</td> <td>   13.129</td> <td>   33.953</td>\n",
       "</tr>\n",
       "<tr>\n",
       "  <th>2ndFlrSF</th>                         <td>   28.9580</td> <td>    5.521</td> <td>    5.245</td> <td> 0.000</td> <td>   18.128</td> <td>   39.788</td>\n",
       "</tr>\n",
       "<tr>\n",
       "  <th>LowQualFinSF</th>                     <td>  -18.3571</td> <td>   12.279</td> <td>   -1.495</td> <td> 0.135</td> <td>  -42.445</td> <td>    5.730</td>\n",
       "</tr>\n",
       "<tr>\n",
       "  <th>GrLivArea</th>                        <td>   34.1418</td> <td>    4.674</td> <td>    7.305</td> <td> 0.000</td> <td>   24.974</td> <td>   43.310</td>\n",
       "</tr>\n",
       "<tr>\n",
       "  <th>BsmtFullBath</th>                     <td> 1188.0415</td> <td> 2142.964</td> <td>    0.554</td> <td> 0.579</td> <td>-3015.682</td> <td> 5391.765</td>\n",
       "</tr>\n",
       "<tr>\n",
       "  <th>BsmtHalfBath</th>                     <td>-6472.7349</td> <td> 3345.912</td> <td>   -1.935</td> <td> 0.053</td> <td> -1.3e+04</td> <td>   90.739</td>\n",
       "</tr>\n",
       "<tr>\n",
       "  <th>FullBath</th>                         <td>-1839.3572</td> <td> 2303.181</td> <td>   -0.799</td> <td> 0.425</td> <td>-6357.367</td> <td> 2678.653</td>\n",
       "</tr>\n",
       "<tr>\n",
       "  <th>HalfBath</th>                         <td>-1745.3871</td> <td> 2214.303</td> <td>   -0.788</td> <td> 0.431</td> <td>-6089.052</td> <td> 2598.278</td>\n",
       "</tr>\n",
       "<tr>\n",
       "  <th>BedroomAbvGr</th>                     <td>-1.179e+04</td> <td> 1379.653</td> <td>   -8.545</td> <td> 0.000</td> <td>-1.45e+04</td> <td>-9082.100</td>\n",
       "</tr>\n",
       "<tr>\n",
       "  <th>KitchenAbvGr</th>                     <td>-2.403e+04</td> <td> 3983.327</td> <td>   -6.034</td> <td> 0.000</td> <td>-3.18e+04</td> <td>-1.62e+04</td>\n",
       "</tr>\n",
       "<tr>\n",
       "  <th>TotRmsAbvGrd</th>                     <td> 5593.5981</td> <td> 1013.354</td> <td>    5.520</td> <td> 0.000</td> <td> 3605.763</td> <td> 7581.433</td>\n",
       "</tr>\n",
       "<tr>\n",
       "  <th>Fireplaces</th>                       <td> 1842.6362</td> <td> 1457.101</td> <td>    1.265</td> <td> 0.206</td> <td>-1015.671</td> <td> 4700.943</td>\n",
       "</tr>\n",
       "<tr>\n",
       "  <th>GarageYrBlt</th>                      <td>  106.9927</td> <td>   56.099</td> <td>    1.907</td> <td> 0.057</td> <td>   -3.053</td> <td>  217.038</td>\n",
       "</tr>\n",
       "<tr>\n",
       "  <th>GarageCars</th>                       <td> 3023.0111</td> <td> 2356.422</td> <td>    1.283</td> <td> 0.200</td> <td>-1599.439</td> <td> 7645.461</td>\n",
       "</tr>\n",
       "<tr>\n",
       "  <th>GarageArea</th>                       <td>   18.5384</td> <td>    8.052</td> <td>    2.302</td> <td> 0.021</td> <td>    2.743</td> <td>   34.334</td>\n",
       "</tr>\n",
       "<tr>\n",
       "  <th>WoodDeckSF</th>                       <td>   15.2935</td> <td>    6.518</td> <td>    2.346</td> <td> 0.019</td> <td>    2.508</td> <td>   28.079</td>\n",
       "</tr>\n",
       "<tr>\n",
       "  <th>OpenPorchSF</th>                      <td>   27.3756</td> <td>   12.513</td> <td>    2.188</td> <td> 0.029</td> <td>    2.829</td> <td>   51.922</td>\n",
       "</tr>\n",
       "<tr>\n",
       "  <th>EnclosedPorch</th>                    <td>   11.2541</td> <td>   13.682</td> <td>    0.823</td> <td> 0.411</td> <td>  -15.585</td> <td>   38.093</td>\n",
       "</tr>\n",
       "<tr>\n",
       "  <th>3SsnPorch</th>                        <td>   10.4082</td> <td>   25.354</td> <td>    0.411</td> <td> 0.681</td> <td>  -39.328</td> <td>   60.144</td>\n",
       "</tr>\n",
       "<tr>\n",
       "  <th>ScreenPorch</th>                      <td>   38.0293</td> <td>   13.973</td> <td>    2.722</td> <td> 0.007</td> <td>   10.620</td> <td>   65.439</td>\n",
       "</tr>\n",
       "<tr>\n",
       "  <th>PoolArea</th>                         <td>   -3.5168</td> <td>   21.287</td> <td>   -0.165</td> <td> 0.869</td> <td>  -45.275</td> <td>   38.241</td>\n",
       "</tr>\n",
       "<tr>\n",
       "  <th>MiscVal</th>                          <td>   -1.0412</td> <td>    1.505</td> <td>   -0.692</td> <td> 0.489</td> <td>   -3.993</td> <td>    1.911</td>\n",
       "</tr>\n",
       "<tr>\n",
       "  <th>MoSold</th>                           <td>  -16.9945</td> <td>  276.902</td> <td>   -0.061</td> <td> 0.951</td> <td> -560.176</td> <td>  526.188</td>\n",
       "</tr>\n",
       "<tr>\n",
       "  <th>zone_low_density</th>                 <td> 6488.6639</td> <td> 2135.912</td> <td>    3.038</td> <td> 0.002</td> <td> 2298.775</td> <td> 1.07e+04</td>\n",
       "</tr>\n",
       "<tr>\n",
       "  <th>one_story_style</th>                  <td> 6570.5700</td> <td> 3002.646</td> <td>    2.188</td> <td> 0.029</td> <td>  680.461</td> <td> 1.25e+04</td>\n",
       "</tr>\n",
       "<tr>\n",
       "  <th>two_story_style</th>                  <td>-2732.2378</td> <td> 4015.387</td> <td>   -0.680</td> <td> 0.496</td> <td>-1.06e+04</td> <td> 5144.504</td>\n",
       "</tr>\n",
       "<tr>\n",
       "  <th>one_half_story_style</th>             <td>  659.9872</td> <td> 3689.555</td> <td>    0.179</td> <td> 0.858</td> <td>-6577.590</td> <td> 7897.564</td>\n",
       "</tr>\n",
       "<tr>\n",
       "  <th>typical_functionality</th>            <td> 1.371e+04</td> <td> 3210.058</td> <td>    4.272</td> <td> 0.000</td> <td> 7415.270</td> <td>    2e+04</td>\n",
       "</tr>\n",
       "<tr>\n",
       "  <th>sale_normal_condition</th>            <td>-7827.3892</td> <td> 2033.137</td> <td>   -3.850</td> <td> 0.000</td> <td>-1.18e+04</td> <td>-3839.107</td>\n",
       "</tr>\n",
       "<tr>\n",
       "  <th>gas_heating</th>                      <td>-4403.7303</td> <td> 5333.956</td> <td>   -0.826</td> <td> 0.409</td> <td>-1.49e+04</td> <td> 6059.570</td>\n",
       "</tr>\n",
       "<tr>\n",
       "  <th>time_taken_to_remodel</th>            <td>  -18.4268</td> <td>   29.553</td> <td>   -0.624</td> <td> 0.533</td> <td>  -76.399</td> <td>   39.546</td>\n",
       "</tr>\n",
       "<tr>\n",
       "  <th>time_taken_to_sell</th>               <td> -226.4515</td> <td>   38.136</td> <td>   -5.938</td> <td> 0.000</td> <td> -301.261</td> <td> -151.642</td>\n",
       "</tr>\n",
       "<tr>\n",
       "  <th>time_taken_to_sell_after_remodel</th> <td> -208.0247</td> <td>   37.895</td> <td>   -5.490</td> <td> 0.000</td> <td> -282.361</td> <td> -133.689</td>\n",
       "</tr>\n",
       "<tr>\n",
       "  <th>intercept</th>                        <td>-2.603e+05</td> <td> 1.13e+05</td> <td>   -2.308</td> <td> 0.021</td> <td>-4.81e+05</td> <td>-3.91e+04</td>\n",
       "</tr>\n",
       "</table>\n",
       "<table class=\"simpletable\">\n",
       "<tr>\n",
       "  <th>Omnibus:</th>       <td>422.947</td> <th>  Durbin-Watson:     </th> <td>   2.035</td>\n",
       "</tr>\n",
       "<tr>\n",
       "  <th>Prob(Omnibus):</th> <td> 0.000</td>  <th>  Jarque-Bera (JB):  </th> <td>4012.154</td>\n",
       "</tr>\n",
       "<tr>\n",
       "  <th>Skew:</th>          <td> 1.071</td>  <th>  Prob(JB):          </th> <td>    0.00</td>\n",
       "</tr>\n",
       "<tr>\n",
       "  <th>Kurtosis:</th>      <td>10.845</td>  <th>  Cond. No.          </th> <td>1.01e+16</td>\n",
       "</tr>\n",
       "</table><br/><br/>Notes:<br/>[1] Standard Errors assume that the covariance matrix of the errors is correctly specified.<br/>[2] The smallest eigenvalue is  3e-21. This might indicate that there are<br/>strong multicollinearity problems or that the design matrix is singular."
      ],
      "text/plain": [
       "<class 'statsmodels.iolib.summary.Summary'>\n",
       "\"\"\"\n",
       "                            OLS Regression Results                            \n",
       "==============================================================================\n",
       "Dep. Variable:              SalePrice   R-squared:                       0.870\n",
       "Model:                            OLS   Adj. R-squared:                  0.866\n",
       "Method:                 Least Squares   F-statistic:                     248.8\n",
       "Date:                Sun, 01 May 2022   Prob (F-statistic):               0.00\n",
       "Time:                        01:35:18   Log-Likelihood:                -16959.\n",
       "No. Observations:                1456   AIC:                         3.400e+04\n",
       "Df Residuals:                    1417   BIC:                         3.420e+04\n",
       "Df Model:                          38                                         \n",
       "Covariance Type:            nonrobust                                         \n",
       "====================================================================================================\n",
       "                                       coef    std err          t      P>|t|      [0.025      0.975]\n",
       "----------------------------------------------------------------------------------------------------\n",
       "LotArea                              0.5892      0.082      7.168      0.000       0.428       0.750\n",
       "OverallQual                         1.4e+04    980.392     14.279      0.000    1.21e+04    1.59e+04\n",
       "OverallCond                       4810.6610    864.986      5.562      0.000    3113.871    6507.451\n",
       "MasVnrArea                          28.7187      4.871      5.896      0.000      19.163      38.274\n",
       "BsmtFinSF1                          20.2892      2.144      9.464      0.000      16.084      24.495\n",
       "BsmtFinSF2                           0.3289      3.650      0.090      0.928      -6.830       7.488\n",
       "BsmtUnfSF                           -0.2817      1.969     -0.143      0.886      -4.145       3.582\n",
       "TotalBsmtSF                         20.3364      2.826      7.196      0.000      14.793      25.880\n",
       "1stFlrSF                            23.5409      5.308      4.435      0.000      13.129      33.953\n",
       "2ndFlrSF                            28.9580      5.521      5.245      0.000      18.128      39.788\n",
       "LowQualFinSF                       -18.3571     12.279     -1.495      0.135     -42.445       5.730\n",
       "GrLivArea                           34.1418      4.674      7.305      0.000      24.974      43.310\n",
       "BsmtFullBath                      1188.0415   2142.964      0.554      0.579   -3015.682    5391.765\n",
       "BsmtHalfBath                     -6472.7349   3345.912     -1.935      0.053    -1.3e+04      90.739\n",
       "FullBath                         -1839.3572   2303.181     -0.799      0.425   -6357.367    2678.653\n",
       "HalfBath                         -1745.3871   2214.303     -0.788      0.431   -6089.052    2598.278\n",
       "BedroomAbvGr                     -1.179e+04   1379.653     -8.545      0.000   -1.45e+04   -9082.100\n",
       "KitchenAbvGr                     -2.403e+04   3983.327     -6.034      0.000   -3.18e+04   -1.62e+04\n",
       "TotRmsAbvGrd                      5593.5981   1013.354      5.520      0.000    3605.763    7581.433\n",
       "Fireplaces                        1842.6362   1457.101      1.265      0.206   -1015.671    4700.943\n",
       "GarageYrBlt                        106.9927     56.099      1.907      0.057      -3.053     217.038\n",
       "GarageCars                        3023.0111   2356.422      1.283      0.200   -1599.439    7645.461\n",
       "GarageArea                          18.5384      8.052      2.302      0.021       2.743      34.334\n",
       "WoodDeckSF                          15.2935      6.518      2.346      0.019       2.508      28.079\n",
       "OpenPorchSF                         27.3756     12.513      2.188      0.029       2.829      51.922\n",
       "EnclosedPorch                       11.2541     13.682      0.823      0.411     -15.585      38.093\n",
       "3SsnPorch                           10.4082     25.354      0.411      0.681     -39.328      60.144\n",
       "ScreenPorch                         38.0293     13.973      2.722      0.007      10.620      65.439\n",
       "PoolArea                            -3.5168     21.287     -0.165      0.869     -45.275      38.241\n",
       "MiscVal                             -1.0412      1.505     -0.692      0.489      -3.993       1.911\n",
       "MoSold                             -16.9945    276.902     -0.061      0.951    -560.176     526.188\n",
       "zone_low_density                  6488.6639   2135.912      3.038      0.002    2298.775    1.07e+04\n",
       "one_story_style                   6570.5700   3002.646      2.188      0.029     680.461    1.25e+04\n",
       "two_story_style                  -2732.2378   4015.387     -0.680      0.496   -1.06e+04    5144.504\n",
       "one_half_story_style               659.9872   3689.555      0.179      0.858   -6577.590    7897.564\n",
       "typical_functionality             1.371e+04   3210.058      4.272      0.000    7415.270       2e+04\n",
       "sale_normal_condition            -7827.3892   2033.137     -3.850      0.000   -1.18e+04   -3839.107\n",
       "gas_heating                      -4403.7303   5333.956     -0.826      0.409   -1.49e+04    6059.570\n",
       "time_taken_to_remodel              -18.4268     29.553     -0.624      0.533     -76.399      39.546\n",
       "time_taken_to_sell                -226.4515     38.136     -5.938      0.000    -301.261    -151.642\n",
       "time_taken_to_sell_after_remodel  -208.0247     37.895     -5.490      0.000    -282.361    -133.689\n",
       "intercept                        -2.603e+05   1.13e+05     -2.308      0.021   -4.81e+05   -3.91e+04\n",
       "==============================================================================\n",
       "Omnibus:                      422.947   Durbin-Watson:                   2.035\n",
       "Prob(Omnibus):                  0.000   Jarque-Bera (JB):             4012.154\n",
       "Skew:                           1.071   Prob(JB):                         0.00\n",
       "Kurtosis:                      10.845   Cond. No.                     1.01e+16\n",
       "==============================================================================\n",
       "\n",
       "Notes:\n",
       "[1] Standard Errors assume that the covariance matrix of the errors is correctly specified.\n",
       "[2] The smallest eigenvalue is  3e-21. This might indicate that there are\n",
       "strong multicollinearity problems or that the design matrix is singular.\n",
       "\"\"\""
      ]
     },
     "execution_count": 51,
     "metadata": {},
     "output_type": "execute_result"
    }
   ],
   "source": [
    "ols_model = OLS(ols_df['SalePrice'], ols_df.drop('SalePrice', axis='columns'))\n",
    "result = ols_model.fit()\n",
    "result.summary()"
   ]
  },
  {
   "cell_type": "markdown",
   "id": "11adb2f5",
   "metadata": {},
   "source": [
    "# Sklearn Models Analysis"
   ]
  },
  {
   "cell_type": "code",
   "execution_count": 52,
   "id": "b155290b",
   "metadata": {},
   "outputs": [],
   "source": [
    "features_cols = [\n",
    "    \"time_taken_to_sell\",\n",
    "    \"OverallQual\",\n",
    "    \"OverallCond\",\n",
    "    \"MasVnrArea\",\n",
    "    \"TotalBsmtSF\",\n",
    "    \"GrLivArea\",\n",
    "    \"BedroomAbvGr\",\n",
    "    \"TotRmsAbvGrd\",\n",
    "    \"GarageArea\",\n",
    "    \"ScreenPorch\",\n",
    "    \"zone_low_density\",\n",
    "    \"typical_functionality\",\n",
    "    \"sale_normal_condition\",\n",
    "]"
   ]
  },
  {
   "cell_type": "code",
   "execution_count": 53,
   "id": "45c5db17",
   "metadata": {},
   "outputs": [
    {
     "data": {
      "text/html": [
       "<div>\n",
       "<style scoped>\n",
       "    .dataframe tbody tr th:only-of-type {\n",
       "        vertical-align: middle;\n",
       "    }\n",
       "\n",
       "    .dataframe tbody tr th {\n",
       "        vertical-align: top;\n",
       "    }\n",
       "\n",
       "    .dataframe thead th {\n",
       "        text-align: right;\n",
       "    }\n",
       "</style>\n",
       "<table border=\"1\" class=\"dataframe\">\n",
       "  <thead>\n",
       "    <tr style=\"text-align: right;\">\n",
       "      <th></th>\n",
       "      <th>time_taken_to_sell</th>\n",
       "      <th>OverallQual</th>\n",
       "      <th>OverallCond</th>\n",
       "      <th>MasVnrArea</th>\n",
       "      <th>TotalBsmtSF</th>\n",
       "      <th>GrLivArea</th>\n",
       "      <th>BedroomAbvGr</th>\n",
       "      <th>TotRmsAbvGrd</th>\n",
       "      <th>GarageArea</th>\n",
       "      <th>ScreenPorch</th>\n",
       "      <th>zone_low_density</th>\n",
       "      <th>typical_functionality</th>\n",
       "      <th>sale_normal_condition</th>\n",
       "    </tr>\n",
       "  </thead>\n",
       "  <tbody>\n",
       "    <tr>\n",
       "      <th>0</th>\n",
       "      <td>5</td>\n",
       "      <td>7</td>\n",
       "      <td>5</td>\n",
       "      <td>196.0</td>\n",
       "      <td>856</td>\n",
       "      <td>1710</td>\n",
       "      <td>3</td>\n",
       "      <td>8</td>\n",
       "      <td>548</td>\n",
       "      <td>0</td>\n",
       "      <td>1</td>\n",
       "      <td>1</td>\n",
       "      <td>1</td>\n",
       "    </tr>\n",
       "    <tr>\n",
       "      <th>1</th>\n",
       "      <td>31</td>\n",
       "      <td>6</td>\n",
       "      <td>8</td>\n",
       "      <td>0.0</td>\n",
       "      <td>1262</td>\n",
       "      <td>1262</td>\n",
       "      <td>3</td>\n",
       "      <td>6</td>\n",
       "      <td>460</td>\n",
       "      <td>0</td>\n",
       "      <td>1</td>\n",
       "      <td>1</td>\n",
       "      <td>1</td>\n",
       "    </tr>\n",
       "    <tr>\n",
       "      <th>2</th>\n",
       "      <td>7</td>\n",
       "      <td>7</td>\n",
       "      <td>5</td>\n",
       "      <td>162.0</td>\n",
       "      <td>920</td>\n",
       "      <td>1786</td>\n",
       "      <td>3</td>\n",
       "      <td>6</td>\n",
       "      <td>608</td>\n",
       "      <td>0</td>\n",
       "      <td>1</td>\n",
       "      <td>1</td>\n",
       "      <td>1</td>\n",
       "    </tr>\n",
       "    <tr>\n",
       "      <th>3</th>\n",
       "      <td>91</td>\n",
       "      <td>7</td>\n",
       "      <td>5</td>\n",
       "      <td>0.0</td>\n",
       "      <td>756</td>\n",
       "      <td>1717</td>\n",
       "      <td>3</td>\n",
       "      <td>7</td>\n",
       "      <td>642</td>\n",
       "      <td>0</td>\n",
       "      <td>1</td>\n",
       "      <td>1</td>\n",
       "      <td>0</td>\n",
       "    </tr>\n",
       "    <tr>\n",
       "      <th>4</th>\n",
       "      <td>8</td>\n",
       "      <td>8</td>\n",
       "      <td>5</td>\n",
       "      <td>350.0</td>\n",
       "      <td>1145</td>\n",
       "      <td>2198</td>\n",
       "      <td>4</td>\n",
       "      <td>9</td>\n",
       "      <td>836</td>\n",
       "      <td>0</td>\n",
       "      <td>1</td>\n",
       "      <td>1</td>\n",
       "      <td>1</td>\n",
       "    </tr>\n",
       "  </tbody>\n",
       "</table>\n",
       "</div>"
      ],
      "text/plain": [
       "   time_taken_to_sell  OverallQual  OverallCond  MasVnrArea  TotalBsmtSF  \\\n",
       "0                   5            7            5       196.0          856   \n",
       "1                  31            6            8         0.0         1262   \n",
       "2                   7            7            5       162.0          920   \n",
       "3                  91            7            5         0.0          756   \n",
       "4                   8            8            5       350.0         1145   \n",
       "\n",
       "   GrLivArea  BedroomAbvGr  TotRmsAbvGrd  GarageArea  ScreenPorch  \\\n",
       "0       1710             3             8         548            0   \n",
       "1       1262             3             6         460            0   \n",
       "2       1786             3             6         608            0   \n",
       "3       1717             3             7         642            0   \n",
       "4       2198             4             9         836            0   \n",
       "\n",
       "   zone_low_density  typical_functionality  sale_normal_condition  \n",
       "0                 1                      1                      1  \n",
       "1                 1                      1                      1  \n",
       "2                 1                      1                      1  \n",
       "3                 1                      1                      0  \n",
       "4                 1                      1                      1  "
      ]
     },
     "execution_count": 53,
     "metadata": {},
     "output_type": "execute_result"
    }
   ],
   "source": [
    "features_df = train_df[features_cols]\n",
    "features_df.head()"
   ]
  },
  {
   "cell_type": "code",
   "execution_count": 54,
   "id": "ee48c051",
   "metadata": {},
   "outputs": [],
   "source": [
    "X = features_df.values\n",
    "y = train_df['SalePrice']"
   ]
  },
  {
   "cell_type": "code",
   "execution_count": 55,
   "id": "e20bd859",
   "metadata": {},
   "outputs": [
    {
     "data": {
      "text/plain": [
       "array([[-1.04612544,  0.66564559, -0.51746143, ...,  0.51903606,\n",
       "         0.27156272,  0.46516048],\n",
       "       [-0.18625648, -0.06470858,  2.17654515, ...,  0.51903606,\n",
       "         0.27156272,  0.46516048],\n",
       "       [-0.97998167,  0.66564559, -0.51746143, ...,  0.51903606,\n",
       "         0.27156272,  0.46516048],\n",
       "       ...,\n",
       "       [ 1.07047507,  0.66564559,  3.07454735, ...,  0.51903606,\n",
       "         0.27156272,  0.46516048],\n",
       "       [ 0.77282812, -0.79506274,  0.38054077, ...,  0.51903606,\n",
       "         0.27156272,  0.46516048],\n",
       "       [ 0.21060611, -0.79506274,  0.38054077, ...,  0.51903606,\n",
       "         0.27156272,  0.46516048]])"
      ]
     },
     "execution_count": 55,
     "metadata": {},
     "output_type": "execute_result"
    }
   ],
   "source": [
    "sc = StandardScaler()\n",
    "\n",
    "X = sc.fit_transform(X)\n",
    "X"
   ]
  },
  {
   "cell_type": "code",
   "execution_count": 56,
   "id": "a30cd346",
   "metadata": {},
   "outputs": [],
   "source": [
    "x_train, x_test, y_train, y_test = train_test_split(X, y, test_size=TEST_SIZE, \n",
    "                                                    random_state=RANDOM_STATE)\n",
    "\n",
    "assert x_train.shape[1] == x_test.shape[1]"
   ]
  },
  {
   "cell_type": "markdown",
   "id": "ea27e634",
   "metadata": {},
   "source": [
    "## Linear Model"
   ]
  },
  {
   "cell_type": "code",
   "execution_count": 57,
   "id": "f922d38f",
   "metadata": {},
   "outputs": [
    {
     "name": "stdout",
     "output_type": "stream",
     "text": [
      "R2 Score for Linear Model :  0.8464733772982462\n",
      "RMSE for Linear Model :  28386.122329701033\n"
     ]
    }
   ],
   "source": [
    "lm = LinearRegression()\n",
    "lm.fit(x_train, y_train)\n",
    "lm_preds = lm.predict(x_test)\n",
    "\n",
    "print(\"R2 Score for Linear Model : \", lm.score(x_test, y_test))\n",
    "print(\"RMSE for Linear Model : \", np.sqrt(mean_squared_error(y_test, lm_preds)))"
   ]
  },
  {
   "cell_type": "markdown",
   "id": "d5b614c6",
   "metadata": {},
   "source": [
    "## RandomForest Model"
   ]
  },
  {
   "cell_type": "code",
   "execution_count": 58,
   "id": "f5711628",
   "metadata": {},
   "outputs": [
    {
     "name": "stdout",
     "output_type": "stream",
     "text": [
      "R2 Score for Random Forest Model :  0.8718567738601649\n",
      "RMSE for Random Forest Model :  25933.554655943077\n"
     ]
    }
   ],
   "source": [
    "rf_model = RandomForestRegressor()\n",
    "rf_model.fit(x_train, y_train)\n",
    "rf_preds = rf_model.predict(x_test)\n",
    "\n",
    "print(\"R2 Score for Random Forest Model : \", rf_model.score(x_test, y_test))\n",
    "print(\"RMSE for Random Forest Model : \", np.sqrt(mean_squared_error(y_test, rf_preds)))"
   ]
  },
  {
   "cell_type": "markdown",
   "id": "a1810191",
   "metadata": {},
   "source": [
    "## DecisionTreeRegressor Model"
   ]
  },
  {
   "cell_type": "code",
   "execution_count": 59,
   "id": "b8e016d0",
   "metadata": {},
   "outputs": [
    {
     "name": "stdout",
     "output_type": "stream",
     "text": [
      "R2 Score for Decision Tree Model :  0.8718567738601649\n",
      "RMSE for Decision Tree Model :  39583.2371666652\n"
     ]
    }
   ],
   "source": [
    "dt_model = DecisionTreeRegressor()\n",
    "dt_model.fit(x_train, y_train)\n",
    "dt_preds = dt_model.predict(x_test)\n",
    "\n",
    "print(\"R2 Score for Decision Tree Model : \", rf_model.score(x_test, y_test))\n",
    "print(\"RMSE for Decision Tree Model : \", np.sqrt(mean_squared_error(y_test, dt_preds)))"
   ]
  },
  {
   "cell_type": "markdown",
   "id": "d3b150cb",
   "metadata": {},
   "source": [
    "**Random Forest Model** is the best till this moment with **RMSE = 25126.752** and **R2 = 0.8797** and I will use to predict the test dataframe"
   ]
  },
  {
   "cell_type": "markdown",
   "id": "e8ae9885",
   "metadata": {},
   "source": [
    "## Generating Prediction on Test DataFrame"
   ]
  },
  {
   "cell_type": "markdown",
   "id": "5258b498",
   "metadata": {},
   "source": [
    "### Cleaning Test Dataset like in Train Dataset"
   ]
  },
  {
   "cell_type": "code",
   "execution_count": 60,
   "id": "884ee5ef",
   "metadata": {},
   "outputs": [],
   "source": [
    "## MSZoning Column\n",
    "test_df['zone_low_density'] = test_df['MSZoning'] == \"RL\"\n",
    "\n",
    "## HouseStyle Column\n",
    "test_df['one_story_style'] = test_df['HouseStyle'] == '1Story'\n",
    "test_df['two_story_style'] = test_df['HouseStyle'] == '2Story'\n",
    "test_df['one_half_story_style'] = test_df['HouseStyle'] == '1.5Fin'\n",
    "\n",
    "## Functional Column\n",
    "test_df['typical_functionality'] = test_df['Functional'] == 'Typ'\n",
    "\n",
    "## Sale Condition\n",
    "test_df['sale_normal_condition'] = test_df['SaleCondition'] == 'Normal'\n",
    "\n",
    "## Heating Column\n",
    "test_df['gas_heating'] = test_df['Heating'] == 'GasA'\n",
    "\n",
    "## conver to numeric values\n",
    "cols = ['zone_low_density', 'one_story_style', 'two_story_style', 'typical_functionality',\n",
    "        'one_half_story_style', 'gas_heating', 'sale_normal_condition']\n",
    "\n",
    "test_df[cols] = test_df[cols].astype('int')\n",
    "\n",
    "# test_df[\n",
    "#     ['zone_low_density', 'one_story_style', 'two_story_style', 'typical_functionality',\n",
    "#      'one_half_story_style', 'gas_heating', 'sale_normal_condition']\n",
    "# ].head()"
   ]
  },
  {
   "cell_type": "code",
   "execution_count": 61,
   "id": "aff60b72",
   "metadata": {},
   "outputs": [],
   "source": [
    "test_df['time_taken_to_sell'] = test_df['YrSold'] - test_df['YearBuilt']"
   ]
  },
  {
   "cell_type": "code",
   "execution_count": 62,
   "id": "a19bfd0c",
   "metadata": {},
   "outputs": [
    {
     "data": {
      "text/html": [
       "<div>\n",
       "<style scoped>\n",
       "    .dataframe tbody tr th:only-of-type {\n",
       "        vertical-align: middle;\n",
       "    }\n",
       "\n",
       "    .dataframe tbody tr th {\n",
       "        vertical-align: top;\n",
       "    }\n",
       "\n",
       "    .dataframe thead th {\n",
       "        text-align: right;\n",
       "    }\n",
       "</style>\n",
       "<table border=\"1\" class=\"dataframe\">\n",
       "  <thead>\n",
       "    <tr style=\"text-align: right;\">\n",
       "      <th></th>\n",
       "      <th>time_taken_to_sell</th>\n",
       "      <th>OverallQual</th>\n",
       "      <th>OverallCond</th>\n",
       "      <th>MasVnrArea</th>\n",
       "      <th>TotalBsmtSF</th>\n",
       "      <th>GrLivArea</th>\n",
       "      <th>BedroomAbvGr</th>\n",
       "      <th>TotRmsAbvGrd</th>\n",
       "      <th>GarageArea</th>\n",
       "      <th>ScreenPorch</th>\n",
       "      <th>zone_low_density</th>\n",
       "      <th>typical_functionality</th>\n",
       "      <th>sale_normal_condition</th>\n",
       "    </tr>\n",
       "  </thead>\n",
       "  <tbody>\n",
       "    <tr>\n",
       "      <th>0</th>\n",
       "      <td>49</td>\n",
       "      <td>5</td>\n",
       "      <td>6</td>\n",
       "      <td>0.0</td>\n",
       "      <td>882.0</td>\n",
       "      <td>896</td>\n",
       "      <td>2</td>\n",
       "      <td>5</td>\n",
       "      <td>730.0</td>\n",
       "      <td>120</td>\n",
       "      <td>0</td>\n",
       "      <td>1</td>\n",
       "      <td>1</td>\n",
       "    </tr>\n",
       "    <tr>\n",
       "      <th>1</th>\n",
       "      <td>52</td>\n",
       "      <td>6</td>\n",
       "      <td>6</td>\n",
       "      <td>108.0</td>\n",
       "      <td>1329.0</td>\n",
       "      <td>1329</td>\n",
       "      <td>3</td>\n",
       "      <td>6</td>\n",
       "      <td>312.0</td>\n",
       "      <td>0</td>\n",
       "      <td>1</td>\n",
       "      <td>1</td>\n",
       "      <td>1</td>\n",
       "    </tr>\n",
       "    <tr>\n",
       "      <th>2</th>\n",
       "      <td>13</td>\n",
       "      <td>5</td>\n",
       "      <td>5</td>\n",
       "      <td>0.0</td>\n",
       "      <td>928.0</td>\n",
       "      <td>1629</td>\n",
       "      <td>3</td>\n",
       "      <td>6</td>\n",
       "      <td>482.0</td>\n",
       "      <td>0</td>\n",
       "      <td>1</td>\n",
       "      <td>1</td>\n",
       "      <td>1</td>\n",
       "    </tr>\n",
       "    <tr>\n",
       "      <th>3</th>\n",
       "      <td>12</td>\n",
       "      <td>6</td>\n",
       "      <td>6</td>\n",
       "      <td>20.0</td>\n",
       "      <td>926.0</td>\n",
       "      <td>1604</td>\n",
       "      <td>3</td>\n",
       "      <td>7</td>\n",
       "      <td>470.0</td>\n",
       "      <td>0</td>\n",
       "      <td>1</td>\n",
       "      <td>1</td>\n",
       "      <td>1</td>\n",
       "    </tr>\n",
       "    <tr>\n",
       "      <th>4</th>\n",
       "      <td>18</td>\n",
       "      <td>8</td>\n",
       "      <td>5</td>\n",
       "      <td>0.0</td>\n",
       "      <td>1280.0</td>\n",
       "      <td>1280</td>\n",
       "      <td>2</td>\n",
       "      <td>5</td>\n",
       "      <td>506.0</td>\n",
       "      <td>144</td>\n",
       "      <td>1</td>\n",
       "      <td>1</td>\n",
       "      <td>1</td>\n",
       "    </tr>\n",
       "  </tbody>\n",
       "</table>\n",
       "</div>"
      ],
      "text/plain": [
       "   time_taken_to_sell  OverallQual  OverallCond  MasVnrArea  TotalBsmtSF  \\\n",
       "0                  49            5            6         0.0        882.0   \n",
       "1                  52            6            6       108.0       1329.0   \n",
       "2                  13            5            5         0.0        928.0   \n",
       "3                  12            6            6        20.0        926.0   \n",
       "4                  18            8            5         0.0       1280.0   \n",
       "\n",
       "   GrLivArea  BedroomAbvGr  TotRmsAbvGrd  GarageArea  ScreenPorch  \\\n",
       "0        896             2             5       730.0          120   \n",
       "1       1329             3             6       312.0            0   \n",
       "2       1629             3             6       482.0            0   \n",
       "3       1604             3             7       470.0            0   \n",
       "4       1280             2             5       506.0          144   \n",
       "\n",
       "   zone_low_density  typical_functionality  sale_normal_condition  \n",
       "0                 0                      1                      1  \n",
       "1                 1                      1                      1  \n",
       "2                 1                      1                      1  \n",
       "3                 1                      1                      1  \n",
       "4                 1                      1                      1  "
      ]
     },
     "execution_count": 62,
     "metadata": {},
     "output_type": "execute_result"
    }
   ],
   "source": [
    "test_features_df = test_df[features_cols]\n",
    "test_features_df.head()"
   ]
  },
  {
   "cell_type": "code",
   "execution_count": 63,
   "id": "88ee9233",
   "metadata": {},
   "outputs": [
    {
     "data": {
      "text/plain": [
       "time_taken_to_sell        0\n",
       "OverallQual               0\n",
       "OverallCond               0\n",
       "MasVnrArea               15\n",
       "TotalBsmtSF               1\n",
       "GrLivArea                 0\n",
       "BedroomAbvGr              0\n",
       "TotRmsAbvGrd              0\n",
       "GarageArea                1\n",
       "ScreenPorch               0\n",
       "zone_low_density          0\n",
       "typical_functionality     0\n",
       "sale_normal_condition     0\n",
       "dtype: int64"
      ]
     },
     "execution_count": 63,
     "metadata": {},
     "output_type": "execute_result"
    }
   ],
   "source": [
    "test_features_df.isna().sum()"
   ]
  },
  {
   "cell_type": "code",
   "execution_count": 64,
   "id": "c1180388",
   "metadata": {},
   "outputs": [],
   "source": [
    "test_features_df['MasVnrArea'].fillna(test_features_df['MasVnrArea'].mean(), inplace=True)\n",
    "test_features_df['TotalBsmtSF'].fillna(test_features_df['TotalBsmtSF'].mean(), inplace=True)\n",
    "test_features_df['GarageArea'].fillna(test_features_df['GarageArea'].mean(), inplace=True)\n",
    "\n",
    "assert len(test_features_df.isna().sum()[test_features_df.isna().sum() != 0]) == 0"
   ]
  },
  {
   "cell_type": "code",
   "execution_count": 65,
   "id": "9488f3e0",
   "metadata": {},
   "outputs": [
    {
     "data": {
      "text/plain": [
       "array([[ 0.41378443, -0.75110125,  0.40076604, ..., -1.79693781,\n",
       "         0.27416383,  0.46021084],\n",
       "       [ 0.51239787, -0.05487716,  0.40076604, ...,  0.55650229,\n",
       "         0.27416383,  0.46021084],\n",
       "       [-0.76957685, -0.75110125, -0.49741776, ...,  0.55650229,\n",
       "         0.27416383,  0.46021084],\n",
       "       ...,\n",
       "       [ 0.31517099, -0.75110125,  1.29894985, ...,  0.55650229,\n",
       "         0.27416383, -2.17291708],\n",
       "       [-0.73670571, -0.75110125, -0.49741776, ...,  0.55650229,\n",
       "         0.27416383,  0.46021084],\n",
       "       [-0.76957685,  0.64134693, -0.49741776, ...,  0.55650229,\n",
       "         0.27416383,  0.46021084]])"
      ]
     },
     "execution_count": 65,
     "metadata": {},
     "output_type": "execute_result"
    }
   ],
   "source": [
    "X_test = test_features_df.values\n",
    "X_test = sc.fit_transform(X_test)\n",
    "X_test"
   ]
  },
  {
   "cell_type": "markdown",
   "id": "45e825de",
   "metadata": {},
   "source": [
    "### Evaluating Best Machine Learning Model."
   ]
  },
  {
   "cell_type": "code",
   "execution_count": 66,
   "id": "4333d8ad",
   "metadata": {},
   "outputs": [
    {
     "data": {
      "text/plain": [
       "array([129459.  , 154134.5 , 172650.33, ..., 151392.5 , 113305.  ,\n",
       "       233236.3 ])"
      ]
     },
     "execution_count": 66,
     "metadata": {},
     "output_type": "execute_result"
    }
   ],
   "source": [
    "test_preds = rf_model.predict(X_test)\n",
    "test_preds"
   ]
  },
  {
   "cell_type": "code",
   "execution_count": 67,
   "id": "485e6ecf",
   "metadata": {},
   "outputs": [
    {
     "data": {
      "text/html": [
       "<div>\n",
       "<style scoped>\n",
       "    .dataframe tbody tr th:only-of-type {\n",
       "        vertical-align: middle;\n",
       "    }\n",
       "\n",
       "    .dataframe tbody tr th {\n",
       "        vertical-align: top;\n",
       "    }\n",
       "\n",
       "    .dataframe thead th {\n",
       "        text-align: right;\n",
       "    }\n",
       "</style>\n",
       "<table border=\"1\" class=\"dataframe\">\n",
       "  <thead>\n",
       "    <tr style=\"text-align: right;\">\n",
       "      <th></th>\n",
       "      <th>Id</th>\n",
       "      <th>SalePrice</th>\n",
       "    </tr>\n",
       "  </thead>\n",
       "  <tbody>\n",
       "    <tr>\n",
       "      <th>0</th>\n",
       "      <td>1461</td>\n",
       "      <td>129459.00</td>\n",
       "    </tr>\n",
       "    <tr>\n",
       "      <th>1</th>\n",
       "      <td>1462</td>\n",
       "      <td>154134.50</td>\n",
       "    </tr>\n",
       "    <tr>\n",
       "      <th>2</th>\n",
       "      <td>1463</td>\n",
       "      <td>172650.33</td>\n",
       "    </tr>\n",
       "    <tr>\n",
       "      <th>3</th>\n",
       "      <td>1464</td>\n",
       "      <td>190920.00</td>\n",
       "    </tr>\n",
       "    <tr>\n",
       "      <th>4</th>\n",
       "      <td>1465</td>\n",
       "      <td>210673.91</td>\n",
       "    </tr>\n",
       "  </tbody>\n",
       "</table>\n",
       "</div>"
      ],
      "text/plain": [
       "     Id  SalePrice\n",
       "0  1461  129459.00\n",
       "1  1462  154134.50\n",
       "2  1463  172650.33\n",
       "3  1464  190920.00\n",
       "4  1465  210673.91"
      ]
     },
     "execution_count": 67,
     "metadata": {},
     "output_type": "execute_result"
    }
   ],
   "source": [
    "test_df['SalePrice'] = test_preds\n",
    "test_df[['Id', 'SalePrice']].head()"
   ]
  },
  {
   "cell_type": "code",
   "execution_count": 68,
   "id": "3cbc728b",
   "metadata": {},
   "outputs": [],
   "source": [
    "## exporting the predictions to csv\n",
    "test_df[['Id', 'SalePrice']].to_csv('./predictions/predictions_1.csv', index=False)"
   ]
  },
  {
   "cell_type": "markdown",
   "id": "34b69098",
   "metadata": {},
   "source": [
    "## PyTorch Neural Network Model"
   ]
  },
  {
   "cell_type": "code",
   "execution_count": 69,
   "id": "baeba291",
   "metadata": {
    "scrolled": true
   },
   "outputs": [
    {
     "data": {
      "text/plain": [
       "(tensor([[ 1.4673e+00,  6.6565e-01,  1.2785e+00, -5.7750e-01, -7.8313e-01,\n",
       "           2.7081e-01,  1.6591e-01, -3.1416e-01,  3.5123e-01, -2.7061e-01,\n",
       "          -1.9266e+00,  2.7156e-01,  4.6516e-01],\n",
       "         [-1.0131e+00,  2.8567e+00, -5.1746e-01,  3.4103e+00,  3.8405e+00,\n",
       "           2.2682e+00, -1.0603e+00,  9.2712e-01,  1.5687e+00, -2.7061e-01,\n",
       "           5.1904e-01,  2.7156e-01,  4.6516e-01],\n",
       "         [ 5.0825e-01, -7.9506e-01, -5.1746e-01, -5.7750e-01, -2.5501e+00,\n",
       "          -7.7017e-01,  1.6591e-01, -9.3479e-01, -2.2253e+00, -2.7061e-01,\n",
       "           5.1904e-01, -3.6824e+00,  4.6516e-01],\n",
       "         [ 7.8319e-02, -7.9506e-01,  3.8054e-01, -1.4761e-01, -1.1810e-01,\n",
       "          -1.0158e+00,  1.6591e-01, -9.3479e-01,  2.0312e+00, -2.7061e-01,\n",
       "           5.1904e-01,  2.7156e-01,  4.6516e-01],\n",
       "         [ 1.4673e+00, -7.9506e-01,  1.2785e+00, -5.7750e-01, -3.0256e-01,\n",
       "          -3.8358e-01,  1.6591e-01, -3.1416e-01,  5.8662e-02, -2.7061e-01,\n",
       "          -1.9266e+00,  2.7156e-01,  4.6516e-01],\n",
       "         [ 2.7675e-01, -7.9506e-01, -5.1746e-01, -5.7750e-01,  2.1684e-01,\n",
       "           3.8156e-01,  1.6591e-01,  9.2712e-01, -5.7839e-01, -2.7061e-01,\n",
       "           5.1904e-01, -3.6824e+00,  4.6516e-01],\n",
       "         [ 1.8973e+00, -6.4709e-02,  3.8054e-01, -5.7750e-01, -7.4915e-01,\n",
       "          -4.5308e-02,  1.6591e-01,  1.5478e+00, -2.2253e+00, -2.7061e-01,\n",
       "          -1.9266e+00,  2.7156e-01,  4.6516e-01],\n",
       "         [ 1.0043e+00, -7.9506e-01,  1.2785e+00, -5.7750e-01, -6.2536e-01,\n",
       "          -7.8225e-01,  1.6591e-01, -9.3479e-01, -2.9054e-01,  4.5852e+00,\n",
       "          -1.9266e+00,  2.7156e-01,  4.6516e-01],\n",
       "         [-7.1541e-01,  1.3960e+00, -5.1746e-01, -5.7750e-01,  6.9498e-01,\n",
       "          -3.4129e-01, -1.0603e+00, -9.3479e-01, -4.5154e-02, -2.7061e-01,\n",
       "           5.1904e-01,  2.7156e-01,  4.6516e-01],\n",
       "         [-1.2115e+00,  1.3960e+00, -5.1746e-01,  1.1194e+00,  1.2896e+00,\n",
       "           1.3178e+00,  1.6591e-01,  9.2712e-01,  1.4979e+00, -2.7061e-01,\n",
       "           5.1904e-01,  2.7156e-01, -2.1498e+00],\n",
       "         [ 5.7440e-01, -7.9506e-01, -5.1746e-01, -5.7750e-01,  8.0663e-01,\n",
       "          -2.4867e-01,  1.6591e-01, -3.1416e-01, -5.5480e-01, -2.7061e-01,\n",
       "           5.1904e-01,  2.7156e-01,  4.6516e-01],\n",
       "         [-1.8626e-01, -6.4709e-02,  1.2785e+00,  4.0672e-01,  2.2412e-01,\n",
       "          -7.9232e-01,  1.6591e-01, -3.1416e-01,  1.5304e-01, -2.7061e-01,\n",
       "           5.1904e-01,  2.7156e-01,  4.6516e-01],\n",
       "         [-1.0461e+00,  6.6565e-01, -5.1746e-01,  1.0742e+00, -1.2781e-01,\n",
       "           1.0863e+00,  1.6591e-01,  9.2712e-01,  1.8849e+00, -2.7061e-01,\n",
       "           5.1904e-01,  2.7156e-01,  4.6516e-01],\n",
       "         [-1.1453e+00,  1.3960e+00, -5.1746e-01, -5.7750e-01, -8.3409e-01,\n",
       "          -1.8625e-01,  1.6591e-01, -3.1416e-01, -3.2357e-01, -2.7061e-01,\n",
       "           5.1904e-01,  2.7156e-01,  4.6516e-01],\n",
       "         [-1.1453e+00,  1.3960e+00, -5.1746e-01, -5.7750e-01,  1.0081e+00,\n",
       "          -8.1551e-02,  1.6591e-01,  3.0648e-01,  6.5324e-01, -2.7061e-01,\n",
       "           5.1904e-01,  2.7156e-01,  4.6516e-01],\n",
       "         [-1.1453e+00, -6.4709e-02, -5.1746e-01,  8.7054e-01,  7.5566e-01,\n",
       "          -2.9096e-01, -1.0603e+00, -3.1416e-01, -5.4591e-02, -2.7061e-01,\n",
       "           5.1904e-01,  2.7156e-01,  4.6516e-01],\n",
       "         [-1.1784e+00, -6.4709e-02, -5.1746e-01, -1.5893e-01, -3.8023e-01,\n",
       "           8.5876e-01,  1.3921e+00,  1.5478e+00,  9.2694e-01, -2.7061e-01,\n",
       "           5.1904e-01,  2.7156e-01,  4.6516e-01],\n",
       "         [ 2.1061e-01, -6.4709e-02,  3.8054e-01, -5.7750e-01,  2.0713e-01,\n",
       "          -7.4601e-01,  1.6591e-01, -9.3479e-01, -4.1323e-01, -2.7061e-01,\n",
       "           5.1904e-01,  2.7156e-01,  4.6516e-01],\n",
       "         [-1.5318e-01, -6.4709e-02,  3.8054e-01,  2.1440e-01, -8.7536e-01,\n",
       "          -1.6209e-01,  1.6591e-01, -3.1416e-01, -1.4897e-01, -2.7061e-01,\n",
       "           5.1904e-01,  2.7156e-01,  4.6516e-01],\n",
       "         [ 1.7319e+00, -7.9506e-01,  1.2785e+00, -5.7750e-01, -5.6954e-01,\n",
       "          -1.8223e-01,  1.6591e-01,  3.0648e-01,  4.9280e-01, -2.7061e-01,\n",
       "           5.1904e-01,  2.7156e-01,  4.6516e-01],\n",
       "         [-1.0131e+00, -6.4709e-02, -5.1746e-01,  3.8409e-01, -4.9187e-01,\n",
       "          -1.3259e+00, -2.2865e+00, -1.5554e+00, -2.4335e-01, -2.7061e-01,\n",
       "          -1.9266e+00,  2.7156e-01,  4.6516e-01],\n",
       "         [-1.2115e+00,  6.6565e-01,  3.8054e-01, -5.7750e-01, -4.2877e-01,\n",
       "           5.1243e-01,  1.6591e-01,  3.0648e-01,  5.0224e-01, -2.7061e-01,\n",
       "          -1.9266e+00,  2.7156e-01, -2.1498e+00],\n",
       "         [-1.2115e+00, -6.4709e-02, -5.1746e-01, -1.9286e-01,  5.1295e-01,\n",
       "          -4.9231e-01, -1.0603e+00, -9.3479e-01,  4.7393e-01, -2.7061e-01,\n",
       "          -1.9266e+00,  2.7156e-01, -2.1498e+00],\n",
       "         [ 5.0825e-01, -7.9506e-01, -5.1746e-01, -5.7750e-01, -1.6180e+00,\n",
       "          -2.9498e-01,  1.6591e-01, -3.1416e-01,  4.7393e-01, -2.7061e-01,\n",
       "           5.1904e-01, -3.6824e+00,  4.6516e-01],\n",
       "         [-1.2115e+00,  1.3960e+00, -5.1746e-01, -1.7024e-01,  6.0518e-01,\n",
       "          -3.8761e-01,  1.6591e-01, -3.1416e-01,  3.7955e-01, -2.7061e-01,\n",
       "          -1.9266e+00,  2.7156e-01, -2.1498e+00],\n",
       "         [ 6.0747e-01, -7.9506e-01, -1.4155e+00, -5.7750e-01, -5.8168e-01,\n",
       "          -2.4062e-01,  1.6591e-01,  3.0648e-01, -1.0172e+00, -2.7061e-01,\n",
       "          -1.9266e+00,  2.7156e-01,  4.6516e-01],\n",
       "         [ 1.3681e+00, -7.9506e-01,  1.2785e+00, -5.7750e-01, -8.1468e-01,\n",
       "          -1.2715e+00, -1.0603e+00, -9.3479e-01, -1.3759e+00, -2.7061e-01,\n",
       "          -1.9266e+00,  2.7156e-01,  4.6516e-01],\n",
       "         [-1.0792e+00,  6.6565e-01, -5.1746e-01,  1.9226e+00, -4.4333e-01,\n",
       "          -7.2588e-01,  1.6591e-01, -3.1416e-01, -1.5841e-01, -2.7061e-01,\n",
       "           5.1904e-01,  2.7156e-01,  4.6516e-01],\n",
       "         [-1.1784e+00,  6.6565e-01, -5.1746e-01,  8.9868e-03,  9.1585e-01,\n",
       "          -1.5806e-01,  1.6591e-01, -3.1416e-01,  3.9787e-02, -2.7061e-01,\n",
       "          -1.9266e+00,  2.7156e-01, -2.1498e+00],\n",
       "         [ 2.4368e-01, -6.4709e-02,  3.8054e-01, -5.7750e-01,  1.1319e+00,\n",
       "           7.6815e-01, -1.0603e+00, -3.1416e-01,  5.0224e-01, -2.7061e-01,\n",
       "           5.1904e-01, -3.6824e+00,  4.6516e-01],\n",
       "         [-1.2011e-01, -6.4709e-02,  3.8054e-01,  8.6489e-01, -2.3443e-02,\n",
       "          -7.6816e-01,  1.6591e-01, -3.1416e-01, -5.6423e-01, -2.7061e-01,\n",
       "           5.1904e-01,  2.7156e-01, -2.1498e+00],\n",
       "         [-7.8155e-01, -6.4709e-02, -5.1746e-01,  1.6424e-02, -2.9770e-01,\n",
       "           4.3189e-01,  1.6591e-01,  3.0648e-01, -2.6836e-03, -2.7061e-01,\n",
       "           5.1904e-01,  2.7156e-01,  4.6516e-01]], dtype=torch.float64),\n",
       " tensor([178000, 466500,  93000, 148500, 130000, 143900, 128000, 119900, 180000,\n",
       "         325624, 165000, 148000, 284000, 178000, 201000, 194700, 214000, 140000,\n",
       "         159500, 112000, 140000, 227875, 185000, 130000, 229456,  93000, 105000,\n",
       "         187500, 182000, 190000, 125000, 201000]))"
      ]
     },
     "execution_count": 69,
     "metadata": {},
     "output_type": "execute_result"
    }
   ],
   "source": [
    "class HouseDataset(Dataset):\n",
    "    def __init__(self, x_data, y_data, transform=None):\n",
    "        \"\"\"\n",
    "        Args:\n",
    "            x_data (np.ndarray) : x_train data array\n",
    "            y_data (np.ndarray) : y_train data array\n",
    "            transform (callable, optional): Optional transform to be applied\n",
    "                on a sample.\n",
    "        \"\"\"\n",
    "        \n",
    "        self.x_data = x_data\n",
    "        self.y_data = y_data\n",
    "        self.transform = transform\n",
    "        \n",
    "    def __len__(self):\n",
    "        return self.x_data.shape[0]\n",
    "    \n",
    "    def __getitem__(self, idx):\n",
    "        if torch.is_tensor(idx):\n",
    "            idx = idx.tolist()\n",
    "            \n",
    "        if not isinstance(self.y_data, np.ndarray):\n",
    "            self.y_data = np.array(self.y_data)\n",
    "        \n",
    "        x_sample = self.x_data[idx]\n",
    "        y_sample = self.y_data[idx]\n",
    "        \n",
    "        if self.transform is not None:\n",
    "            x_sample = self.transform(x_sample)\n",
    "            \n",
    "        return x_sample, y_sample\n",
    "    \n",
    "    \n",
    "train_ds = HouseDataset(x_train, y_train)\n",
    "train_dl = DataLoader(train_ds, batch_size=BATCH_SIZE, shuffle=True)\n",
    "\n",
    "sample = next(iter(train_dl))\n",
    "sample[0], sample[1]"
   ]
  },
  {
   "cell_type": "code",
   "execution_count": 70,
   "id": "98c33962",
   "metadata": {},
   "outputs": [],
   "source": [
    "class NNet(nn.Module):\n",
    "    def __init__(self, input_size: int, hidden_sizes: list, output_size: int=1) -> None:\n",
    "        super().__init__()\n",
    "        \n",
    "        self.fc1 = nn.Linear(input_size, hidden_sizes[0])\n",
    "        self.fc2 = nn.Linear(hidden_sizes[0], hidden_sizes[1])\n",
    "        self.fc3 = nn.Linear(hidden_sizes[1], hidden_sizes[2])\n",
    "        self.fc4 = nn.Linear(hidden_sizes[2], output_size)\n",
    "    \n",
    "    def forward(self, x):\n",
    "        x = F.relu(self.fc1(x))\n",
    "        x = F.relu(self.fc2(x))\n",
    "        x = F.relu(self.fc3(x))\n",
    "        out = self.fc4(x)\n",
    "        \n",
    "        return out\n",
    "\n",
    "class RMSELoss(nn.Module):\n",
    "    def __init__(self):\n",
    "        super().__init__()\n",
    "        \n",
    "        self.mse = nn.MSELoss()\n",
    "    \n",
    "    def forward(self, y_pred, y_true):\n",
    "        return torch.sqrt(self.mse(y_pred, y_true))\n"
   ]
  },
  {
   "cell_type": "code",
   "execution_count": 71,
   "id": "01fb7e9a",
   "metadata": {},
   "outputs": [],
   "source": [
    "def train(train_dl, model, optimizer, criterion, epochs=100) -> list:\n",
    "    losses = []\n",
    "\n",
    "    print(\"{:<8}|{:>15}\".format(\"Epoch\", \"Loss\"))\n",
    "    print(\"=\"*24)\n",
    "    epoch_loss = 0\n",
    "    \n",
    "    for epoch in range(epochs):\n",
    "        epoch_losses = []\n",
    "        for x_batch, y_batch in train_dl:\n",
    "            \n",
    "            y_preds = model(x_batch.float())\n",
    "            loss = criterion(y_preds, y_batch.float())\n",
    "\n",
    "            optimizer.zero_grad()\n",
    "            loss.backward()\n",
    "            optimizer.step()\n",
    "            \n",
    "            epoch_loss += loss.item()\n",
    "            epoch_losses.append(loss.item())\n",
    "        \n",
    "        losses.append(np.mean(epoch_losses))\n",
    "        \n",
    "        if epoch % 10 == 0:\n",
    "            print(\"{:<8}|{:>15}\".format(epoch, round(np.mean(epoch_losses), 3)))\n",
    "\n",
    "    return losses\n"
   ]
  },
  {
   "cell_type": "code",
   "execution_count": 72,
   "id": "0c68143c",
   "metadata": {
    "scrolled": true
   },
   "outputs": [
    {
     "name": "stdout",
     "output_type": "stream",
     "text": [
      "NNet(\n",
      "  (fc1): Linear(in_features=13, out_features=32, bias=True)\n",
      "  (fc2): Linear(in_features=32, out_features=16, bias=True)\n",
      "  (fc3): Linear(in_features=16, out_features=8, bias=True)\n",
      "  (fc4): Linear(in_features=8, out_features=1, bias=True)\n",
      ")\n",
      "Epoch   |           Loss\n",
      "========================\n",
      "0       |     196045.524\n",
      "10      |      79553.088\n",
      "20      |      76881.525\n",
      "30      |      75187.745\n",
      "40      |      75267.642\n",
      "50      |       76417.62\n",
      "60      |      75412.843\n",
      "70      |      75768.498\n",
      "80      |      76077.083\n",
      "90      |      75788.585\n",
      "100     |      75680.965\n",
      "110     |      75396.359\n",
      "120     |      76147.532\n",
      "130     |      74582.772\n",
      "140     |      76748.031\n",
      "150     |       76243.72\n",
      "160     |      76572.471\n",
      "170     |      75917.212\n",
      "180     |      76640.626\n",
      "190     |      75758.835\n"
     ]
    }
   ],
   "source": [
    "## initializing mode\n",
    "n_feaures = x_train.shape[1]\n",
    "hidden_sizes = [32, 16, 8]\n",
    "output_size = 1\n",
    "\n",
    "model = NNet(n_feaures, hidden_sizes, output_size)\n",
    "\n",
    "print(model)\n",
    "\n",
    "## training Model\n",
    "optimizer = optim.Adam(model.parameters(), lr=LR)\n",
    "criterion = RMSELoss()\n",
    "\n",
    "losses = train(train_dl, model, optimizer, criterion, epochs=200)"
   ]
  },
  {
   "cell_type": "code",
   "execution_count": 73,
   "id": "f8cd0da1",
   "metadata": {},
   "outputs": [
    {
     "data": {
      "text/plain": [
       "(70000.0, 90000.0)"
      ]
     },
     "execution_count": 73,
     "metadata": {},
     "output_type": "execute_result"
    },
    {
     "data": {
      "image/png": "[encoded data removed]",
      "text/plain": [
       "<Figure size 720x432 with 1 Axes>"
      ]
     },
     "metadata": {
      "needs_background": "light"
     },
     "output_type": "display_data"
    }
   ],
   "source": [
    "%matplotlib inline\n",
    "\n",
    "fig, ax = plt.subplots(nrows=1, figsize=(10, 6))\n",
    "\n",
    "ax.plot(losses, 'r-', lw=2)\n",
    "ax.set_title(\"Torch Model Loss\")\n",
    "ax.set_xlabel(\"Epoch\")\n",
    "ax.set_ylabel(\"Loss\");\n",
    "ax.set_ylim([70000, 90000])"
   ]
  },
  {
   "cell_type": "code",
   "execution_count": null,
   "id": "ec52e044",
   "metadata": {},
   "outputs": [],
   "source": []
  }
 ],
 "metadata": {
  "kernelspec": {
   "display_name": "Python 3 (ipykernel)",
   "language": "python",
   "name": "python3"
  },
  "language_info": {
   "codemirror_mode": {
    "name": "ipython",
    "version": 3
   },
   "file_extension": ".py",
   "mimetype": "text/x-python",
   "name": "python",
   "nbconvert_exporter": "python",
   "pygments_lexer": "ipython3",
   "version": "3.9.12"
  }
 },
 "nbformat": 4,
 "nbformat_minor": 5
}
