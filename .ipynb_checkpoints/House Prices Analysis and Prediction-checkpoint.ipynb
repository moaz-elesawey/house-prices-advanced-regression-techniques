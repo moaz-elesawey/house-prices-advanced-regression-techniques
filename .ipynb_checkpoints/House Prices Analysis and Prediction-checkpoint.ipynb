{
 "cells": [
  {
   "cell_type": "code",
   "execution_count": 1,
   "id": "2551dda7",
   "metadata": {},
   "outputs": [
    {
     "ename": "ModuleNotFoundError",
     "evalue": "No module named 'torch'",
     "output_type": "error",
     "traceback": [
      "\u001b[0;31m---------------------------------------------------------------------------\u001b[0m",
      "\u001b[0;31mModuleNotFoundError\u001b[0m                       Traceback (most recent call last)",
      "\u001b[0;32m/tmp/ipykernel_201832/1531781719.py\u001b[0m in \u001b[0;36m<module>\u001b[0;34m\u001b[0m\n\u001b[1;32m     12\u001b[0m \u001b[0;32mfrom\u001b[0m \u001b[0msklearn\u001b[0m\u001b[0;34m.\u001b[0m\u001b[0mmetrics\u001b[0m \u001b[0;32mimport\u001b[0m \u001b[0mmean_squared_error\u001b[0m\u001b[0;34m\u001b[0m\u001b[0;34m\u001b[0m\u001b[0m\n\u001b[1;32m     13\u001b[0m \u001b[0;34m\u001b[0m\u001b[0m\n\u001b[0;32m---> 14\u001b[0;31m \u001b[0;32mimport\u001b[0m \u001b[0mtorch\u001b[0m\u001b[0;34m\u001b[0m\u001b[0;34m\u001b[0m\u001b[0m\n\u001b[0m\u001b[1;32m     15\u001b[0m \u001b[0;32mimport\u001b[0m \u001b[0mtorch\u001b[0m\u001b[0;34m.\u001b[0m\u001b[0mnn\u001b[0m \u001b[0;32mas\u001b[0m \u001b[0mnn\u001b[0m\u001b[0;34m\u001b[0m\u001b[0;34m\u001b[0m\u001b[0m\n\u001b[1;32m     16\u001b[0m \u001b[0;32mimport\u001b[0m \u001b[0mtorch\u001b[0m\u001b[0;34m.\u001b[0m\u001b[0mnn\u001b[0m\u001b[0;34m.\u001b[0m\u001b[0mfunctional\u001b[0m \u001b[0;32mas\u001b[0m \u001b[0mF\u001b[0m\u001b[0;34m\u001b[0m\u001b[0;34m\u001b[0m\u001b[0m\n",
      "\u001b[0;31mModuleNotFoundError\u001b[0m: No module named 'torch'"
     ]
    }
   ],
   "source": [
    "import numpy as np\n",
    "import pandas as pd\n",
    "import matplotlib.pyplot as plt\n",
    "import seaborn as sns\n",
    "from statsmodels.api import OLS\n",
    "\n",
    "from sklearn.preprocessing import StandardScaler\n",
    "from sklearn.model_selection import train_test_split\n",
    "from sklearn.linear_model import LinearRegression\n",
    "from sklearn.ensemble import RandomForestRegressor\n",
    "from sklearn.tree import DecisionTreeRegressor\n",
    "from sklearn.metrics import mean_squared_error\n",
    "\n",
    "import torch\n",
    "import torch.nn as nn\n",
    "import torch.nn.functional as F\n",
    "import torch.optim as optim\n",
    "from torch.utils.data import DataLoader, Dataset\n",
    "from torchvision import transforms\n",
    "\n",
    "%matplotlib inline"
   ]
  },
  {
   "cell_type": "code",
   "execution_count": null,
   "id": "4a1e23ae",
   "metadata": {},
   "outputs": [],
   "source": [
    "import warnings\n",
    "warnings.filterwarnings(\"ignore\")"
   ]
  },
  {
   "cell_type": "code",
   "execution_count": null,
   "id": "968f50da",
   "metadata": {},
   "outputs": [],
   "source": [
    "BASE_COLOR = sns.color_palette()[0]\n",
    "TEST_SIZE = 0.2\n",
    "RANDOM_STATE = 42\n",
    "BATCH_SIZE = 32\n",
    "LR = 0.01"
   ]
  },
  {
   "cell_type": "markdown",
   "id": "f526da31",
   "metadata": {},
   "source": [
    "# Load train and test Datasets"
   ]
  },
  {
   "cell_type": "code",
   "execution_count": null,
   "id": "e8b4db0e",
   "metadata": {},
   "outputs": [],
   "source": [
    "train_df = pd.read_csv(\"./data/train.csv\")\n",
    "test_df = pd.read_csv(\"./data/test.csv\")"
   ]
  },
  {
   "cell_type": "code",
   "execution_count": null,
   "id": "ebca874c",
   "metadata": {},
   "outputs": [],
   "source": [
    "train_df.head()"
   ]
  },
  {
   "cell_type": "markdown",
   "id": "0498d595",
   "metadata": {},
   "source": [
    "# Wrangle train Dataset"
   ]
  },
  {
   "cell_type": "markdown",
   "id": "0f74f088",
   "metadata": {},
   "source": [
    "## Dropping NaN values"
   ]
  },
  {
   "cell_type": "markdown",
   "id": "e16ff4df",
   "metadata": {},
   "source": [
    "droping NaN value with as follows:\n",
    " - if column has NaN values more than 200 entry will drop that column\n",
    " - if column has NaN values less than 200:\n",
    " - if column is numeric will fillna with the `mean`\n",
    " - if column is categorical will dropit"
   ]
  },
  {
   "cell_type": "code",
   "execution_count": null,
   "id": "b314b753",
   "metadata": {},
   "outputs": [],
   "source": [
    "nan_cols = train_df.isna().sum()\n",
    "nan_cols = nan_cols[nan_cols > 0]\n",
    "nan_cols"
   ]
  },
  {
   "cell_type": "code",
   "execution_count": null,
   "id": "96869b26",
   "metadata": {},
   "outputs": [],
   "source": [
    "nan_cols_to_drop = nan_cols[nan_cols > 200]\n",
    "train_df = train_df.drop(nan_cols_to_drop.index.values, axis='columns')\n",
    "train_df.head()"
   ]
  },
  {
   "cell_type": "code",
   "execution_count": null,
   "id": "f164dbc3",
   "metadata": {},
   "outputs": [],
   "source": [
    "nan_cols = train_df.isna().sum()\n",
    "nan_cols = nan_cols[nan_cols > 0]\n",
    "# nan_cols\n",
    "non_numeric_nan_cols = train_df[nan_cols.index.values].select_dtypes('object').columns\n",
    "non_numeric_nan_cols"
   ]
  },
  {
   "cell_type": "code",
   "execution_count": null,
   "id": "1fcc22f4",
   "metadata": {
    "scrolled": true
   },
   "outputs": [],
   "source": [
    "train_df = train_df.drop(non_numeric_nan_cols, axis=\"columns\")\n",
    "train_df.head()"
   ]
  },
  {
   "cell_type": "markdown",
   "id": "70dcfa24",
   "metadata": {},
   "source": [
    "## Checking any duplicates"
   ]
  },
  {
   "cell_type": "code",
   "execution_count": null,
   "id": "253b42e5",
   "metadata": {},
   "outputs": [],
   "source": [
    "train_df[train_df.duplicated()]"
   ]
  },
  {
   "cell_type": "markdown",
   "id": "e55f8359",
   "metadata": {},
   "source": [
    "**No Duplicated** row in the dataset"
   ]
  },
  {
   "cell_type": "code",
   "execution_count": null,
   "id": "bd91fafc",
   "metadata": {},
   "outputs": [],
   "source": [
    "nan_cols = train_df.isna().sum()\n",
    "nan_cols = nan_cols[nan_cols > 0]\n",
    "nan_cols"
   ]
  },
  {
   "cell_type": "code",
   "execution_count": null,
   "id": "e1f7dce3",
   "metadata": {},
   "outputs": [],
   "source": [
    "train_df['MasVnrArea'].fillna(train_df['MasVnrArea'].mean(), inplace=True)\n",
    "train_df['GarageYrBlt'].fillna(train_df['GarageYrBlt'].mean(), inplace=True)\n",
    "\n",
    "nan_cols = train_df.isna().sum()\n",
    "nan_cols = nan_cols[nan_cols > 0]\n",
    "\n",
    "assert len(nan_cols) == 0"
   ]
  },
  {
   "cell_type": "markdown",
   "id": "424befa7",
   "metadata": {},
   "source": [
    "## Inspecting Categorical Columns"
   ]
  },
  {
   "cell_type": "code",
   "execution_count": null,
   "id": "f55e2544",
   "metadata": {},
   "outputs": [],
   "source": [
    "numeric_cols = train_df.select_dtypes('number').columns\n",
    "categorical_cols = train_df.select_dtypes('object').columns"
   ]
  },
  {
   "cell_type": "code",
   "execution_count": null,
   "id": "58ed2a38",
   "metadata": {},
   "outputs": [],
   "source": [
    "numeric_cols"
   ]
  },
  {
   "cell_type": "code",
   "execution_count": null,
   "id": "e1a0dcf4",
   "metadata": {},
   "outputs": [],
   "source": [
    "categorical_cols"
   ]
  },
  {
   "cell_type": "markdown",
   "id": "6afa8b1b",
   "metadata": {},
   "source": [
    "### MSZoning Analysis"
   ]
  },
  {
   "cell_type": "code",
   "execution_count": null,
   "id": "ef16c597",
   "metadata": {},
   "outputs": [],
   "source": [
    "train_df['MSZoning'].value_counts(normalize=True).sort_values(ascending=False)"
   ]
  },
  {
   "cell_type": "markdown",
   "id": "faef7d58",
   "metadata": {},
   "source": [
    "**MSZoning** has a hig bias twards the **Residential Low Density** and **Residential Medium Density** zoning types."
   ]
  },
  {
   "cell_type": "markdown",
   "id": "f6fec3a3",
   "metadata": {},
   "source": [
    "### HouseStyle Analysis"
   ]
  },
  {
   "cell_type": "code",
   "execution_count": null,
   "id": "33e017a1",
   "metadata": {},
   "outputs": [],
   "source": [
    "train_df['HouseStyle'].value_counts(normalize=True).sort_values(ascending=False)"
   ]
  },
  {
   "cell_type": "markdown",
   "id": "2eb522d6",
   "metadata": {},
   "source": [
    "**HouseStyle** has major proportions twards **One Story**, **Two Story** and **One and one-half story: 2nd level unfinished**"
   ]
  },
  {
   "cell_type": "markdown",
   "id": "b4e0e0b9",
   "metadata": {},
   "source": [
    "### Functional Analysis"
   ]
  },
  {
   "cell_type": "code",
   "execution_count": null,
   "id": "6e7cb2b4",
   "metadata": {},
   "outputs": [],
   "source": [
    "train_df['Functional'].value_counts(normalize=True).sort_values(ascending=False)"
   ]
  },
  {
   "cell_type": "markdown",
   "id": "268610c2",
   "metadata": {},
   "source": [
    "**Functional** column has large proportion twards **Typical Functionality**"
   ]
  },
  {
   "cell_type": "markdown",
   "id": "bf97b19a",
   "metadata": {},
   "source": [
    "### SaleCondition Analysis"
   ]
  },
  {
   "cell_type": "code",
   "execution_count": null,
   "id": "c3feb2a1",
   "metadata": {},
   "outputs": [],
   "source": [
    "train_df['SaleCondition'].value_counts(normalize=True).sort_values(ascending=False)"
   ]
  },
  {
   "cell_type": "markdown",
   "id": "06143f0c",
   "metadata": {},
   "source": [
    "**SaleCondition** has large proportion in being **Normal**"
   ]
  },
  {
   "cell_type": "markdown",
   "id": "79af3a1d",
   "metadata": {},
   "source": [
    "### Heating Analysis"
   ]
  },
  {
   "cell_type": "code",
   "execution_count": null,
   "id": "bc1fc368",
   "metadata": {},
   "outputs": [],
   "source": [
    "train_df['Heating'].value_counts(normalize=True).sort_values(ascending=False)"
   ]
  },
  {
   "cell_type": "markdown",
   "id": "497066e3",
   "metadata": {},
   "source": [
    "**Heating** columns has large proportion twards **Gas forced warm air furnace**"
   ]
  },
  {
   "cell_type": "markdown",
   "id": "d6aa9e9e",
   "metadata": {},
   "source": [
    "## Cleaning Categorical Columns"
   ]
  },
  {
   "cell_type": "code",
   "execution_count": null,
   "id": "15feaa88",
   "metadata": {},
   "outputs": [],
   "source": [
    "## MSZoning Column\n",
    "train_df['zone_low_density'] = train_df['MSZoning'] == \"RL\"\n",
    "\n",
    "## HouseStyle Column\n",
    "train_df['one_story_style'] = train_df['HouseStyle'] == '1Story'\n",
    "train_df['two_story_style'] = train_df['HouseStyle'] == '2Story'\n",
    "train_df['one_half_story_style'] = train_df['HouseStyle'] == '1.5Fin'\n",
    "\n",
    "## Functional Column\n",
    "train_df['typical_functionality'] = train_df['Functional'] == 'Typ'\n",
    "\n",
    "## Sale Condition\n",
    "train_df['sale_normal_condition'] = train_df['SaleCondition'] == 'Normal'\n",
    "\n",
    "## Heating Column\n",
    "train_df['gas_heating'] = train_df['Heating'] == 'GasA'\n",
    "\n",
    "## conver to numeric values\n",
    "cols = ['zone_low_density', 'one_story_style', 'two_story_style', 'typical_functionality',\n",
    "        'one_half_story_style', 'gas_heating', 'sale_normal_condition']\n",
    "\n",
    "train_df[cols] = train_df[cols].astype('int')\n",
    "\n",
    "train_df[\n",
    "    ['zone_low_density', 'one_story_style', 'two_story_style', 'typical_functionality',\n",
    "     'one_half_story_style', 'gas_heating', 'sale_normal_condition']\n",
    "].head()"
   ]
  },
  {
   "cell_type": "markdown",
   "id": "cd2caffe",
   "metadata": {},
   "source": [
    "## Inspecting Numerical Columns"
   ]
  },
  {
   "cell_type": "code",
   "execution_count": null,
   "id": "0de8eb6d",
   "metadata": {},
   "outputs": [],
   "source": [
    "numeric_cols"
   ]
  },
  {
   "cell_type": "markdown",
   "id": "e68cb606",
   "metadata": {},
   "source": [
    "### MSSubClass Analysis\n",
    " - **20\t1-STORY 1946 & NEWER ALL STYLES**\n",
    " - 30\t1-STORY 1945 & OLDER\n",
    " - 40\t1-STORY W/FINISHED ATTIC ALL AGES\n",
    " - 45\t1-1/2 STORY - UNFINISHED ALL AGES\n",
    " - 50\t1-1/2 STORY FINISHED ALL AGES\n",
    " - **60\t2-STORY 1946 & NEWER**\n",
    " - 70\t2-STORY 1945 & OLDER\n",
    " - 75\t2-1/2 STORY ALL AGES\n",
    " - 80\tSPLIT OR MULTI-LEVEL\n",
    " - 85\tSPLIT FOYER\n",
    " - 90\tDUPLEX - ALL STYLES AND AGES\n",
    " - 120\t1-STORY PUD (Planned Unit Development) - 1946 & NEWER\n",
    " - 150\t1-1/2 STORY PUD - ALL AGES\n",
    " - 160\t2-STORY PUD - 1946 & NEWER\n",
    " - 180\tPUD - MULTILEVEL - INCL SPLIT LEV/FOYER\n",
    " - 190\t2 FAMILY CONVERSION - ALL STYLES AND AGES\n",
    " \n",
    " this column must be conveted to be **categorical column**"
   ]
  },
  {
   "cell_type": "code",
   "execution_count": null,
   "id": "99ab3c19",
   "metadata": {},
   "outputs": [],
   "source": [
    "train_df['MSSubClass'] = train_df['MSSubClass'].astype('object')\n",
    "\n",
    "train_df['MSSubClass'].value_counts(normalize=True).plot(kind='bar')\n",
    "plt.title(\"Count of each House Class\")\n",
    "plt.xlabel('Class')\n",
    "plt.ylabel('Count');"
   ]
  },
  {
   "cell_type": "markdown",
   "id": "1c90d798",
   "metadata": {},
   "source": [
    "### YearBuilt Analysis"
   ]
  },
  {
   "cell_type": "code",
   "execution_count": null,
   "id": "20259366",
   "metadata": {},
   "outputs": [],
   "source": [
    "(train_df['YearBuilt'].value_counts()\n",
    " [train_df['YearBuilt'].value_counts() > 20]\n",
    ").plot(kind='bar')"
   ]
  },
  {
   "cell_type": "markdown",
   "id": "a01e570a",
   "metadata": {},
   "source": [
    "### YearRemodAdd Analysis"
   ]
  },
  {
   "cell_type": "code",
   "execution_count": null,
   "id": "dc70a50a",
   "metadata": {},
   "outputs": [],
   "source": [
    "train_df['time_taken_to_remodel'] = train_df['YearRemodAdd'] - train_df['YearBuilt']\n",
    "train_df['time_taken_to_remodel'].describe()"
   ]
  },
  {
   "cell_type": "code",
   "execution_count": null,
   "id": "3a8a2c9e",
   "metadata": {},
   "outputs": [],
   "source": [
    "train_df['time_taken_to_sell'] = train_df['YrSold'] - train_df['YearBuilt']\n",
    "train_df['time_taken_to_sell'].describe()"
   ]
  },
  {
   "cell_type": "code",
   "execution_count": null,
   "id": "dc61cf52",
   "metadata": {},
   "outputs": [],
   "source": [
    "train_df['time_taken_to_sell_after_remodel'] = train_df['YrSold'] - train_df['YearRemodAdd']\n",
    "train_df['time_taken_to_sell_after_remodel'].describe()"
   ]
  },
  {
   "cell_type": "markdown",
   "id": "a27c3dab",
   "metadata": {},
   "source": [
    "on average it took **36 Years** to sell a house and **22 Year** to sell a house that has been **ReModeled**"
   ]
  },
  {
   "cell_type": "markdown",
   "id": "c0169567",
   "metadata": {},
   "source": [
    "### LotArea Analysis"
   ]
  },
  {
   "cell_type": "code",
   "execution_count": null,
   "id": "08dbaa42",
   "metadata": {},
   "outputs": [],
   "source": [
    "train_df['LotArea'].plot(kind='hist', bins=50)\n",
    "plt.title(\"Dist. of Lot Area\")\n",
    "plt.xlabel(\"Lot Area\")\n",
    "plt.ylabel('Count')\n",
    "plt.xlim([0, 50_000]);\n",
    "\n",
    "print(train_df['LotArea'].describe())\n"
   ]
  },
  {
   "cell_type": "markdown",
   "id": "a80cbadd",
   "metadata": {},
   "source": [
    "most of the houses has a Lot Area around **5,000** to **15,000** square feet"
   ]
  },
  {
   "cell_type": "markdown",
   "id": "0af231d1",
   "metadata": {},
   "source": [
    "### TotalBsmtSF"
   ]
  },
  {
   "cell_type": "code",
   "execution_count": null,
   "id": "bd94ca0b",
   "metadata": {},
   "outputs": [],
   "source": [
    "print(train_df['TotalBsmtSF'].describe())\n",
    "\n",
    "train_df['TotalBsmtSF'].plot(kind='hist', bins=50)\n",
    "plt.title(\"Dist. of Total Basment Area\")\n",
    "plt.xlabel(\"Basment Area\")\n",
    "plt.ylabel('Count');\n",
    "\n",
    "plt.xlim([0, 3000]);"
   ]
  },
  {
   "cell_type": "markdown",
   "id": "08321f52",
   "metadata": {},
   "source": [
    "most of the houses has a Basment Area from **500** to **1500**"
   ]
  },
  {
   "cell_type": "markdown",
   "id": "88c3fb76",
   "metadata": {},
   "source": [
    "### Bedroom and Bathroom Analysis"
   ]
  },
  {
   "cell_type": "code",
   "execution_count": null,
   "id": "6194204a",
   "metadata": {},
   "outputs": [],
   "source": [
    "train_df['BedroomAbvGr'].value_counts()"
   ]
  },
  {
   "cell_type": "code",
   "execution_count": null,
   "id": "f425e67c",
   "metadata": {
    "scrolled": true
   },
   "outputs": [],
   "source": [
    "train_df['FullBath'].value_counts()"
   ]
  },
  {
   "cell_type": "markdown",
   "id": "ce6277d0",
   "metadata": {},
   "source": [
    "most of the house have a **3, 2 or 4** bedrooms above the grade\n",
    "and **2 or 1** bathroom above the grade"
   ]
  },
  {
   "cell_type": "markdown",
   "id": "77355643",
   "metadata": {},
   "source": [
    "### OverallQual and OverallCond Analysis"
   ]
  },
  {
   "cell_type": "code",
   "execution_count": null,
   "id": "516aa7d8",
   "metadata": {},
   "outputs": [],
   "source": [
    "train_df['OverallQual'].value_counts().plot(kind='bar');\n",
    "plt.title(\"Quality of the House\")\n",
    "plt.xlabel(\"Quality Rating\")\n",
    "plt.ylabel(\"Count\");"
   ]
  },
  {
   "cell_type": "code",
   "execution_count": null,
   "id": "52a6c47a",
   "metadata": {},
   "outputs": [],
   "source": [
    "train_df['OverallCond'].value_counts().plot(kind='bar')\n",
    "plt.title(\"Condition of the House\")\n",
    "plt.xlabel(\"Condition Rating\")\n",
    "plt.ylabel(\"Count\");"
   ]
  },
  {
   "cell_type": "markdown",
   "id": "8c58d721",
   "metadata": {},
   "source": [
    "most of the houses have a rating condition and quality around **5 or 6**"
   ]
  },
  {
   "cell_type": "markdown",
   "id": "daff8ee5",
   "metadata": {},
   "source": [
    "### SalePrice Analysis"
   ]
  },
  {
   "cell_type": "code",
   "execution_count": null,
   "id": "1fa5446b",
   "metadata": {},
   "outputs": [],
   "source": [
    "print(train_df['SalePrice'].describe())\n",
    "\n",
    "train_df['SalePrice'].plot(kind='hist', bins=30)\n",
    "plt.title(\"Price of House\")\n",
    "plt.xlabel(\"Price\")\n",
    "plt.ylabel(\"Count\");"
   ]
  },
  {
   "cell_type": "markdown",
   "id": "fcfd896a",
   "metadata": {},
   "source": [
    "most houses has price ranging between **1,000,000** to **2,500,000** us dollars"
   ]
  },
  {
   "cell_type": "code",
   "execution_count": null,
   "id": "3c64d1b7",
   "metadata": {},
   "outputs": [],
   "source": [
    "plt.figure(figsize=(8, 5))\n",
    "sns.boxplot(data=train_df, x='SalePrice')\n",
    "plt.title(\"House Price Dist\");"
   ]
  },
  {
   "cell_type": "markdown",
   "id": "47060dfa",
   "metadata": {},
   "source": [
    "### Corrletation Matrix in the Dataset"
   ]
  },
  {
   "cell_type": "code",
   "execution_count": null,
   "id": "da7f8ef0",
   "metadata": {},
   "outputs": [],
   "source": [
    "corr = train_df.corr()\n",
    "\n",
    "fig, ax = plt.subplots(nrows=1, figsize=(15, 14))\n",
    "sns.heatmap(corr, ax=ax)\n",
    "ax.set_title(\"Correlation Matrix\");"
   ]
  },
  {
   "cell_type": "markdown",
   "id": "1f1532c7",
   "metadata": {},
   "source": [
    "### SalePrice vs OverallCond"
   ]
  },
  {
   "cell_type": "code",
   "execution_count": null,
   "id": "1888696b",
   "metadata": {},
   "outputs": [],
   "source": [
    "plt.figure(figsize=(8, 5))\n",
    "sns.boxplot(data=train_df, x='OverallCond', y='SalePrice', color=BASE_COLOR);\n",
    "plt.title(\"Sale Price by House Overall Condition\");"
   ]
  },
  {
   "cell_type": "markdown",
   "id": "1e14195c",
   "metadata": {},
   "source": [
    "### SalePrice vs TotalBsmtSF"
   ]
  },
  {
   "cell_type": "code",
   "execution_count": null,
   "id": "ab9f8bd1",
   "metadata": {},
   "outputs": [],
   "source": [
    "plt.figure(figsize=(8, 5))\n",
    "sns.regplot(data=train_df, x='TotalBsmtSF', y='SalePrice', color=BASE_COLOR);\n",
    "plt.title(\"Sale Price by House Basment Area\");"
   ]
  },
  {
   "cell_type": "markdown",
   "id": "d56d8a93",
   "metadata": {},
   "source": [
    "the relation shows existance of outlier point at **6000** so, it would be better it we remove it"
   ]
  },
  {
   "cell_type": "code",
   "execution_count": null,
   "id": "6a39a9d0",
   "metadata": {},
   "outputs": [],
   "source": [
    "train_df.drop(train_df[train_df['TotalBsmtSF'] > 5000].index, inplace=True)\n",
    "train_df[train_df['TotalBsmtSF'] > 5000]"
   ]
  },
  {
   "cell_type": "code",
   "execution_count": null,
   "id": "b2d7cba7",
   "metadata": {},
   "outputs": [],
   "source": [
    "plt.figure(figsize=(8, 5))\n",
    "sns.regplot(data=train_df, x='TotalBsmtSF', y='SalePrice', line_kws=dict(color='r'));\n",
    "plt.title(\"Sale Price by House Basment Area\");"
   ]
  },
  {
   "cell_type": "markdown",
   "id": "587d5376",
   "metadata": {},
   "source": [
    "### SalePrice vs GrLivArea"
   ]
  },
  {
   "cell_type": "code",
   "execution_count": null,
   "id": "bc0e6498",
   "metadata": {},
   "outputs": [],
   "source": [
    "plt.figure(figsize=(8, 5))\n",
    "sns.regplot(data=train_df,  x='GrLivArea', y='SalePrice', line_kws=dict(color='r'));\n",
    "plt.title(\"Sale Price by House Basment Area\");"
   ]
  },
  {
   "cell_type": "markdown",
   "id": "cde1c6f0",
   "metadata": {},
   "source": [
    "there is outliers in the GrLivArea greater than **4000** so removing it"
   ]
  },
  {
   "cell_type": "code",
   "execution_count": null,
   "id": "0f4f4623",
   "metadata": {},
   "outputs": [],
   "source": [
    "train_df.drop(train_df[train_df['GrLivArea'] > 4000].index, inplace=True)\n",
    "train_df[train_df['GrLivArea'] > 4000]"
   ]
  },
  {
   "cell_type": "code",
   "execution_count": null,
   "id": "626eea5d",
   "metadata": {},
   "outputs": [],
   "source": [
    "plt.figure(figsize=(8, 5))\n",
    "sns.regplot(data=train_df, x='GrLivArea', y='SalePrice', line_kws=dict(color='r'));\n",
    "plt.title(\"Sale Price by House Ground Area\");"
   ]
  },
  {
   "cell_type": "markdown",
   "id": "77c6e0b8",
   "metadata": {},
   "source": [
    "### GarageArea vs SalePrice"
   ]
  },
  {
   "cell_type": "code",
   "execution_count": null,
   "id": "75c82ce2",
   "metadata": {},
   "outputs": [],
   "source": [
    "plt.figure(figsize=(8, 5))\n",
    "sns.regplot(data=train_df, x='GarageArea', y='SalePrice', line_kws=dict(color='r'));\n",
    "plt.title(\"Sale Price by Garage Area\");"
   ]
  },
  {
   "cell_type": "markdown",
   "id": "57cbbc66",
   "metadata": {},
   "source": [
    "positive correlation indicating an increase in price as the garage area increases."
   ]
  },
  {
   "cell_type": "markdown",
   "id": "20e4bf00",
   "metadata": {},
   "source": [
    "### GarageCars vs SalePrice"
   ]
  },
  {
   "cell_type": "code",
   "execution_count": null,
   "id": "a0f8c6f5",
   "metadata": {},
   "outputs": [],
   "source": [
    "plt.figure(figsize=(8, 5))\n",
    "sns.boxplot(data=train_df, x='GarageCars', y='SalePrice', color=BASE_COLOR);\n",
    "plt.title(\"Sale Price by Number of Cars in Garage\");"
   ]
  },
  {
   "cell_type": "markdown",
   "id": "3f7029ed",
   "metadata": {},
   "source": [
    "positive correlation indicating an increase in price as number of cars garage can fit increases"
   ]
  },
  {
   "cell_type": "code",
   "execution_count": null,
   "id": "7522c8e4",
   "metadata": {},
   "outputs": [],
   "source": [
    "## GarageCars vs GarageArea\n",
    "## False correlation or colinearity in the dataset\n",
    "## Does make sense\n",
    "\n",
    "plt.figure(figsize=(8, 5))\n",
    "sns.boxplot(data=train_df, x='GarageCars', y='GarageArea', color=BASE_COLOR);"
   ]
  },
  {
   "cell_type": "markdown",
   "id": "f51142db",
   "metadata": {},
   "source": [
    "### SalePrice vs FullBath"
   ]
  },
  {
   "cell_type": "code",
   "execution_count": null,
   "id": "a74d959f",
   "metadata": {},
   "outputs": [],
   "source": [
    "plt.figure(figsize=(8, 5))\n",
    "sns.boxplot(data=train_df, x='FullBath', y='SalePrice', color=BASE_COLOR);\n",
    "plt.title(\"Sale Price by Number of Bathrooms\");"
   ]
  },
  {
   "cell_type": "code",
   "execution_count": null,
   "id": "90a097bf",
   "metadata": {},
   "outputs": [],
   "source": []
  },
  {
   "cell_type": "markdown",
   "id": "def74ea2",
   "metadata": {},
   "source": [
    "# Statmodels OLS Model Analysis"
   ]
  },
  {
   "cell_type": "code",
   "execution_count": null,
   "id": "00cb4e76",
   "metadata": {},
   "outputs": [],
   "source": [
    "ols_df = train_df.select_dtypes('number')\n",
    "ols_df.head()"
   ]
  },
  {
   "cell_type": "code",
   "execution_count": null,
   "id": "b34405ca",
   "metadata": {},
   "outputs": [],
   "source": [
    "ols_df = ols_df.drop(['YrSold', 'YearBuilt', 'YearRemodAdd', 'Id'], axis='columns')\n",
    "ols_df"
   ]
  },
  {
   "cell_type": "code",
   "execution_count": null,
   "id": "b0322d26",
   "metadata": {},
   "outputs": [],
   "source": [
    "ols_df['intercept'] = 1"
   ]
  },
  {
   "cell_type": "code",
   "execution_count": null,
   "id": "e122ac04",
   "metadata": {},
   "outputs": [],
   "source": [
    "ols_model = OLS(ols_df['SalePrice'], ols_df.drop('SalePrice', axis='columns'))\n",
    "result = ols_model.fit()\n",
    "result.summary()"
   ]
  },
  {
   "cell_type": "markdown",
   "id": "11adb2f5",
   "metadata": {},
   "source": [
    "# Sklearn Models Analysis"
   ]
  },
  {
   "cell_type": "code",
   "execution_count": null,
   "id": "b155290b",
   "metadata": {},
   "outputs": [],
   "source": [
    "features_cols = [\n",
    "    \"time_taken_to_sell\",\n",
    "    \"OverallQual\",\n",
    "    \"OverallCond\",\n",
    "    \"MasVnrArea\",\n",
    "    \"TotalBsmtSF\",\n",
    "    \"GrLivArea\",\n",
    "    \"BedroomAbvGr\",\n",
    "    \"TotRmsAbvGrd\",\n",
    "    \"GarageArea\",\n",
    "    \"ScreenPorch\",\n",
    "    \"zone_low_density\",\n",
    "    \"typical_functionality\",\n",
    "    \"sale_normal_condition\",\n",
    "]"
   ]
  },
  {
   "cell_type": "code",
   "execution_count": null,
   "id": "45c5db17",
   "metadata": {},
   "outputs": [],
   "source": [
    "features_df = train_df[features_cols]\n",
    "features_df.head()"
   ]
  },
  {
   "cell_type": "code",
   "execution_count": null,
   "id": "ee48c051",
   "metadata": {},
   "outputs": [],
   "source": [
    "X = features_df.values\n",
    "y = train_df['SalePrice']"
   ]
  },
  {
   "cell_type": "code",
   "execution_count": null,
   "id": "e20bd859",
   "metadata": {},
   "outputs": [],
   "source": [
    "sc = StandardScaler()\n",
    "\n",
    "X = sc.fit_transform(X)\n",
    "X"
   ]
  },
  {
   "cell_type": "code",
   "execution_count": null,
   "id": "a30cd346",
   "metadata": {},
   "outputs": [],
   "source": [
    "x_train, x_test, y_train, y_test = train_test_split(X, y, test_size=TEST_SIZE, \n",
    "                                                    random_state=RANDOM_STATE)\n",
    "\n",
    "assert x_train.shape[1] == x_test.shape[1]"
   ]
  },
  {
   "cell_type": "markdown",
   "id": "ea27e634",
   "metadata": {},
   "source": [
    "## Linear Model"
   ]
  },
  {
   "cell_type": "code",
   "execution_count": null,
   "id": "f922d38f",
   "metadata": {},
   "outputs": [],
   "source": [
    "lm = LinearRegression()\n",
    "lm.fit(x_train, y_train)\n",
    "lm_preds = lm.predict(x_test)\n",
    "\n",
    "print(\"R2 Score for Linear Model : \", lm.score(x_test, y_test))\n",
    "print(\"RMSE for Linear Model : \", np.sqrt(mean_squared_error(y_test, lm_preds)))"
   ]
  },
  {
   "cell_type": "markdown",
   "id": "d5b614c6",
   "metadata": {},
   "source": [
    "## RandomForest Model"
   ]
  },
  {
   "cell_type": "code",
   "execution_count": null,
   "id": "f5711628",
   "metadata": {},
   "outputs": [],
   "source": [
    "rf_model = RandomForestRegressor()\n",
    "rf_model.fit(x_train, y_train)\n",
    "rf_preds = rf_model.predict(x_test)\n",
    "\n",
    "print(\"R2 Score for Random Forest Model : \", rf_model.score(x_test, y_test))\n",
    "print(\"RMSE for Random Forest Model : \", np.sqrt(mean_squared_error(y_test, rf_preds)))"
   ]
  },
  {
   "cell_type": "markdown",
   "id": "a1810191",
   "metadata": {},
   "source": [
    "## DecisionTreeRegressor Model"
   ]
  },
  {
   "cell_type": "code",
   "execution_count": null,
   "id": "b8e016d0",
   "metadata": {},
   "outputs": [],
   "source": [
    "dt_model = DecisionTreeRegressor()\n",
    "dt_model.fit(x_train, y_train)\n",
    "dt_preds = dt_model.predict(x_test)\n",
    "\n",
    "print(\"R2 Score for Decision Tree Model : \", rf_model.score(x_test, y_test))\n",
    "print(\"RMSE for Decision Tree Model : \", np.sqrt(mean_squared_error(y_test, dt_preds)))"
   ]
  },
  {
   "cell_type": "markdown",
   "id": "d3b150cb",
   "metadata": {},
   "source": [
    "**Random Forest Model** is the best till this moment with **RMSE = 25126.752** and **R2 = 0.8797** and I will use to predict the test dataframe"
   ]
  },
  {
   "cell_type": "markdown",
   "id": "e8ae9885",
   "metadata": {},
   "source": [
    "## Generating Prediction on Test DataFrame"
   ]
  },
  {
   "cell_type": "markdown",
   "id": "5258b498",
   "metadata": {},
   "source": [
    "### Cleaning Test Dataset like in Train Dataset"
   ]
  },
  {
   "cell_type": "code",
   "execution_count": null,
   "id": "884ee5ef",
   "metadata": {},
   "outputs": [],
   "source": [
    "## MSZoning Column\n",
    "test_df['zone_low_density'] = test_df['MSZoning'] == \"RL\"\n",
    "\n",
    "## HouseStyle Column\n",
    "test_df['one_story_style'] = test_df['HouseStyle'] == '1Story'\n",
    "test_df['two_story_style'] = test_df['HouseStyle'] == '2Story'\n",
    "test_df['one_half_story_style'] = test_df['HouseStyle'] == '1.5Fin'\n",
    "\n",
    "## Functional Column\n",
    "test_df['typical_functionality'] = test_df['Functional'] == 'Typ'\n",
    "\n",
    "## Sale Condition\n",
    "test_df['sale_normal_condition'] = test_df['SaleCondition'] == 'Normal'\n",
    "\n",
    "## Heating Column\n",
    "test_df['gas_heating'] = test_df['Heating'] == 'GasA'\n",
    "\n",
    "## conver to numeric values\n",
    "cols = ['zone_low_density', 'one_story_style', 'two_story_style', 'typical_functionality',\n",
    "        'one_half_story_style', 'gas_heating', 'sale_normal_condition']\n",
    "\n",
    "test_df[cols] = test_df[cols].astype('int')\n",
    "\n",
    "# test_df[\n",
    "#     ['zone_low_density', 'one_story_style', 'two_story_style', 'typical_functionality',\n",
    "#      'one_half_story_style', 'gas_heating', 'sale_normal_condition']\n",
    "# ].head()"
   ]
  },
  {
   "cell_type": "code",
   "execution_count": null,
   "id": "aff60b72",
   "metadata": {},
   "outputs": [],
   "source": [
    "test_df['time_taken_to_sell'] = test_df['YrSold'] - test_df['YearBuilt']"
   ]
  },
  {
   "cell_type": "code",
   "execution_count": null,
   "id": "a19bfd0c",
   "metadata": {},
   "outputs": [],
   "source": [
    "test_features_df = test_df[features_cols]\n",
    "test_features_df.head()"
   ]
  },
  {
   "cell_type": "code",
   "execution_count": null,
   "id": "88ee9233",
   "metadata": {},
   "outputs": [],
   "source": [
    "test_features_df.isna().sum()"
   ]
  },
  {
   "cell_type": "code",
   "execution_count": null,
   "id": "c1180388",
   "metadata": {},
   "outputs": [],
   "source": [
    "test_features_df['MasVnrArea'].fillna(test_features_df['MasVnrArea'].mean(), inplace=True)\n",
    "test_features_df['TotalBsmtSF'].fillna(test_features_df['TotalBsmtSF'].mean(), inplace=True)\n",
    "test_features_df['GarageArea'].fillna(test_features_df['GarageArea'].mean(), inplace=True)\n",
    "\n",
    "assert len(test_features_df.isna().sum()[test_features_df.isna().sum() != 0]) == 0"
   ]
  },
  {
   "cell_type": "code",
   "execution_count": null,
   "id": "9488f3e0",
   "metadata": {},
   "outputs": [],
   "source": [
    "X_test = test_features_df.values\n",
    "X_test = sc.fit_transform(X_test)\n",
    "X_test"
   ]
  },
  {
   "cell_type": "markdown",
   "id": "45e825de",
   "metadata": {},
   "source": [
    "### Evaluating Best Machine Learning Model."
   ]
  },
  {
   "cell_type": "code",
   "execution_count": null,
   "id": "4333d8ad",
   "metadata": {},
   "outputs": [],
   "source": [
    "test_preds = rf_model.predict(X_test)\n",
    "test_preds"
   ]
  },
  {
   "cell_type": "code",
   "execution_count": null,
   "id": "485e6ecf",
   "metadata": {},
   "outputs": [],
   "source": [
    "test_df['SalePrice'] = test_preds\n",
    "test_df[['Id', 'SalePrice']].head()"
   ]
  },
  {
   "cell_type": "code",
   "execution_count": null,
   "id": "3cbc728b",
   "metadata": {},
   "outputs": [],
   "source": [
    "## exporting the predictions to csv\n",
    "test_df[['Id', 'SalePrice']].to_csv('predictions_1.csv', index=False)"
   ]
  },
  {
   "cell_type": "markdown",
   "id": "34b69098",
   "metadata": {},
   "source": [
    "## PyTorch Neural Network Model"
   ]
  },
  {
   "cell_type": "code",
   "execution_count": null,
   "id": "baeba291",
   "metadata": {
    "scrolled": true
   },
   "outputs": [],
   "source": [
    "class HouseDataset(Dataset):\n",
    "    def __init__(self, x_data, y_data, transform=None):\n",
    "        \"\"\"\n",
    "        Args:\n",
    "            x_data (np.ndarray) : x_train data array\n",
    "            y_data (np.ndarray) : y_train data array\n",
    "            transform (callable, optional): Optional transform to be applied\n",
    "                on a sample.\n",
    "        \"\"\"\n",
    "        \n",
    "        self.x_data = x_data\n",
    "        self.y_data = y_data\n",
    "        self.transform = transform\n",
    "        \n",
    "    def __len__(self):\n",
    "        return self.x_data.shape[0]\n",
    "    \n",
    "    def __getitem__(self, idx):\n",
    "        if torch.is_tensor(idx):\n",
    "            idx = idx.tolist()\n",
    "            \n",
    "        if not isinstance(self.y_data, np.ndarray):\n",
    "            self.y_data = np.array(self.y_data)\n",
    "        \n",
    "        x_sample = self.x_data[idx]\n",
    "        y_sample = self.y_data[idx]\n",
    "        \n",
    "        if self.transform is not None:\n",
    "            x_sample = self.transform(x_sample)\n",
    "            \n",
    "        return x_sample, y_sample\n",
    "    \n",
    "    \n",
    "train_ds = HouseDataset(x_train, y_train)\n",
    "train_dl = DataLoader(train_ds, batch_size=BATCH_SIZE, shuffle=True)\n",
    "\n",
    "sample = next(iter(train_dl))\n",
    "sample[0], sample[1]"
   ]
  },
  {
   "cell_type": "code",
   "execution_count": null,
   "id": "98c33962",
   "metadata": {},
   "outputs": [],
   "source": [
    "class NNet(nn.Module):\n",
    "    def __init__(self, input_size: int, hidden_sizes: list, output_size: int=1) -> None:\n",
    "        super().__init__()\n",
    "        \n",
    "        self.fc1 = nn.Linear(input_size, hidden_sizes[0])\n",
    "        self.fc2 = nn.Linear(hidden_sizes[0], hidden_sizes[1])\n",
    "        self.fc3 = nn.Linear(hidden_sizes[1], hidden_sizes[2])\n",
    "        self.fc4 = nn.Linear(hidden_sizes[2], output_size)\n",
    "    \n",
    "    def forward(self, x):\n",
    "        x = F.relu(self.fc1(x))\n",
    "        x = F.relu(self.fc2(x))\n",
    "        x = F.relu(self.fc3(x))\n",
    "        out = self.fc4(x)\n",
    "        \n",
    "        return out\n",
    "\n",
    "class RMSELoss(nn.Module):\n",
    "    def __init__(self):\n",
    "        super().__init__()\n",
    "        \n",
    "        self.mse = nn.MSELoss()\n",
    "    \n",
    "    def forward(self, y_pred, y_true):\n",
    "        return torch.sqrt(self.mse(y_pred, y_true))\n"
   ]
  },
  {
   "cell_type": "code",
   "execution_count": null,
   "id": "01fb7e9a",
   "metadata": {},
   "outputs": [],
   "source": [
    "def train(train_dl, model, optimizer, criterion, epochs=100) -> list:\n",
    "    losses = []\n",
    "\n",
    "    print(\"{:<8}|{:>15}\".format(\"Epoch\", \"Loss\"))\n",
    "    print(\"=\"*24)\n",
    "    epoch_loss = 0\n",
    "    \n",
    "    for epoch in range(epochs):\n",
    "        epoch_losses = []\n",
    "        for x_batch, y_batch in train_dl:\n",
    "            \n",
    "            y_preds = model(x_batch.float())\n",
    "            loss = criterion(y_preds, y_batch.float())\n",
    "\n",
    "            optimizer.zero_grad()\n",
    "            loss.backward()\n",
    "            optimizer.step()\n",
    "            \n",
    "            epoch_loss += loss.item()\n",
    "            epoch_losses.append(loss.item())\n",
    "        \n",
    "        losses.append(np.mean(epoch_losses))\n",
    "        \n",
    "        if epoch % 10 == 0:\n",
    "            print(\"{:<8}|{:>15}\".format(epoch, round(np.mean(epoch_losses), 3)))\n",
    "\n",
    "    return losses\n"
   ]
  },
  {
   "cell_type": "code",
   "execution_count": null,
   "id": "0c68143c",
   "metadata": {
    "scrolled": true
   },
   "outputs": [],
   "source": [
    "## initializing mode\n",
    "n_feaures = x_train.shape[1]\n",
    "hidden_sizes = [32, 16, 8]\n",
    "output_size = 1\n",
    "\n",
    "model = NNet(n_feaures, hidden_sizes, output_size)\n",
    "\n",
    "print(model)\n",
    "\n",
    "## training Model\n",
    "optimizer = optim.Adam(model.parameters(), lr=LR)\n",
    "criterion = RMSELoss()\n",
    "\n",
    "losses = train(train_dl, model, optimizer, criterion, epochs=200)"
   ]
  },
  {
   "cell_type": "code",
   "execution_count": null,
   "id": "f8cd0da1",
   "metadata": {},
   "outputs": [],
   "source": [
    "%matplotlib inline\n",
    "\n",
    "fig, ax = plt.subplots(nrows=1, figsize=(10, 6))\n",
    "\n",
    "ax.plot(losses, 'r-', lw=2)\n",
    "ax.set_title(\"Torch Model Loss\")\n",
    "ax.set_xlabel(\"Epoch\")\n",
    "ax.set_ylabel(\"Loss\");\n",
    "ax.set_ylim([70000, 90000])"
   ]
  },
  {
   "cell_type": "code",
   "execution_count": null,
   "id": "ec52e044",
   "metadata": {},
   "outputs": [],
   "source": []
  }
 ],
 "metadata": {
  "kernelspec": {
   "display_name": "Python 3 (ipykernel)",
   "language": "python",
   "name": "python3"
  },
  "language_info": {
   "codemirror_mode": {
    "name": "ipython",
    "version": 3
   },
   "file_extension": ".py",
   "mimetype": "text/x-python",
   "name": "python",
   "nbconvert_exporter": "python",
   "pygments_lexer": "ipython3",
   "version": "3.9.7"
  }
 },
 "nbformat": 4,
 "nbformat_minor": 5
}
